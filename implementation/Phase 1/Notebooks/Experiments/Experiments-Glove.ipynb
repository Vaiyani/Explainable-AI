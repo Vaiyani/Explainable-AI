{
  "nbformat": 4,
  "nbformat_minor": 0,
  "metadata": {
    "colab": {
      "name": "Experiments-Glove.ipynb",
      "provenance": [],
      "collapsed_sections": []
    },
    "kernelspec": {
      "name": "python3",
      "display_name": "Python 3"
    }
  },
  "cells": [
    {
      "cell_type": "markdown",
      "metadata": {
        "id": "fT0c2K7fJlmn",
        "colab_type": "text"
      },
      "source": [
        "# Default Setup"
      ]
    },
    {
      "cell_type": "code",
      "metadata": {
        "id": "KCaXmjKFJjNq",
        "colab_type": "code",
        "colab": {
          "base_uri": "https://localhost:8080/",
          "height": 462
        },
        "outputId": "81a810ce-27f4-45bf-8f2e-957beadca3dc"
      },
      "source": [
        "# Dataloading Stuff\n",
        "from google.colab import drive\n",
        "from sys import path\n",
        "import os\n",
        "\n",
        "# Standard Stuff\n",
        "!pip3 install numpy sklearn iterative-stratification pandas\n",
        "import numpy as np\n",
        "import pandas as pd\n",
        "import matplotlib.pyplot as plt\n",
        "from sklearn.model_selection import train_test_split\n",
        "\n",
        "# Glove Stuff\n",
        "from scipy import spatial\n",
        "from sklearn.manifold import TSNE\n",
        "\n",
        "# Use SS3 Repo\n",
        "!rm -rf pyss3\n",
        "!git clone https://github.com/sergioburdisso/pyss3.git\n",
        "\n",
        "from pyss3.pyss3.__init__ import SS3\n",
        "from pyss3.pyss3.util import Dataset, Evaluation, span\n",
        "\n",
        "# Mount Google Drive\n",
        "drive.mount('/content/drive', force_remount=True)\n",
        "path_root = '/content/drive/My Drive/NLP Lab'\n",
        "path.append(path_root)\n",
        "data_root = '/data'\n",
        "multi_label_dir = '/SB1_Train_Multilabel'"
      ],
      "execution_count": 1,
      "outputs": [
        {
          "output_type": "stream",
          "text": [
            "Requirement already satisfied: numpy in /usr/local/lib/python3.6/dist-packages (1.18.5)\n",
            "Requirement already satisfied: sklearn in /usr/local/lib/python3.6/dist-packages (0.0)\n",
            "Collecting iterative-stratification\n",
            "  Downloading https://files.pythonhosted.org/packages/9d/79/9ba64c8c07b07b8b45d80725b2ebd7b7884701c1da34f70d4749f7b45f9a/iterative_stratification-0.1.6-py3-none-any.whl\n",
            "Requirement already satisfied: pandas in /usr/local/lib/python3.6/dist-packages (1.0.5)\n",
            "Requirement already satisfied: scikit-learn in /usr/local/lib/python3.6/dist-packages (from sklearn) (0.22.2.post1)\n",
            "Requirement already satisfied: scipy in /usr/local/lib/python3.6/dist-packages (from iterative-stratification) (1.4.1)\n",
            "Requirement already satisfied: pytz>=2017.2 in /usr/local/lib/python3.6/dist-packages (from pandas) (2018.9)\n",
            "Requirement already satisfied: python-dateutil>=2.6.1 in /usr/local/lib/python3.6/dist-packages (from pandas) (2.8.1)\n",
            "Requirement already satisfied: joblib>=0.11 in /usr/local/lib/python3.6/dist-packages (from scikit-learn->sklearn) (0.16.0)\n",
            "Requirement already satisfied: six>=1.5 in /usr/local/lib/python3.6/dist-packages (from python-dateutil>=2.6.1->pandas) (1.15.0)\n",
            "Installing collected packages: iterative-stratification\n",
            "Successfully installed iterative-stratification-0.1.6\n",
            "Cloning into 'pyss3'...\n",
            "remote: Enumerating objects: 66, done.\u001b[K\n",
            "remote: Counting objects: 100% (66/66), done.\u001b[K\n",
            "remote: Compressing objects: 100% (51/51), done.\u001b[K\n",
            "remote: Total 2032 (delta 30), reused 36 (delta 15), pack-reused 1966\u001b[K\n",
            "Receiving objects: 100% (2032/2032), 101.89 MiB | 35.26 MiB/s, done.\n",
            "Resolving deltas: 100% (1314/1314), done.\n",
            "Go to this URL in a browser: https://accounts.google.com/o/oauth2/auth?client_id=947318989803-6bn6qk8qdgf4n4g3pfee6491hc0brc4i.apps.googleusercontent.com&redirect_uri=urn%3aietf%3awg%3aoauth%3a2.0%3aoob&response_type=code&scope=email%20https%3a%2f%2fwww.googleapis.com%2fauth%2fdocs.test%20https%3a%2f%2fwww.googleapis.com%2fauth%2fdrive%20https%3a%2f%2fwww.googleapis.com%2fauth%2fdrive.photos.readonly%20https%3a%2f%2fwww.googleapis.com%2fauth%2fpeopleapi.readonly\n",
            "\n",
            "Enter your authorization code:\n",
            "··········\n",
            "Mounted at /content/drive\n"
          ],
          "name": "stdout"
        }
      ]
    },
    {
      "cell_type": "markdown",
      "metadata": {
        "id": "7spLzLAuJukq",
        "colab_type": "text"
      },
      "source": [
        "## Load Data"
      ]
    },
    {
      "cell_type": "code",
      "metadata": {
        "id": "LDeeUOXnJreo",
        "colab_type": "code",
        "colab": {
          "base_uri": "https://localhost:8080/",
          "height": 34
        },
        "outputId": "4c21230c-688e-43ae-e2ed-d6f30c285d1c"
      },
      "source": [
        "attribute = True\n",
        "if attribute:\n",
        "  text, labels = Dataset.load_from_files_multilabel(path_root + data_root + multi_label_dir + '/attribute-text.txt', path_root + data_root + multi_label_dir + '/attribute-labels.txt', sep_label=';')\n",
        "  X_train, X_val, y_train, y_val = train_test_split(text, labels, test_size=0.3)\n",
        "else:\n",
        "  text, labels = Dataset.load_from_files_multilabel(path_root + data_root + multi_label_dir + '/entity-text.txt', path_root + data_root + multi_label_dir + '/entity-labels.txt', sep_label=';')\n",
        "  X_train, X_val, y_train, y_val = train_test_split(text, labels, test_size=0.3)"
      ],
      "execution_count": 2,
      "outputs": [
        {
          "output_type": "stream",
          "text": [
            "100%|██████████| 3748/3748 [00:00<00:00, 316519.38it/s]\n"
          ],
          "name": "stderr"
        }
      ]
    },
    {
      "cell_type": "code",
      "metadata": {
        "id": "CG9N8poME6DQ",
        "colab_type": "code",
        "colab": {
          "base_uri": "https://localhost:8080/",
          "height": 221
        },
        "outputId": "63c3a355-48a2-4e33-ef17-c163f0351ddc"
      },
      "source": [
        "pd.Series([label for attr_label in labels for label in attr_label]).value_counts()"
      ],
      "execution_count": 3,
      "outputs": [
        {
          "output_type": "execute_result",
          "data": {
            "text/plain": [
              "general                  1802\n",
              "quality                  1233\n",
              "operation_performance     447\n",
              "design_features           357\n",
              "miscellaneous             260\n",
              "usability                 229\n",
              "prices                    177\n",
              "style_options             156\n",
              "price                     147\n",
              "connectivity               55\n",
              "portability                51\n",
              "dtype: int64"
            ]
          },
          "metadata": {
            "tags": []
          },
          "execution_count": 3
        }
      ]
    },
    {
      "cell_type": "markdown",
      "metadata": {
        "id": "1-0ZOco9oQra",
        "colab_type": "text"
      },
      "source": [
        "## Load Glove Embeddings"
      ]
    },
    {
      "cell_type": "code",
      "metadata": {
        "id": "z5jqCzLeXDEt",
        "colab_type": "code",
        "colab": {
          "base_uri": "https://localhost:8080/",
          "height": 357
        },
        "outputId": "e298fe04-bcd4-4f59-ad75-33dc8b1001b7"
      },
      "source": [
        "# https://gist.github.com/EvolvedSquid/03b002ae0a623c2d2ecab378255b7aaa#file-get_closest_embeddings-py\n",
        "embeddings_dict = {}\n",
        "with open(\"/content/drive/My Drive/NLP Lab/data/glove.840B.300d.txt\", 'r', encoding=\"utf-8\") as files:\n",
        "  for line in files:\n",
        "    values = line.split()\n",
        "    word = values[0]\n",
        "    try:\n",
        "      vector = np.asarray(values[1:], \"float32\")\n",
        "      if len(vector) == 300: ## Unfortunately there are some entries not correct\n",
        "        embeddings_dict[word] = vector\n",
        "    except:\n",
        "      print(\"Failed:\", word, values[1])"
      ],
      "execution_count": 4,
      "outputs": [
        {
          "output_type": "stream",
          "text": [
            "Failed: . .\n",
            "Failed: at name@domain.com\n",
            "Failed: . .\n",
            "Failed: to name@domain.com\n",
            "Failed: . .\n",
            "Failed: . .\n",
            "Failed: email name@domain.com\n",
            "Failed: or name@domain.com\n",
            "Failed: contact name@domain.com\n",
            "Failed: Email name@domain.com\n",
            "Failed: on name@domain.com\n",
            "Failed: At Killerseats.com\n",
            "Failed: by name@domain.com\n",
            "Failed: in mylot.com\n",
            "Failed: emailing name@domain.com\n",
            "Failed: Contact name@domain.com\n",
            "Failed: at name@domain.com\n",
            "Failed: • name@domain.com\n",
            "Failed: at Amazon.com\n",
            "Failed: is name@domain.com\n"
          ],
          "name": "stdout"
        }
      ]
    },
    {
      "cell_type": "markdown",
      "metadata": {
        "id": "H60ZuHNsoc7o",
        "colab_type": "text"
      },
      "source": [
        "## Get NLTK Stuff ready"
      ]
    },
    {
      "cell_type": "code",
      "metadata": {
        "id": "ZzCAdFi-XZqK",
        "colab_type": "code",
        "colab": {
          "base_uri": "https://localhost:8080/",
          "height": 119
        },
        "outputId": "b382b87a-5aea-414c-f571-1c725110ea77"
      },
      "source": [
        "!pip3 install nltk\n",
        "from nltk.corpus import stopwords\n",
        "from nltk.tokenize import word_tokenize \n",
        "from nltk import download\n",
        "\n",
        "download('stopwords')\n",
        "download('punkt')\n",
        "\n",
        "stop_words = set(stopwords.words('english'))"
      ],
      "execution_count": 5,
      "outputs": [
        {
          "output_type": "stream",
          "text": [
            "Requirement already satisfied: nltk in /usr/local/lib/python3.6/dist-packages (3.2.5)\n",
            "Requirement already satisfied: six in /usr/local/lib/python3.6/dist-packages (from nltk) (1.15.0)\n",
            "[nltk_data] Downloading package stopwords to /root/nltk_data...\n",
            "[nltk_data]   Unzipping corpora/stopwords.zip.\n",
            "[nltk_data] Downloading package punkt to /root/nltk_data...\n",
            "[nltk_data]   Unzipping tokenizers/punkt.zip.\n"
          ],
          "name": "stdout"
        }
      ]
    },
    {
      "cell_type": "markdown",
      "metadata": {
        "id": "zMYgwNvusbx-",
        "colab_type": "text"
      },
      "source": [
        "## Tokenize and Filter Stopwords"
      ]
    },
    {
      "cell_type": "code",
      "metadata": {
        "id": "dRdCrVFcZsU5",
        "colab_type": "code",
        "colab": {
          "base_uri": "https://localhost:8080/",
          "height": 170
        },
        "outputId": "fdf3ae3c-e10f-4c8f-b0e4-32a3562b9b09"
      },
      "source": [
        "def tokenize_samples(samples):\n",
        "  return list(map(word_tokenize, samples))\n",
        "\n",
        "def filter_stop_words(token_samples):\n",
        "  return list(map(lambda x: [w for w in x if w not in stop_words], token_samples))\n",
        "\n",
        "X_train_tok = tokenize_samples(X_train)\n",
        "X_train_filtered = filter_stop_words(X_train_tok)\n",
        "\n",
        "token_test = tokenize_samples([\"This is a sample sentence, showing off the stop words filtration.\"])\n",
        "filter_test = filter_stop_words(token_test)\n",
        "filter_test"
      ],
      "execution_count": 6,
      "outputs": [
        {
          "output_type": "execute_result",
          "data": {
            "text/plain": [
              "[['This',\n",
              "  'sample',\n",
              "  'sentence',\n",
              "  ',',\n",
              "  'showing',\n",
              "  'stop',\n",
              "  'words',\n",
              "  'filtration',\n",
              "  '.']]"
            ]
          },
          "metadata": {
            "tags": []
          },
          "execution_count": 6
        }
      ]
    },
    {
      "cell_type": "markdown",
      "metadata": {
        "id": "tiSgfD89shVh",
        "colab_type": "text"
      },
      "source": [
        "## Enhance with words found by glove embedding"
      ]
    },
    {
      "cell_type": "code",
      "metadata": {
        "id": "u_BiEiBppNvT",
        "colab_type": "code",
        "colab": {}
      },
      "source": [
        "def find_closest_embeddings_word(embedding, num_words):\n",
        "  return sorted(embeddings_dict.keys(), key=lambda word: spatial.distance.euclidean(embeddings_dict[word], embedding))[1:num_words+1]\n",
        "\n",
        "def enhance_with_glove_stupid(filtered_words, num_words):\n",
        "  for sample in filtered_words:\n",
        "    for word in sample:\n",
        "      closest = find_closest_embeddings_word(embeddings_dict[word], num_words)\n",
        "    return word, closest\n",
        "\n",
        "\n",
        "def enhance_with_glove(filtered_words, num_words):\n",
        "  enhanced_words = []\n",
        "  for sample in filtered_words:\n",
        "    print(\"Before:\", sample)\n",
        "    closest_words = [find_closest_embeddings_word(embeddings_dict[word], num_words) for word in sample]\n",
        "    for closest in closest_words:\n",
        "      sample.extend(closest)\n",
        "    enhanced_words.append(sample)\n",
        "    print(\"After:\", sample)\n",
        "  return enhanced_words\n",
        "\n",
        "#enhance_with_glove([['This']], 2)"
      ],
      "execution_count": 7,
      "outputs": []
    },
    {
      "cell_type": "markdown",
      "metadata": {
        "id": "fGk5RU9u40dz",
        "colab_type": "text"
      },
      "source": [
        "## Definitely a nice try, but runtime complexity is definitely to high\n",
        "So lets try out something different. We will first use a smaller glove embedding."
      ]
    },
    {
      "cell_type": "code",
      "metadata": {
        "id": "4Rk6XkA05nTj",
        "colab_type": "code",
        "colab": {}
      },
      "source": [
        "embeddings_dict_small = {}\n",
        "with open(\"/content/drive/My Drive/NLP Lab/data/glove.6B.50d.txt\", 'r', encoding=\"utf-8\") as files:\n",
        "  for line in files:\n",
        "    values = line.split()\n",
        "    word = values[0]\n",
        "    try:\n",
        "      vector = np.asarray(values[1:], \"float32\")\n",
        "      if len(vector) == 50: ## Unfortunately there are some entries not correct\n",
        "        embeddings_dict_small[word] = vector\n",
        "    except:\n",
        "      print(\"Failed:\", word, values[1])"
      ],
      "execution_count": 8,
      "outputs": []
    },
    {
      "cell_type": "code",
      "metadata": {
        "id": "gB2AsFT45uen",
        "colab_type": "code",
        "colab": {
          "base_uri": "https://localhost:8080/",
          "height": 358
        },
        "outputId": "ae48532f-40fa-4b4d-8de5-2664847eb0e5"
      },
      "source": [
        "def find_closest_embeddings_word_small(embedding, num_words):\n",
        "  print(\"Embedding\")\n",
        "  return sorted(embeddings_dict_small.keys(), key=lambda word: spatial.distance.euclidean(embeddings_dict_small[word], embedding))[1:num_words+1]\n",
        "\n",
        "def enhance_with_glove_small(filtered_words, num_words):\n",
        "  enhanced_words = []\n",
        "  for sample in filtered_words:\n",
        "    print(\"Before:\", sample)\n",
        "    closest_words = [find_closest_embeddings_word_small(embeddings_dict_small[word], num_words) for word in sample]\n",
        "    for closest in closest_words:\n",
        "      sample.extend(closest)\n",
        "    enhanced_words.append(sample)\n",
        "    print(\"After:\", sample)\n",
        "  return enhanced_words\n",
        "\n",
        "enhance_with_glove_small([['Soccer']], 2)"
      ],
      "execution_count": 9,
      "outputs": [
        {
          "output_type": "stream",
          "text": [
            "Before: ['Soccer']\n"
          ],
          "name": "stdout"
        },
        {
          "output_type": "error",
          "ename": "KeyError",
          "evalue": "ignored",
          "traceback": [
            "\u001b[0;31m---------------------------------------------------------------------------\u001b[0m",
            "\u001b[0;31mKeyError\u001b[0m                                  Traceback (most recent call last)",
            "\u001b[0;32m<ipython-input-9-fa6b56fe2e03>\u001b[0m in \u001b[0;36m<module>\u001b[0;34m()\u001b[0m\n\u001b[1;32m     14\u001b[0m   \u001b[0;32mreturn\u001b[0m \u001b[0menhanced_words\u001b[0m\u001b[0;34m\u001b[0m\u001b[0;34m\u001b[0m\u001b[0m\n\u001b[1;32m     15\u001b[0m \u001b[0;34m\u001b[0m\u001b[0m\n\u001b[0;32m---> 16\u001b[0;31m \u001b[0menhance_with_glove_small\u001b[0m\u001b[0;34m(\u001b[0m\u001b[0;34m[\u001b[0m\u001b[0;34m[\u001b[0m\u001b[0;34m'Soccer'\u001b[0m\u001b[0;34m]\u001b[0m\u001b[0;34m]\u001b[0m\u001b[0;34m,\u001b[0m \u001b[0;36m2\u001b[0m\u001b[0;34m)\u001b[0m\u001b[0;34m\u001b[0m\u001b[0;34m\u001b[0m\u001b[0m\n\u001b[0m",
            "\u001b[0;32m<ipython-input-9-fa6b56fe2e03>\u001b[0m in \u001b[0;36menhance_with_glove_small\u001b[0;34m(filtered_words, num_words)\u001b[0m\n\u001b[1;32m      7\u001b[0m   \u001b[0;32mfor\u001b[0m \u001b[0msample\u001b[0m \u001b[0;32min\u001b[0m \u001b[0mfiltered_words\u001b[0m\u001b[0;34m:\u001b[0m\u001b[0;34m\u001b[0m\u001b[0;34m\u001b[0m\u001b[0m\n\u001b[1;32m      8\u001b[0m     \u001b[0mprint\u001b[0m\u001b[0;34m(\u001b[0m\u001b[0;34m\"Before:\"\u001b[0m\u001b[0;34m,\u001b[0m \u001b[0msample\u001b[0m\u001b[0;34m)\u001b[0m\u001b[0;34m\u001b[0m\u001b[0;34m\u001b[0m\u001b[0m\n\u001b[0;32m----> 9\u001b[0;31m     \u001b[0mclosest_words\u001b[0m \u001b[0;34m=\u001b[0m \u001b[0;34m[\u001b[0m\u001b[0mfind_closest_embeddings_word_small\u001b[0m\u001b[0;34m(\u001b[0m\u001b[0membeddings_dict_small\u001b[0m\u001b[0;34m[\u001b[0m\u001b[0mword\u001b[0m\u001b[0;34m]\u001b[0m\u001b[0;34m,\u001b[0m \u001b[0mnum_words\u001b[0m\u001b[0;34m)\u001b[0m \u001b[0;32mfor\u001b[0m \u001b[0mword\u001b[0m \u001b[0;32min\u001b[0m \u001b[0msample\u001b[0m\u001b[0;34m]\u001b[0m\u001b[0;34m\u001b[0m\u001b[0;34m\u001b[0m\u001b[0m\n\u001b[0m\u001b[1;32m     10\u001b[0m     \u001b[0;32mfor\u001b[0m \u001b[0mclosest\u001b[0m \u001b[0;32min\u001b[0m \u001b[0mclosest_words\u001b[0m\u001b[0;34m:\u001b[0m\u001b[0;34m\u001b[0m\u001b[0;34m\u001b[0m\u001b[0m\n\u001b[1;32m     11\u001b[0m       \u001b[0msample\u001b[0m\u001b[0;34m.\u001b[0m\u001b[0mextend\u001b[0m\u001b[0;34m(\u001b[0m\u001b[0mclosest\u001b[0m\u001b[0;34m)\u001b[0m\u001b[0;34m\u001b[0m\u001b[0;34m\u001b[0m\u001b[0m\n",
            "\u001b[0;32m<ipython-input-9-fa6b56fe2e03>\u001b[0m in \u001b[0;36m<listcomp>\u001b[0;34m(.0)\u001b[0m\n\u001b[1;32m      7\u001b[0m   \u001b[0;32mfor\u001b[0m \u001b[0msample\u001b[0m \u001b[0;32min\u001b[0m \u001b[0mfiltered_words\u001b[0m\u001b[0;34m:\u001b[0m\u001b[0;34m\u001b[0m\u001b[0;34m\u001b[0m\u001b[0m\n\u001b[1;32m      8\u001b[0m     \u001b[0mprint\u001b[0m\u001b[0;34m(\u001b[0m\u001b[0;34m\"Before:\"\u001b[0m\u001b[0;34m,\u001b[0m \u001b[0msample\u001b[0m\u001b[0;34m)\u001b[0m\u001b[0;34m\u001b[0m\u001b[0;34m\u001b[0m\u001b[0m\n\u001b[0;32m----> 9\u001b[0;31m     \u001b[0mclosest_words\u001b[0m \u001b[0;34m=\u001b[0m \u001b[0;34m[\u001b[0m\u001b[0mfind_closest_embeddings_word_small\u001b[0m\u001b[0;34m(\u001b[0m\u001b[0membeddings_dict_small\u001b[0m\u001b[0;34m[\u001b[0m\u001b[0mword\u001b[0m\u001b[0;34m]\u001b[0m\u001b[0;34m,\u001b[0m \u001b[0mnum_words\u001b[0m\u001b[0;34m)\u001b[0m \u001b[0;32mfor\u001b[0m \u001b[0mword\u001b[0m \u001b[0;32min\u001b[0m \u001b[0msample\u001b[0m\u001b[0;34m]\u001b[0m\u001b[0;34m\u001b[0m\u001b[0;34m\u001b[0m\u001b[0m\n\u001b[0m\u001b[1;32m     10\u001b[0m     \u001b[0;32mfor\u001b[0m \u001b[0mclosest\u001b[0m \u001b[0;32min\u001b[0m \u001b[0mclosest_words\u001b[0m\u001b[0;34m:\u001b[0m\u001b[0;34m\u001b[0m\u001b[0;34m\u001b[0m\u001b[0m\n\u001b[1;32m     11\u001b[0m       \u001b[0msample\u001b[0m\u001b[0;34m.\u001b[0m\u001b[0mextend\u001b[0m\u001b[0;34m(\u001b[0m\u001b[0mclosest\u001b[0m\u001b[0;34m)\u001b[0m\u001b[0;34m\u001b[0m\u001b[0;34m\u001b[0m\u001b[0m\n",
            "\u001b[0;31mKeyError\u001b[0m: 'Soccer'"
          ]
        }
      ]
    },
    {
      "cell_type": "markdown",
      "metadata": {
        "id": "evXYwvCx7Hsr",
        "colab_type": "text"
      },
      "source": [
        "## As one can see, that doesn't make sense, since a lot of words are not in there. \n",
        "So next approach is to go through the vocabulary and calculate these words for each vocab in there."
      ]
    },
    {
      "cell_type": "code",
      "metadata": {
        "id": "S9gOwgAW6G1k",
        "colab_type": "code",
        "colab": {}
      },
      "source": [
        "vocabulary = pd.read_csv(path_root + data_root + '/vocabulary-attribute/vocab_cv.csv')"
      ],
      "execution_count": 10,
      "outputs": []
    },
    {
      "cell_type": "code",
      "metadata": {
        "id": "9_S_8LR783t2",
        "colab_type": "code",
        "colab": {
          "base_uri": "https://localhost:8080/",
          "height": 392
        },
        "outputId": "015bcc1d-388f-4344-b571-73b323d32fc0"
      },
      "source": [
        "import time\n",
        "\n",
        "closest_mapping = {}\n",
        "counter = 0\n",
        "for word in vocabulary['term']:\n",
        "  print(len(vocabulary['term']) - counter, \" words to go\")\n",
        "  start = time.time()\n",
        "  closest = find_closest_embeddings_word(embeddings_dict[word], 10)\n",
        "  closest_mapping[word] = closest\n",
        "  end = time.time()\n",
        "  print(\"Time for finding word:\", end-start)\n",
        "  break"
      ],
      "execution_count": 11,
      "outputs": [
        {
          "output_type": "stream",
          "text": [
            "1636  words to go\n"
          ],
          "name": "stdout"
        },
        {
          "output_type": "error",
          "ename": "KeyboardInterrupt",
          "evalue": "ignored",
          "traceback": [
            "\u001b[0;31m---------------------------------------------------------------------------\u001b[0m",
            "\u001b[0;31mKeyboardInterrupt\u001b[0m                         Traceback (most recent call last)",
            "\u001b[0;32m<ipython-input-11-38d53699172c>\u001b[0m in \u001b[0;36m<module>\u001b[0;34m()\u001b[0m\n\u001b[1;32m      6\u001b[0m   \u001b[0mprint\u001b[0m\u001b[0;34m(\u001b[0m\u001b[0mlen\u001b[0m\u001b[0;34m(\u001b[0m\u001b[0mvocabulary\u001b[0m\u001b[0;34m[\u001b[0m\u001b[0;34m'term'\u001b[0m\u001b[0;34m]\u001b[0m\u001b[0;34m)\u001b[0m \u001b[0;34m-\u001b[0m \u001b[0mcounter\u001b[0m\u001b[0;34m,\u001b[0m \u001b[0;34m\" words to go\"\u001b[0m\u001b[0;34m)\u001b[0m\u001b[0;34m\u001b[0m\u001b[0;34m\u001b[0m\u001b[0m\n\u001b[1;32m      7\u001b[0m   \u001b[0mstart\u001b[0m \u001b[0;34m=\u001b[0m \u001b[0mtime\u001b[0m\u001b[0;34m.\u001b[0m\u001b[0mtime\u001b[0m\u001b[0;34m(\u001b[0m\u001b[0;34m)\u001b[0m\u001b[0;34m\u001b[0m\u001b[0;34m\u001b[0m\u001b[0m\n\u001b[0;32m----> 8\u001b[0;31m   \u001b[0mclosest\u001b[0m \u001b[0;34m=\u001b[0m \u001b[0mfind_closest_embeddings_word\u001b[0m\u001b[0;34m(\u001b[0m\u001b[0membeddings_dict\u001b[0m\u001b[0;34m[\u001b[0m\u001b[0mword\u001b[0m\u001b[0;34m]\u001b[0m\u001b[0;34m,\u001b[0m \u001b[0;36m10\u001b[0m\u001b[0;34m)\u001b[0m\u001b[0;34m\u001b[0m\u001b[0;34m\u001b[0m\u001b[0m\n\u001b[0m\u001b[1;32m      9\u001b[0m   \u001b[0mclosest_mapping\u001b[0m\u001b[0;34m[\u001b[0m\u001b[0mword\u001b[0m\u001b[0;34m]\u001b[0m \u001b[0;34m=\u001b[0m \u001b[0mclosest\u001b[0m\u001b[0;34m\u001b[0m\u001b[0;34m\u001b[0m\u001b[0m\n\u001b[1;32m     10\u001b[0m   \u001b[0mend\u001b[0m \u001b[0;34m=\u001b[0m \u001b[0mtime\u001b[0m\u001b[0;34m.\u001b[0m\u001b[0mtime\u001b[0m\u001b[0;34m(\u001b[0m\u001b[0;34m)\u001b[0m\u001b[0;34m\u001b[0m\u001b[0;34m\u001b[0m\u001b[0m\n",
            "\u001b[0;32m<ipython-input-7-4ed41e409a9f>\u001b[0m in \u001b[0;36mfind_closest_embeddings_word\u001b[0;34m(embedding, num_words)\u001b[0m\n\u001b[1;32m      1\u001b[0m \u001b[0;32mdef\u001b[0m \u001b[0mfind_closest_embeddings_word\u001b[0m\u001b[0;34m(\u001b[0m\u001b[0membedding\u001b[0m\u001b[0;34m,\u001b[0m \u001b[0mnum_words\u001b[0m\u001b[0;34m)\u001b[0m\u001b[0;34m:\u001b[0m\u001b[0;34m\u001b[0m\u001b[0;34m\u001b[0m\u001b[0m\n\u001b[0;32m----> 2\u001b[0;31m   \u001b[0;32mreturn\u001b[0m \u001b[0msorted\u001b[0m\u001b[0;34m(\u001b[0m\u001b[0membeddings_dict\u001b[0m\u001b[0;34m.\u001b[0m\u001b[0mkeys\u001b[0m\u001b[0;34m(\u001b[0m\u001b[0;34m)\u001b[0m\u001b[0;34m,\u001b[0m \u001b[0mkey\u001b[0m\u001b[0;34m=\u001b[0m\u001b[0;32mlambda\u001b[0m \u001b[0mword\u001b[0m\u001b[0;34m:\u001b[0m \u001b[0mspatial\u001b[0m\u001b[0;34m.\u001b[0m\u001b[0mdistance\u001b[0m\u001b[0;34m.\u001b[0m\u001b[0meuclidean\u001b[0m\u001b[0;34m(\u001b[0m\u001b[0membeddings_dict\u001b[0m\u001b[0;34m[\u001b[0m\u001b[0mword\u001b[0m\u001b[0;34m]\u001b[0m\u001b[0;34m,\u001b[0m \u001b[0membedding\u001b[0m\u001b[0;34m)\u001b[0m\u001b[0;34m)\u001b[0m\u001b[0;34m[\u001b[0m\u001b[0;36m1\u001b[0m\u001b[0;34m:\u001b[0m\u001b[0mnum_words\u001b[0m\u001b[0;34m+\u001b[0m\u001b[0;36m1\u001b[0m\u001b[0;34m]\u001b[0m\u001b[0;34m\u001b[0m\u001b[0;34m\u001b[0m\u001b[0m\n\u001b[0m\u001b[1;32m      3\u001b[0m \u001b[0;34m\u001b[0m\u001b[0m\n\u001b[1;32m      4\u001b[0m \u001b[0;32mdef\u001b[0m \u001b[0menhance_with_glove_stupid\u001b[0m\u001b[0;34m(\u001b[0m\u001b[0mfiltered_words\u001b[0m\u001b[0;34m,\u001b[0m \u001b[0mnum_words\u001b[0m\u001b[0;34m)\u001b[0m\u001b[0;34m:\u001b[0m\u001b[0;34m\u001b[0m\u001b[0;34m\u001b[0m\u001b[0m\n\u001b[1;32m      5\u001b[0m   \u001b[0;32mfor\u001b[0m \u001b[0msample\u001b[0m \u001b[0;32min\u001b[0m \u001b[0mfiltered_words\u001b[0m\u001b[0;34m:\u001b[0m\u001b[0;34m\u001b[0m\u001b[0;34m\u001b[0m\u001b[0m\n",
            "\u001b[0;32m<ipython-input-7-4ed41e409a9f>\u001b[0m in \u001b[0;36m<lambda>\u001b[0;34m(word)\u001b[0m\n\u001b[1;32m      1\u001b[0m \u001b[0;32mdef\u001b[0m \u001b[0mfind_closest_embeddings_word\u001b[0m\u001b[0;34m(\u001b[0m\u001b[0membedding\u001b[0m\u001b[0;34m,\u001b[0m \u001b[0mnum_words\u001b[0m\u001b[0;34m)\u001b[0m\u001b[0;34m:\u001b[0m\u001b[0;34m\u001b[0m\u001b[0;34m\u001b[0m\u001b[0m\n\u001b[0;32m----> 2\u001b[0;31m   \u001b[0;32mreturn\u001b[0m \u001b[0msorted\u001b[0m\u001b[0;34m(\u001b[0m\u001b[0membeddings_dict\u001b[0m\u001b[0;34m.\u001b[0m\u001b[0mkeys\u001b[0m\u001b[0;34m(\u001b[0m\u001b[0;34m)\u001b[0m\u001b[0;34m,\u001b[0m \u001b[0mkey\u001b[0m\u001b[0;34m=\u001b[0m\u001b[0;32mlambda\u001b[0m \u001b[0mword\u001b[0m\u001b[0;34m:\u001b[0m \u001b[0mspatial\u001b[0m\u001b[0;34m.\u001b[0m\u001b[0mdistance\u001b[0m\u001b[0;34m.\u001b[0m\u001b[0meuclidean\u001b[0m\u001b[0;34m(\u001b[0m\u001b[0membeddings_dict\u001b[0m\u001b[0;34m[\u001b[0m\u001b[0mword\u001b[0m\u001b[0;34m]\u001b[0m\u001b[0;34m,\u001b[0m \u001b[0membedding\u001b[0m\u001b[0;34m)\u001b[0m\u001b[0;34m)\u001b[0m\u001b[0;34m[\u001b[0m\u001b[0;36m1\u001b[0m\u001b[0;34m:\u001b[0m\u001b[0mnum_words\u001b[0m\u001b[0;34m+\u001b[0m\u001b[0;36m1\u001b[0m\u001b[0;34m]\u001b[0m\u001b[0;34m\u001b[0m\u001b[0;34m\u001b[0m\u001b[0m\n\u001b[0m\u001b[1;32m      3\u001b[0m \u001b[0;34m\u001b[0m\u001b[0m\n\u001b[1;32m      4\u001b[0m \u001b[0;32mdef\u001b[0m \u001b[0menhance_with_glove_stupid\u001b[0m\u001b[0;34m(\u001b[0m\u001b[0mfiltered_words\u001b[0m\u001b[0;34m,\u001b[0m \u001b[0mnum_words\u001b[0m\u001b[0;34m)\u001b[0m\u001b[0;34m:\u001b[0m\u001b[0;34m\u001b[0m\u001b[0;34m\u001b[0m\u001b[0m\n\u001b[1;32m      5\u001b[0m   \u001b[0;32mfor\u001b[0m \u001b[0msample\u001b[0m \u001b[0;32min\u001b[0m \u001b[0mfiltered_words\u001b[0m\u001b[0;34m:\u001b[0m\u001b[0;34m\u001b[0m\u001b[0;34m\u001b[0m\u001b[0m\n",
            "\u001b[0;32m/usr/local/lib/python3.6/dist-packages/scipy/spatial/distance.py\u001b[0m in \u001b[0;36meuclidean\u001b[0;34m(u, v, w)\u001b[0m\n\u001b[1;32m    618\u001b[0m \u001b[0;34m\u001b[0m\u001b[0m\n\u001b[1;32m    619\u001b[0m     \"\"\"\n\u001b[0;32m--> 620\u001b[0;31m     \u001b[0;32mreturn\u001b[0m \u001b[0mminkowski\u001b[0m\u001b[0;34m(\u001b[0m\u001b[0mu\u001b[0m\u001b[0;34m,\u001b[0m \u001b[0mv\u001b[0m\u001b[0;34m,\u001b[0m \u001b[0mp\u001b[0m\u001b[0;34m=\u001b[0m\u001b[0;36m2\u001b[0m\u001b[0;34m,\u001b[0m \u001b[0mw\u001b[0m\u001b[0;34m=\u001b[0m\u001b[0mw\u001b[0m\u001b[0;34m)\u001b[0m\u001b[0;34m\u001b[0m\u001b[0;34m\u001b[0m\u001b[0m\n\u001b[0m\u001b[1;32m    621\u001b[0m \u001b[0;34m\u001b[0m\u001b[0m\n\u001b[1;32m    622\u001b[0m \u001b[0;34m\u001b[0m\u001b[0m\n",
            "\u001b[0;32m/usr/local/lib/python3.6/dist-packages/scipy/spatial/distance.py\u001b[0m in \u001b[0;36mminkowski\u001b[0;34m(u, v, p, w)\u001b[0m\n\u001b[1;32m    521\u001b[0m             \u001b[0mroot_w\u001b[0m \u001b[0;34m=\u001b[0m \u001b[0mnp\u001b[0m\u001b[0;34m.\u001b[0m\u001b[0mpower\u001b[0m\u001b[0;34m(\u001b[0m\u001b[0mw\u001b[0m\u001b[0;34m,\u001b[0m \u001b[0;36m1\u001b[0m\u001b[0;34m/\u001b[0m\u001b[0mp\u001b[0m\u001b[0;34m)\u001b[0m\u001b[0;34m\u001b[0m\u001b[0;34m\u001b[0m\u001b[0m\n\u001b[1;32m    522\u001b[0m         \u001b[0mu_v\u001b[0m \u001b[0;34m=\u001b[0m \u001b[0mroot_w\u001b[0m \u001b[0;34m*\u001b[0m \u001b[0mu_v\u001b[0m\u001b[0;34m\u001b[0m\u001b[0;34m\u001b[0m\u001b[0m\n\u001b[0;32m--> 523\u001b[0;31m     \u001b[0mdist\u001b[0m \u001b[0;34m=\u001b[0m \u001b[0mnorm\u001b[0m\u001b[0;34m(\u001b[0m\u001b[0mu_v\u001b[0m\u001b[0;34m,\u001b[0m \u001b[0mord\u001b[0m\u001b[0;34m=\u001b[0m\u001b[0mp\u001b[0m\u001b[0;34m)\u001b[0m\u001b[0;34m\u001b[0m\u001b[0;34m\u001b[0m\u001b[0m\n\u001b[0m\u001b[1;32m    524\u001b[0m     \u001b[0;32mreturn\u001b[0m \u001b[0mdist\u001b[0m\u001b[0;34m\u001b[0m\u001b[0;34m\u001b[0m\u001b[0m\n\u001b[1;32m    525\u001b[0m \u001b[0;34m\u001b[0m\u001b[0m\n",
            "\u001b[0;32m/usr/local/lib/python3.6/dist-packages/scipy/linalg/misc.py\u001b[0m in \u001b[0;36mnorm\u001b[0;34m(a, ord, axis, keepdims, check_finite)\u001b[0m\n\u001b[1;32m    150\u001b[0m             \u001b[0;31m# use blas for fast and stable euclidean norm\u001b[0m\u001b[0;34m\u001b[0m\u001b[0;34m\u001b[0m\u001b[0;34m\u001b[0m\u001b[0m\n\u001b[1;32m    151\u001b[0m             \u001b[0mnrm2\u001b[0m \u001b[0;34m=\u001b[0m \u001b[0mget_blas_funcs\u001b[0m\u001b[0;34m(\u001b[0m\u001b[0;34m'nrm2'\u001b[0m\u001b[0;34m,\u001b[0m \u001b[0mdtype\u001b[0m\u001b[0;34m=\u001b[0m\u001b[0ma\u001b[0m\u001b[0;34m.\u001b[0m\u001b[0mdtype\u001b[0m\u001b[0;34m)\u001b[0m\u001b[0;34m\u001b[0m\u001b[0;34m\u001b[0m\u001b[0m\n\u001b[0;32m--> 152\u001b[0;31m             \u001b[0;32mreturn\u001b[0m \u001b[0mnrm2\u001b[0m\u001b[0;34m(\u001b[0m\u001b[0ma\u001b[0m\u001b[0;34m)\u001b[0m\u001b[0;34m\u001b[0m\u001b[0;34m\u001b[0m\u001b[0m\n\u001b[0m\u001b[1;32m    153\u001b[0m \u001b[0;34m\u001b[0m\u001b[0m\n\u001b[1;32m    154\u001b[0m         \u001b[0;32mif\u001b[0m \u001b[0ma\u001b[0m\u001b[0;34m.\u001b[0m\u001b[0mndim\u001b[0m \u001b[0;34m==\u001b[0m \u001b[0;36m2\u001b[0m \u001b[0;32mand\u001b[0m \u001b[0maxis\u001b[0m \u001b[0;32mis\u001b[0m \u001b[0;32mNone\u001b[0m \u001b[0;32mand\u001b[0m \u001b[0;32mnot\u001b[0m \u001b[0mkeepdims\u001b[0m\u001b[0;34m:\u001b[0m\u001b[0;34m\u001b[0m\u001b[0;34m\u001b[0m\u001b[0m\n",
            "\u001b[0;31mKeyboardInterrupt\u001b[0m: "
          ]
        }
      ]
    },
    {
      "cell_type": "markdown",
      "metadata": {
        "id": "UjbIgS9M8mBJ",
        "colab_type": "text"
      },
      "source": [
        "## Calculating the nearest words costs ~30 seconds per word\n",
        "This results in 1700*30/3600 = ~14h. Definitely to long for a colab notebook.\n",
        "We will build a parallelized script to do so in the background on a different server. Using this approach we can reduce the time to 1.5h."
      ]
    },
    {
      "cell_type": "code",
      "metadata": {
        "id": "1jMX-6Od9FXB",
        "colab_type": "code",
        "colab": {}
      },
      "source": [
        "# Load Nearest words dict\n",
        "import json\n",
        "with open(path_root + data_root + '/vocabulary-attribute/final_mapping.json') as file:\n",
        "  closest_words = json.load(file)"
      ],
      "execution_count": 12,
      "outputs": []
    },
    {
      "cell_type": "markdown",
      "metadata": {
        "id": "zxnnVkcR-9VF",
        "colab_type": "text"
      },
      "source": [
        "## Next we're going to enhance the actual dataset before training/testing\n"
      ]
    },
    {
      "cell_type": "code",
      "metadata": {
        "id": "KNfQRNrA-7pL",
        "colab_type": "code",
        "colab": {
          "base_uri": "https://localhost:8080/",
          "height": 51
        },
        "outputId": "851fafbf-90af-4efa-d84b-8e86e80a5506"
      },
      "source": [
        "from functools import reduce\n",
        "\n",
        "def enhance(dset, labels):\n",
        "  tok_dset = tokenize_samples(dset)\n",
        "  fil_dset = filter_stop_words(tok_dset)\n",
        "  dset_enhanced = []\n",
        "\n",
        "  failed_counter = 0\n",
        "  worked_counter = 0\n",
        "  '''\n",
        "  for index in range(len(dset)):\n",
        "    sample_enhanced = [dset[index]]\n",
        "    sample = fil_dset[index]\n",
        "    for word in sample:\n",
        "      try:\n",
        "        sample_enhanced.extend(closest_words[word])\n",
        "        worked_counter += 1\n",
        "      except:\n",
        "        failed_counter += 1\n",
        "    sample_enhanced = reduce(lambda a,b: a+ \" \" + b, sample_enhanced)\n",
        "    dset_enhanced.append(sample_enhanced)\n",
        "  '''\n",
        "\n",
        "  for index in range(len(dset)):\n",
        "    if labels[index] not in [\"general\", \"quality\", \"operation_performance\", ]:\n",
        "      sample_enhanced = [dset[index]]\n",
        "      sample = fil_dset[index]\n",
        "      for word in sample:\n",
        "        try:\n",
        "          sample_enhanced.extend(closest_words[word])\n",
        "          worked_counter += 1\n",
        "        except:\n",
        "          failed_counter += 1\n",
        "      sample_enhanced = reduce(lambda a,b: a+ \" \" + b, sample_enhanced)\n",
        "      dset_enhanced.append(sample_enhanced)\n",
        "  \n",
        "  print(\"Worked:\", worked_counter, \" Failed:\", failed_counter)\n",
        "  return dset_enhanced\n",
        "\n",
        "X_train_enhanced = enhance(X_train, labels)\n",
        "X_val_enhanced = enhance(X_val, labels)"
      ],
      "execution_count": 13,
      "outputs": [
        {
          "output_type": "stream",
          "text": [
            "Worked: 10776  Failed: 13695\n",
            "Worked: 4424  Failed: 5716\n"
          ],
          "name": "stdout"
        }
      ]
    },
    {
      "cell_type": "code",
      "metadata": {
        "id": "8sp0HpBlA8c_",
        "colab_type": "code",
        "colab": {
          "base_uri": "https://localhost:8080/",
          "height": 1000
        },
        "outputId": "be648f52-5655-4bb2-b5ce-5a95c9f9f90c"
      },
      "source": [
        "clf = SS3()\n",
        "clf.fit(X_train_enhanced, y_train)\n",
        "Evaluation.clear_cache(clf)\n",
        "Evaluation.test(clf, X_val, y_val)"
      ],
      "execution_count": 14,
      "outputs": [
        {
          "output_type": "stream",
          "text": [
            "Training: 100%|██████████| 2623/2623 [00:03<00:00, 822.06it/s] \n",
            "Classification: 100%|██████████| 1125/1125 [00:00<00:00, 17137.83it/s]\n"
          ],
          "name": "stderr"
        },
        {
          "output_type": "stream",
          "text": [
            "\n",
            "                       precision    recall  f1-score   support\n",
            "\n",
            "            usability       0.20      0.80      0.33        70\n",
            "operation_performance       0.35      0.85      0.50       124\n",
            "              general       0.66      0.81      0.72       544\n",
            "              quality       0.52      0.78      0.63       366\n",
            "               prices       0.19      0.93      0.32        54\n",
            "      design_features       0.28      0.87      0.42       106\n",
            "        style_options       0.16      0.80      0.27        46\n",
            "          portability       0.09      0.93      0.17        14\n",
            "         connectivity       0.14      0.79      0.24        14\n",
            "        miscellaneous       0.21      0.68      0.32        84\n",
            "                price       0.25      0.87      0.39        38\n",
            "\n",
            "            micro avg       0.37      0.81      0.50      1460\n",
            "            macro avg       0.28      0.83      0.39      1460\n",
            "         weighted avg       0.47      0.81      0.57      1460\n",
            "          samples avg       0.45      0.82      0.54      1460\n",
            "\n",
            "\n",
            " \u001b[1mExact Match Ratio\u001b[0m: 0.158\n",
            " \u001b[1mHamming Loss\u001b[0m: 0.188\n",
            "\u001b[94m[ updating evaluations cache ]\u001b[0m\n"
          ],
          "name": "stdout"
        },
        {
          "output_type": "display_data",
          "data": {
            "image/png": "[encoded data removed]",
            "text/plain": [
              "<Figure size 576x576 with 11 Axes>"
            ]
          },
          "metadata": {
            "tags": [],
            "needs_background": "light"
          }
        },
        {
          "output_type": "execute_result",
          "data": {
            "text/plain": [
              "0.18804040404040404"
            ]
          },
          "metadata": {
            "tags": []
          },
          "execution_count": 14
        }
      ]
    },
    {
      "cell_type": "code",
      "metadata": {
        "id": "oxX_suKc61LO",
        "colab_type": "code",
        "colab": {
          "base_uri": "https://localhost:8080/",
          "height": 34
        },
        "outputId": "5128fa18-88a2-4d8e-a689-ef31acf98d44"
      },
      "source": [
        "s_l = span(0, 1, 10)\n",
        "l_l = span(0, 5, 10)\n",
        "p_l = span(0, 5, 10)\n",
        "a_l = span(0, 1, 10)\n",
        "best_s, best_l, best_p, best_a = Evaluation.grid_search(clf, X_train, y_train, s=s_l, l=l_l, p=p_l, a=a_l, n_grams=6)"
      ],
      "execution_count": 15,
      "outputs": [
        {
          "output_type": "stream",
          "text": [
            "Grid search: 100%|██████████| 10000/10000 [3:02:13<00:00,  1.09s/it]\n"
          ],
          "name": "stderr"
        }
      ]
    },
    {
      "cell_type": "code",
      "metadata": {
        "id": "rwj2To-262K8",
        "colab_type": "code",
        "colab": {
          "base_uri": "https://localhost:8080/",
          "height": 1000
        },
        "outputId": "ba8a2062-c11c-405f-840b-5becb7e4e9b7"
      },
      "source": [
        "clf.set_hyperparameters(s=best_s, l=best_l, p=best_p, a=best_a)\n",
        "Evaluation.test(clf, X_val_enhanced, y_val, metric='f1-score')"
      ],
      "execution_count": 16,
      "outputs": [
        {
          "output_type": "stream",
          "text": [
            "Classification: 100%|██████████| 1125/1125 [00:00<00:00, 15258.72it/s]\n"
          ],
          "name": "stderr"
        },
        {
          "output_type": "stream",
          "text": [
            "\n",
            "                       precision    recall  f1-score   support\n",
            "\n",
            "            usability       0.34      0.66      0.45        70\n",
            "operation_performance       0.74      0.40      0.52       124\n",
            "              general       0.74      0.63      0.68       544\n",
            "              quality       0.70      0.65      0.67       366\n",
            "               prices       0.43      0.59      0.50        54\n",
            "      design_features       0.41      0.53      0.46       106\n",
            "        style_options       0.38      0.46      0.42        46\n",
            "          portability       0.26      0.79      0.39        14\n",
            "         connectivity       0.48      0.71      0.57        14\n",
            "        miscellaneous       0.61      0.27      0.38        84\n",
            "                price       0.27      0.84      0.41        38\n",
            "\n",
            "            micro avg       0.57      0.59      0.58      1460\n",
            "            macro avg       0.48      0.59      0.49      1460\n",
            "         weighted avg       0.64      0.59      0.59      1460\n",
            "          samples avg       0.62      0.62      0.59      1460\n",
            "\n",
            "\n",
            " \u001b[1mExact Match Ratio\u001b[0m: 0.404\n",
            " \u001b[1mHamming Loss\u001b[0m: 0.100\n",
            "\u001b[94m[ updating evaluations cache ]\u001b[0m\n"
          ],
          "name": "stdout"
        },
        {
          "output_type": "display_data",
          "data": {
            "image/png": "[encoded data removed]",
            "text/plain": [
              "<Figure size 576x576 with 11 Axes>"
            ]
          },
          "metadata": {
            "tags": [],
            "needs_background": "light"
          }
        },
        {
          "output_type": "execute_result",
          "data": {
            "text/plain": [
              "0.4936440933014737"
            ]
          },
          "metadata": {
            "tags": []
          },
          "execution_count": 16
        }
      ]
    },
    {
      "cell_type": "code",
      "metadata": {
        "id": "CeRGhd1SAv1b",
        "colab_type": "code",
        "colab": {
          "base_uri": "https://localhost:8080/",
          "height": 34
        },
        "outputId": "96c16a68-95a3-4ebf-f2d5-0c5bb8033124"
      },
      "source": [
        "print(\"Best s:\", best_s, \" Best l:\", best_l, \" Best p:\", best_p, \" Best a:\", best_a)"
      ],
      "execution_count": 17,
      "outputs": [
        {
          "output_type": "stream",
          "text": [
            "Best s: 0.4444  Best l: 2.7778  Best p: 0.5556  Best a: 0.4444\n"
          ],
          "name": "stdout"
        }
      ]
    },
    {
      "cell_type": "code",
      "metadata": {
        "id": "av5d7BS5vdy6",
        "colab_type": "code",
        "colab": {
          "base_uri": "https://localhost:8080/",
          "height": 1000
        },
        "outputId": "2dd8e5c3-94da-41e3-f900-4cf4f65ddb00"
      },
      "source": [
        "clf.set_hyperparameters(s=0.88, l=0, p=1.11, a=0.11)\n",
        "Evaluation.test(clf, X_val_enhanced, y_val, metric='f1-score')"
      ],
      "execution_count": 18,
      "outputs": [
        {
          "output_type": "stream",
          "text": [
            "Classification: 100%|██████████| 1125/1125 [00:00<00:00, 15256.16it/s]\n"
          ],
          "name": "stderr"
        },
        {
          "output_type": "stream",
          "text": [
            "\n",
            "                       precision    recall  f1-score   support\n",
            "\n",
            "            usability       0.38      0.61      0.47        70\n",
            "operation_performance       0.74      0.60      0.66       124\n",
            "              general       0.72      0.74      0.73       544\n",
            "              quality       0.59      0.78      0.67       366\n",
            "               prices       0.20      0.85      0.32        54\n",
            "      design_features       0.41      0.71      0.52       106\n",
            "        style_options       0.39      0.46      0.42        46\n",
            "          portability       0.69      0.79      0.73        14\n",
            "         connectivity       0.69      0.64      0.67        14\n",
            "        miscellaneous       0.57      0.36      0.44        84\n",
            "                price       0.26      0.82      0.39        38\n",
            "\n",
            "            micro avg       0.53      0.70      0.61      1460\n",
            "            macro avg       0.51      0.67      0.55      1460\n",
            "         weighted avg       0.60      0.70      0.63      1460\n",
            "          samples avg       0.60      0.73      0.62      1460\n",
            "\n",
            "\n",
            " \u001b[1mExact Match Ratio\u001b[0m: 0.320\n",
            " \u001b[1mHamming Loss\u001b[0m: 0.107\n",
            "\u001b[94m[ updating evaluations cache ]\u001b[0m\n"
          ],
          "name": "stdout"
        },
        {
          "output_type": "display_data",
          "data": {
            "image/png": "[encoded data removed]",
            "text/plain": [
              "<Figure size 576x576 with 11 Axes>"
            ]
          },
          "metadata": {
            "tags": [],
            "needs_background": "light"
          }
        },
        {
          "output_type": "execute_result",
          "data": {
            "text/plain": [
              "0.5480363809014194"
            ]
          },
          "metadata": {
            "tags": []
          },
          "execution_count": 18
        }
      ]
    },
    {
      "cell_type": "code",
      "metadata": {
        "id": "tMD0ulI8vss4",
        "colab_type": "code",
        "colab": {}
      },
      "source": [
        ""
      ],
      "execution_count": null,
      "outputs": []
    }
  ]
}