{
 "cells": [
  {
   "cell_type": "code",
   "execution_count": 1,
   "metadata": {
    "colab": {
     "base_uri": "https://localhost:8080/",
     "height": 336
    },
    "colab_type": "code",
    "executionInfo": {
     "elapsed": 6401,
     "status": "ok",
     "timestamp": 1589141999282,
     "user": {
      "displayName": "Muneeb Vaiyani",
      "photoUrl": "",
      "userId": "08361947535252094250"
     },
     "user_tz": -120
    },
    "id": "oEdIknyq4mf7",
    "outputId": "0ab5b9cf-d6ea-438d-9d13-600b4b8bab95"
   },
   "outputs": [
    {
     "name": "stdout",
     "output_type": "stream",
     "text": [
      "Collecting pyss3\n",
      "\u001b[?25l  Downloading https://files.pythonhosted.org/packages/62/fe/62175dc15b678d2e6fde76711a80c23c68c78db72ea3b16bd151aa01370f/pyss3-0.5.9-py3-none-any.whl (2.0MB)\n",
      "\u001b[K     |████████████████████████████████| 2.0MB 2.8MB/s \n",
      "\u001b[?25hRequirement already satisfied: pandas in /usr/local/lib/python3.6/dist-packages (1.0.3)\n",
      "Requirement already satisfied: numpy in /usr/local/lib/python3.6/dist-packages (1.18.4)\n",
      "Requirement already satisfied: matplotlib in /usr/local/lib/python3.6/dist-packages (3.2.1)\n",
      "Requirement already satisfied: cython in /usr/local/lib/python3.6/dist-packages (from pyss3) (0.29.17)\n",
      "Requirement already satisfied: six in /usr/local/lib/python3.6/dist-packages (from pyss3) (1.12.0)\n",
      "Requirement already satisfied: tqdm>=4.8.4 in /usr/local/lib/python3.6/dist-packages (from pyss3) (4.41.1)\n",
      "Requirement already satisfied: scikit-learn[alldeps]>=0.20 in /usr/local/lib/python3.6/dist-packages (from pyss3) (0.22.2.post1)\n",
      "Requirement already satisfied: pytz>=2017.2 in /usr/local/lib/python3.6/dist-packages (from pandas) (2018.9)\n",
      "Requirement already satisfied: python-dateutil>=2.6.1 in /usr/local/lib/python3.6/dist-packages (from pandas) (2.8.1)\n",
      "Requirement already satisfied: pyparsing!=2.0.4,!=2.1.2,!=2.1.6,>=2.0.1 in /usr/local/lib/python3.6/dist-packages (from matplotlib) (2.4.7)\n",
      "Requirement already satisfied: cycler>=0.10 in /usr/local/lib/python3.6/dist-packages (from matplotlib) (0.10.0)\n",
      "Requirement already satisfied: kiwisolver>=1.0.1 in /usr/local/lib/python3.6/dist-packages (from matplotlib) (1.2.0)\n",
      "Requirement already satisfied: joblib>=0.11 in /usr/local/lib/python3.6/dist-packages (from scikit-learn[alldeps]>=0.20->pyss3) (0.14.1)\n",
      "Requirement already satisfied: scipy>=0.17.0 in /usr/local/lib/python3.6/dist-packages (from scikit-learn[alldeps]>=0.20->pyss3) (1.4.1)\n",
      "Installing collected packages: pyss3\n",
      "Successfully installed pyss3-0.5.9\n"
     ]
    }
   ],
   "source": [
    "!pip install pyss3 pandas numpy matplotlib"
   ]
  },
  {
   "cell_type": "code",
   "execution_count": 0,
   "metadata": {
    "colab": {},
    "colab_type": "code",
    "id": "p75KWSVT4oG9"
   },
   "outputs": [],
   "source": [
    "import pandas as pd\n",
    "import numpy as np\n",
    "import matplotlib.pyplot as plt\n",
    "import xml.etree.cElementTree as et\n",
    "import shutil\n",
    "import os\n",
    "from pyss3 import SS3\n",
    "from pyss3.util import Dataset, Evaluation, span\n",
    "from pyss3.server import Live_Test\n",
    "from sklearn.metrics import accuracy_score\n",
    "from pathlib import Path\n",
    "from datetime import datetime\n",
    "from sklearn.metrics import accuracy_score\n",
    "from sklearn.preprocessing import MultiLabelBinarizer\n",
    "from sklearn.metrics import hamming_loss\n",
    "# ### From Dávid Szabó to mount data\n",
    "from google.colab import drive\n",
    "from sys import path\n",
    "from sklearn.model_selection import train_test_split"
   ]
  },
  {
   "cell_type": "code",
   "execution_count": 4,
   "metadata": {
    "colab": {
     "base_uri": "https://localhost:8080/",
     "height": 121
    },
    "colab_type": "code",
    "executionInfo": {
     "elapsed": 28097,
     "status": "ok",
     "timestamp": 1589142068881,
     "user": {
      "displayName": "Muneeb Vaiyani",
      "photoUrl": "",
      "userId": "08361947535252094250"
     },
     "user_tz": -120
    },
    "id": "ksBmhr3y4tZ_",
    "outputId": "132539a0-615a-4de1-cc39-c269002c342b"
   },
   "outputs": [
    {
     "name": "stdout",
     "output_type": "stream",
     "text": [
      "Go to this URL in a browser: https://accounts.google.com/o/oauth2/auth?client_id=947318989803-6bn6qk8qdgf4n4g3pfee6491hc0brc4i.apps.googleusercontent.com&redirect_uri=urn%3aietf%3awg%3aoauth%3a2.0%3aoob&response_type=code&scope=email%20https%3a%2f%2fwww.googleapis.com%2fauth%2fdocs.test%20https%3a%2f%2fwww.googleapis.com%2fauth%2fdrive%20https%3a%2f%2fwww.googleapis.com%2fauth%2fdrive.photos.readonly%20https%3a%2f%2fwww.googleapis.com%2fauth%2fpeopleapi.readonly\n",
      "\n",
      "Enter your authorization code:\n",
      "··········\n",
      "Mounted at /content/drive\n"
     ]
    }
   ],
   "source": [
    "drive.mount('/content/drive', force_remount=True)\n",
    "path_root = '/content/drive/My Drive/NLP Lab'\n",
    "data_root = '/data/SB1_Train-entity'\n",
    "path.append(path_root)\n"
   ]
  },
  {
   "cell_type": "code",
   "execution_count": 5,
   "metadata": {
    "colab": {
     "base_uri": "https://localhost:8080/",
     "height": 34
    },
    "colab_type": "code",
    "executionInfo": {
     "elapsed": 1041,
     "status": "ok",
     "timestamp": 1589142079157,
     "user": {
      "displayName": "Muneeb Vaiyani",
      "photoUrl": "",
      "userId": "08361947535252094250"
     },
     "user_tz": -120
    },
    "id": "O16sOTrj4vvu",
    "outputId": "d2b01119-755a-4692-c829-2979fed24956"
   },
   "outputs": [
    {
     "name": "stdout",
     "output_type": "stream",
     "text": [
      "/content/drive/.shortcut-targets-by-id/1WxWH0T7CKPlERIv-tNCJIqpH2T8CkX5J/NLP Lab/data\n"
     ]
    }
   ],
   "source": [
    "cd '/content/drive/My Drive/NLP Lab/data'"
   ]
  },
  {
   "cell_type": "code",
   "execution_count": 0,
   "metadata": {
    "colab": {},
    "colab_type": "code",
    "id": "L1k_dY1t46_T"
   },
   "outputs": [],
   "source": [
    "# (A lot of improvement can be done on this but it was just created too see how the main task works. so not much focus here on code beauty)\n",
    "\n",
    "def parse(mode, Documents):\n",
    "    Test_dic = {}\n",
    "    entity_path = \"Data/entity/Train\"\n",
    "    Labels = set()\n",
    "    try:\n",
    "        Path(entity_path).mkdir(parents=True,exist_ok=False)\n",
    "    except FileExistsError:\n",
    "        shutil.rmtree(entity_path)    \n",
    "        Path(entity_path).mkdir(parents=True,exist_ok=False)\n",
    "    \n",
    "    for Document in Documents:\n",
    "        tree = et.parse(Document)\n",
    "        root = tree.getroot()\n",
    "        sentences = root.findall(\"./Review/sentences/sentence\")\n",
    "        for sentence in sentences:\n",
    "            content = sentence.findall(\"./text\")[0].text\n",
    "            opinions = sentence.findall(\"./Opinions/Opinion\")\n",
    "            entities = list(set([opinion.get('category').split('#')[0].lower() for opinion in opinions]))\n",
    "            if len(entities):\n",
    "                if mode == \"Train\":\n",
    "                    for entity in entities:\n",
    "                        Labels.add(entity)\n",
    "                        file = open(entity_path+ '/' + entity + '.txt', 'a+',encoding=\"utf-8\")\n",
    "                        file.write(content + '\\n')\n",
    "                        file.close()\n",
    "                elif mode == \"Test\":\n",
    "                    Test_dic[content] = entities\n",
    "    if mode == \"Train\":\n",
    "      return Labels\n",
    "    elif mode == \"Test\":\n",
    "      return Test_dic\n",
    "\n",
    "def binarizer (y_pred, Classes):\n",
    "    binaryLabel = [0]*len(Classes)\n",
    "    indices =  [Classes.index(label) for label in y_pred]\n",
    "    for index in indices:\n",
    "        binaryLabel[index] = 1\n",
    "    return binaryLabel"
   ]
  },
  {
   "cell_type": "code",
   "execution_count": 0,
   "metadata": {
    "colab": {},
    "colab_type": "code",
    "id": "UZz1sZ-549k-"
   },
   "outputs": [],
   "source": [
    "mode = \"Train\"\n",
    "if mode == 'Train':\n",
    "    Documents = ['ABSA16_Laptops_Train_SB1_v2.xml','ABSA16_Restaurants_Train_SB1_v2.xml']\n",
    "    Classes = list(parse(mode, Documents))\n",
    "elif mode == \"Test\":\n",
    "    Documents = ['EN_LAPT_SB1_TEST_.xml.B']\n",
    "    Testcase = parse(mode, Documents)"
   ]
  },
  {
   "cell_type": "code",
   "execution_count": 21,
   "metadata": {
    "colab": {
     "base_uri": "https://localhost:8080/",
     "height": 50
    },
    "colab_type": "code",
    "executionInfo": {
     "elapsed": 2442,
     "status": "ok",
     "timestamp": 1589142628753,
     "user": {
      "displayName": "Muneeb Vaiyani",
      "photoUrl": "",
      "userId": "08361947535252094250"
     },
     "user_tz": -120
    },
    "id": "YbMOM3T4UnLC",
    "outputId": "e292ac57-8599-4ed4-9f85-051f61154520"
   },
   "outputs": [
    {
     "name": "stderr",
     "output_type": "stream",
     "text": [
      "Loading 'LOCATION' documents: 100%|██████████| 28/28 [00:00<00:00, 376.74it/s]\n",
      "Training on 'WARRANTY': 100%|██████████| 28/28 [00:00<00:00, 77.53it/s]\n"
     ]
    }
   ],
   "source": [
    "clf = SS3(a=1)\n",
    "x_train, y_train = Dataset.load_from_files(\"SB1_Train-entity\", folder_label=False)\n",
    "clf.train(x_train, y_train)"
   ]
  },
  {
   "cell_type": "code",
   "execution_count": 31,
   "metadata": {
    "colab": {
     "base_uri": "https://localhost:8080/",
     "height": 286
    },
    "colab_type": "code",
    "executionInfo": {
     "elapsed": 2752,
     "status": "ok",
     "timestamp": 1589143221353,
     "user": {
      "displayName": "Muneeb Vaiyani",
      "photoUrl": "",
      "userId": "08361947535252094250"
     },
     "user_tz": -120
    },
    "id": "1ClnyMBT4_v9",
    "outputId": "b499fe67-b442-4d1b-ad16-4eb734ae101a"
   },
   "outputs": [
    {
     "name": "stdout",
     "output_type": "stream",
     "text": [
      "predicted:  ['laptop']\n",
      "actual:  ['laptop']\n",
      "0.0\n",
      "-------------\n",
      "predicted:  ['laptop']\n",
      "actual:  ['laptop']\n",
      "0.0\n",
      "-------------\n",
      "predicted:  ['laptop']\n",
      "actual:  ['laptop', 'company']\n",
      "0.03571428571428571\n",
      "-------------\n",
      "...\n",
      "..\n",
      ".\n",
      "Final Loss:  0.03097731239092498\n"
     ]
    }
   ],
   "source": [
    "loss = 0\n",
    "count = 0\n",
    "for key, value in Testcase.items():\n",
    "    count += 1\n",
    "    y_pred = clf.classify_multilabel(key)\n",
    "    binary_y_pred = binarizer(y_pred,Classes)\n",
    "    binary_y_true = binarizer(value,Classes)\n",
    "    if count <= 3:\n",
    "        print(\"predicted: \" , y_pred)\n",
    "        print(\"actual: \", value)\n",
    "        print(hamming_loss(binary_y_true,binary_y_pred))\n",
    "        print(\"-------------\")\n",
    "    loss += hamming_loss(binary_y_true,binary_y_pred)\n",
    "print('...')\n",
    "print('..')\n",
    "print('.')\n",
    "print(\"Final Loss: \", loss/len(Testcase))"
   ]
  }
 ],
 "metadata": {
  "colab": {
   "collapsed_sections": [],
   "name": "Entity-Classification.ipynb",
   "provenance": []
  },
  "kernelspec": {
   "display_name": "Python 3",
   "language": "python",
   "name": "python3"
  },
  "language_info": {
   "codemirror_mode": {
    "name": "ipython",
    "version": 3
   },
   "file_extension": ".py",
   "mimetype": "text/x-python",
   "name": "python",
   "nbconvert_exporter": "python",
   "pygments_lexer": "ipython3",
   "version": "3.7.7"
  }
 },
 "nbformat": 4,
 "nbformat_minor": 1
}
