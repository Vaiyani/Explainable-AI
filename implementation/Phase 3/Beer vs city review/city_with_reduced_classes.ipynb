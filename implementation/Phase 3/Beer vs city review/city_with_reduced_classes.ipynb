{
  "nbformat": 4,
  "nbformat_minor": 0,
  "metadata": {
    "colab": {
      "name": "city with reduced classes.ipynb",
      "provenance": [],
      "collapsed_sections": []
    },
    "kernelspec": {
      "name": "python3",
      "display_name": "Python 3"
    }
  },
  "cells": [
    {
      "cell_type": "code",
      "metadata": {
        "id": "pT6nTpkCzFy9",
        "colab_type": "code",
        "colab": {
          "base_uri": "https://localhost:8080/",
          "height": 588
        },
        "outputId": "e7db0cfa-ecd9-4436-fd9b-ae67130a5c4f"
      },
      "source": [
        "# Dataloading Stuff\n",
        "from google.colab import drive\n",
        "import sys\n",
        "import os\n",
        "import operator\n",
        "import collections\n",
        "from importlib import reload\n",
        "\n",
        "\n",
        "# Standard Stuff\n",
        "!pip3 install numpy sklearn iterative-stratification pandas pyss3\n",
        "from sklearn.model_selection import train_test_split\n",
        "from PIL import Image\n",
        "from wordcloud import WordCloud, STOPWORDS, ImageColorGenerator\n",
        "from pyss3 import SS3\n",
        "from pyss3.util import Dataset, Evaluation, span\n",
        "\n",
        "import matplotlib.pyplot as plt\n",
        "# %matplotlib inline\n",
        "import numpy as np\n",
        "import pandas as pd\n",
        "\n",
        "!pip3 install nltk\n",
        "from nltk import word_tokenize, sent_tokenize, download\n",
        "download('punkt')\n",
        "\n",
        "drive.mount('/content/drive', force_remount=True)"
      ],
      "execution_count": 1,
      "outputs": [
        {
          "output_type": "stream",
          "text": [
            "Requirement already satisfied: numpy in /usr/local/lib/python3.6/dist-packages (1.18.5)\n",
            "Requirement already satisfied: sklearn in /usr/local/lib/python3.6/dist-packages (0.0)\n",
            "Collecting iterative-stratification\n",
            "  Downloading https://files.pythonhosted.org/packages/9d/79/9ba64c8c07b07b8b45d80725b2ebd7b7884701c1da34f70d4749f7b45f9a/iterative_stratification-0.1.6-py3-none-any.whl\n",
            "Requirement already satisfied: pandas in /usr/local/lib/python3.6/dist-packages (1.0.5)\n",
            "Collecting pyss3\n",
            "\u001b[?25l  Downloading https://files.pythonhosted.org/packages/67/d9/93197c8cfcb1c689f3ff9693256c33e51294d26f4af4d079708c4ff089b7/pyss3-0.6.3-py3-none-any.whl (2.0MB)\n",
            "\u001b[K     |████████████████████████████████| 2.0MB 3.7MB/s \n",
            "\u001b[?25hRequirement already satisfied: scikit-learn in /usr/local/lib/python3.6/dist-packages (from sklearn) (0.22.2.post1)\n",
            "Requirement already satisfied: scipy in /usr/local/lib/python3.6/dist-packages (from iterative-stratification) (1.4.1)\n",
            "Requirement already satisfied: python-dateutil>=2.6.1 in /usr/local/lib/python3.6/dist-packages (from pandas) (2.8.1)\n",
            "Requirement already satisfied: pytz>=2017.2 in /usr/local/lib/python3.6/dist-packages (from pandas) (2018.9)\n",
            "Requirement already satisfied: tqdm>=4.8.4 in /usr/local/lib/python3.6/dist-packages (from pyss3) (4.41.1)\n",
            "Requirement already satisfied: cython in /usr/local/lib/python3.6/dist-packages (from pyss3) (0.29.21)\n",
            "Requirement already satisfied: six in /usr/local/lib/python3.6/dist-packages (from pyss3) (1.15.0)\n",
            "Requirement already satisfied: matplotlib in /usr/local/lib/python3.6/dist-packages (from pyss3) (3.2.2)\n",
            "Requirement already satisfied: joblib>=0.11 in /usr/local/lib/python3.6/dist-packages (from scikit-learn->sklearn) (0.16.0)\n",
            "Requirement already satisfied: cycler>=0.10 in /usr/local/lib/python3.6/dist-packages (from matplotlib->pyss3) (0.10.0)\n",
            "Requirement already satisfied: pyparsing!=2.0.4,!=2.1.2,!=2.1.6,>=2.0.1 in /usr/local/lib/python3.6/dist-packages (from matplotlib->pyss3) (2.4.7)\n",
            "Requirement already satisfied: kiwisolver>=1.0.1 in /usr/local/lib/python3.6/dist-packages (from matplotlib->pyss3) (1.2.0)\n",
            "Installing collected packages: iterative-stratification, pyss3\n",
            "Successfully installed iterative-stratification-0.1.6 pyss3-0.6.3\n",
            "Requirement already satisfied: nltk in /usr/local/lib/python3.6/dist-packages (3.2.5)\n",
            "Requirement already satisfied: six in /usr/local/lib/python3.6/dist-packages (from nltk) (1.15.0)\n",
            "[nltk_data] Downloading package punkt to /root/nltk_data...\n",
            "[nltk_data]   Unzipping tokenizers/punkt.zip.\n",
            "Go to this URL in a browser: https://accounts.google.com/o/oauth2/auth?client_id=947318989803-6bn6qk8qdgf4n4g3pfee6491hc0brc4i.apps.googleusercontent.com&redirect_uri=urn%3aietf%3awg%3aoauth%3a2.0%3aoob&response_type=code&scope=email%20https%3a%2f%2fwww.googleapis.com%2fauth%2fdocs.test%20https%3a%2f%2fwww.googleapis.com%2fauth%2fdrive%20https%3a%2f%2fwww.googleapis.com%2fauth%2fdrive.photos.readonly%20https%3a%2f%2fwww.googleapis.com%2fauth%2fpeopleapi.readonly\n",
            "\n",
            "Enter your authorization code:\n",
            "··········\n",
            "Mounted at /content/drive\n"
          ],
          "name": "stdout"
        }
      ]
    },
    {
      "cell_type": "code",
      "metadata": {
        "id": "3jQlC5uWrNj_",
        "colab_type": "code",
        "colab": {}
      },
      "source": [
        "!rm -rf vocab_city \n",
        "!mkdir vocab_city"
      ],
      "execution_count": 2,
      "outputs": []
    },
    {
      "cell_type": "code",
      "metadata": {
        "id": "Ik1Kak8KrPb6",
        "colab_type": "code",
        "colab": {}
      },
      "source": [
        "path_root = '/content/drive/My Drive/NLP Lab/SingleLabel'\n",
        "vocab_root = '/Notebooks/Experiments/word-cloud/vocab_city'\n",
        "sys.path.append(path_root)\n",
        "data_root = '/data/'"
      ],
      "execution_count": 3,
      "outputs": []
    },
    {
      "cell_type": "code",
      "metadata": {
        "id": "QLVfKX0tzGvg",
        "colab_type": "code",
        "colab": {}
      },
      "source": [
        "import util"
      ],
      "execution_count": 4,
      "outputs": []
    },
    {
      "cell_type": "code",
      "metadata": {
        "id": "K-5oMHVmDcG_",
        "colab_type": "code",
        "colab": {}
      },
      "source": [
        "def retain_classes(text, labels, allowed_labels):\n",
        "  indexes = []\n",
        "  for c,value in enumerate(labels):\n",
        "    if value not in allowed_labels:\n",
        "      indexes.append(c)\n",
        "\n",
        "  for index in sorted(indexes, reverse=True):\n",
        "    del text[index]\n",
        "    del labels[index]\n",
        "\n",
        "\n",
        "def avg_important_word_number(samples, labels, vocab, threshold):\n",
        "    size = 0\n",
        "    for i, sample in enumerate(samples):\n",
        "        \n",
        "        # if(i%1000==0):\n",
        "        #     print(i)\n",
        "            \n",
        "        df = vocab[labels[i] + '_' + 'words']\n",
        "        for word in word_tokenize(sample):\n",
        "            try:\n",
        "                if df[df.term == word].iloc[0,3] > threshold:\n",
        "                    size += 1\n",
        "            except IndexError:\n",
        "                    size += 0 \n",
        "    return size / len(samples)\n",
        "\n",
        "def __false_negative_words__(clf, categories, X_val, y_val, vocab):\n",
        "    \n",
        "    ## clf: model\n",
        "    ## categories: list of classses\n",
        "    ## X_val\n",
        "    ## y_val\n",
        "    ## vocab: dict of cat as keys and dataframe as vocab learned by the model for that class\n",
        "    \n",
        "    ## return\n",
        "    ## fn_word: dict with keys as class and values as FN and word\n",
        "    ##          FN: dict with keys as fals negative classes and all sentences and important words as keys\n",
        "    ##          word: df of all fn_words with their gv and fn_class\n",
        "    \n",
        "    predict = clf.predict(X_val)\n",
        "    fn_word = {}\n",
        "    for cat in categories:\n",
        "        class_vocab = vocab[cat+ \"_words\"].set_index('term', inplace=False)\n",
        "        FN = collections.defaultdict(list)\n",
        "        word = []\n",
        "        for i, label in enumerate(y_val):\n",
        "            if label == cat and predict[i] != cat:\n",
        "                sentence = X_val[i].split()\n",
        "                top_words = clf.extract_insight(X_val[i], predict[i],window_size=0)\n",
        "                FN_word_sentence = []\n",
        "                for top_word in list(set(top_words)):\n",
        "                    insert = [X_val[i]]\n",
        "                    insert.extend([top_word[0], top_word[1], predict[i], sentence.count(top_word[0])])\n",
        "                    try:\n",
        "                        # insert.append(class_vocab.loc[top_word[0], 'gv'])\n",
        "                        insert.append(clf.cv(top_word[0].lower(), cat))\n",
        "                    except KeyError:\n",
        "                        insert.append(\"word not in vocab of \"+ cat)\n",
        "                    word.append(insert)\n",
        "                    FN_word_sentence.append(insert)\n",
        "                FN[predict[i]].append(FN_word_sentence)\n",
        "        fn_word[cat] = (dict(FN),pd.DataFrame(word, columns =['sentence', 'fn_word', 'cv', 'fn_class', 'count', 'cv_trueclass']))\n",
        "    return fn_word\n",
        "    "
      ],
      "execution_count": 5,
      "outputs": []
    },
    {
      "cell_type": "code",
      "metadata": {
        "id": "8ub0ZOJ7N1EP",
        "colab_type": "code",
        "colab": {}
      },
      "source": [
        "with open(path_root + data_root + 'CityReview/test.txt', 'r') as text_file:\n",
        "  text = text_file.read().split('\\n')\n",
        "\n",
        "with open(path_root + data_root + 'CityReview/test_label.txt', 'r') as label_file:\n",
        "  labels = label_file.read().split('\\n')\n",
        "del text[-1]\n",
        "del labels[-1]\n",
        "\n",
        "\n",
        "reduce_class = 1\n",
        "allowed_labels = ['Food', 'Staff', 'Price', 'Ambience', 'Anecdotes', 'Miscellaneous']\n",
        "if reduce_class:\n",
        "  retain_classes(text, labels, allowed_labels)"
      ],
      "execution_count": 6,
      "outputs": []
    },
    {
      "cell_type": "code",
      "metadata": {
        "id": "1IXdrblcN1DM",
        "colab_type": "code",
        "colab": {}
      },
      "source": [
        "X_train, X_val, y_train, y_val = train_test_split(text, labels, test_size=0.2)"
      ],
      "execution_count": 7,
      "outputs": []
    },
    {
      "cell_type": "code",
      "metadata": {
        "id": "fOncYhMP3K-I",
        "colab_type": "code",
        "colab": {
          "base_uri": "https://localhost:8080/",
          "height": 374
        },
        "outputId": "d3be8b47-fbe4-4faa-d901-360836170f78"
      },
      "source": [
        "# pd.Series(labels).value_counts().plot(kind ='bar')\n",
        "ax = pd.Series(labels).value_counts().plot(kind ='bar', title='City')\n",
        "ax.set_xlabel(\"categories\")\n",
        "ax.set_ylabel(\"# of samples\")"
      ],
      "execution_count": 8,
      "outputs": [
        {
          "output_type": "execute_result",
          "data": {
            "text/plain": [
              "Text(0, 0.5, '# of samples')"
            ]
          },
          "metadata": {
            "tags": []
          },
          "execution_count": 8
        },
        {
          "output_type": "display_data",
          "data": {
            "image/png": "[encoded data removed]",
            "text/plain": [
              "<Figure size 432x288 with 1 Axes>"
            ]
          },
          "metadata": {
            "tags": [],
            "needs_background": "light"
          }
        }
      ]
    },
    {
      "cell_type": "code",
      "metadata": {
        "id": "HwFuAcBc28h-",
        "colab_type": "code",
        "colab": {
          "base_uri": "https://localhost:8080/",
          "height": 890
        },
        "outputId": "496fe933-d97c-47b2-b75c-49d98f00068c"
      },
      "source": [
        "clf = SS3(cv_m='gv')\n",
        "clf.fit(X_train, y_train)\n",
        "Evaluation.test(clf, X_val, y_val, metric=\"f1-score\")"
      ],
      "execution_count": 10,
      "outputs": [
        {
          "output_type": "stream",
          "text": [
            "Training on 'Staff': 100%|██████████| 6/6 [00:00<00:00, 29.53it/s]\n",
            "Classification: 100%|██████████| 566/566 [00:00<00:00, 26426.84it/s]\n"
          ],
          "name": "stderr"
        },
        {
          "output_type": "stream",
          "text": [
            "\n",
            "               precision    recall  f1-score   support\n",
            "\n",
            "     Ambience       0.56      0.51      0.53        45\n",
            "    Anecdotes       0.43      0.63      0.51        65\n",
            "         Food       0.81      0.72      0.76       183\n",
            "Miscellaneous       0.63      0.59      0.61       175\n",
            "        Price       0.55      0.60      0.58        35\n",
            "        Staff       0.65      0.67      0.66        63\n",
            "\n",
            "     accuracy                           0.64       566\n",
            "    macro avg       0.61      0.62      0.61       566\n",
            " weighted avg       0.66      0.64      0.65       566\n",
            "\n",
            "\n",
            " \u001b[1mAccuracy\u001b[0m: 0.641\n",
            "\n",
            "\u001b[94m[ updating evaluations cache ]\u001b[0m\n"
          ],
          "name": "stdout"
        },
        {
          "output_type": "display_data",
          "data": {
            "image/png": "[encoded data removed]",
            "text/plain": [
              "<Figure size 576x576 with 2 Axes>"
            ]
          },
          "metadata": {
            "tags": [],
            "needs_background": "light"
          }
        },
        {
          "output_type": "execute_result",
          "data": {
            "text/plain": [
              "0.6092585480940669"
            ]
          },
          "metadata": {
            "tags": []
          },
          "execution_count": 10
        }
      ]
    },
    {
      "cell_type": "code",
      "metadata": {
        "id": "_63dmJCm7PpU",
        "colab_type": "code",
        "colab": {}
      },
      "source": [
        ""
      ],
      "execution_count": null,
      "outputs": []
    }
  ]
}