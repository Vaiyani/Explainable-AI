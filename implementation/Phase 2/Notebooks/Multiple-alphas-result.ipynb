{
 "cells": [
  {
   "cell_type": "code",
   "execution_count": 1,
   "metadata": {
    "colab": {
     "base_uri": "https://localhost:8080/",
     "height": 151
    },
    "colab_type": "code",
    "executionInfo": {
     "elapsed": 6171,
     "status": "ok",
     "timestamp": 1592768298698,
     "user": {
      "displayName": "Muneeb Vaiyani",
      "photoUrl": "",
      "userId": "08361947535252094250"
     },
     "user_tz": -120
    },
    "id": "ZbOC_mVCD3W_",
    "outputId": "7e3a1590-aea5-41c4-a7a5-b824d5ee6057"
   },
   "outputs": [
    {
     "name": "stdout",
     "output_type": "stream",
     "text": [
      "Collecting iterative-stratification\n",
      "  Downloading https://files.pythonhosted.org/packages/9d/79/9ba64c8c07b07b8b45d80725b2ebd7b7884701c1da34f70d4749f7b45f9a/iterative_stratification-0.1.6-py3-none-any.whl\n",
      "Requirement already satisfied: numpy in /usr/local/lib/python3.6/dist-packages (from iterative-stratification) (1.18.5)\n",
      "Requirement already satisfied: scipy in /usr/local/lib/python3.6/dist-packages (from iterative-stratification) (1.4.1)\n",
      "Requirement already satisfied: scikit-learn in /usr/local/lib/python3.6/dist-packages (from iterative-stratification) (0.22.2.post1)\n",
      "Requirement already satisfied: joblib>=0.11 in /usr/local/lib/python3.6/dist-packages (from scikit-learn->iterative-stratification) (0.15.1)\n",
      "Installing collected packages: iterative-stratification\n",
      "Successfully installed iterative-stratification-0.1.6\n"
     ]
    }
   ],
   "source": [
    "!pip install iterative-stratification"
   ]
  },
  {
   "cell_type": "code",
   "execution_count": 2,
   "metadata": {
    "colab": {},
    "colab_type": "code",
    "executionInfo": {
     "elapsed": 6610,
     "status": "ok",
     "timestamp": 1592768299348,
     "user": {
      "displayName": "Muneeb Vaiyani",
      "photoUrl": "",
      "userId": "08361947535252094250"
     },
     "user_tz": -120
    },
    "id": "ktDA4SksgBTA"
   },
   "outputs": [],
   "source": [
    "from google.colab import drive\n",
    "from sys import path\n",
    "from sklearn.model_selection import train_test_split\n",
    "from sklearn.metrics import f1_score, confusion_matrix, ConfusionMatrixDisplay, accuracy_score\n",
    "\n",
    "import numpy as np\n",
    "import pandas as pd\n",
    "import itertools"
   ]
  },
  {
   "cell_type": "code",
   "execution_count": 3,
   "metadata": {
    "colab": {
     "base_uri": "https://localhost:8080/",
     "height": 121
    },
    "colab_type": "code",
    "executionInfo": {
     "elapsed": 27637,
     "status": "ok",
     "timestamp": 1592768320636,
     "user": {
      "displayName": "Muneeb Vaiyani",
      "photoUrl": "",
      "userId": "08361947535252094250"
     },
     "user_tz": -120
    },
    "id": "gX1fF4qqEdg9",
    "outputId": "33d78364-413c-438f-d0ca-75817e7fb470"
   },
   "outputs": [
    {
     "name": "stdout",
     "output_type": "stream",
     "text": [
      "Go to this URL in a browser: https://accounts.google.com/o/oauth2/auth?client_id=947318989803-6bn6qk8qdgf4n4g3pfee6491hc0brc4i.apps.googleusercontent.com&redirect_uri=urn%3aietf%3awg%3aoauth%3a2.0%3aoob&response_type=code&scope=email%20https%3a%2f%2fwww.googleapis.com%2fauth%2fdocs.test%20https%3a%2f%2fwww.googleapis.com%2fauth%2fdrive%20https%3a%2f%2fwww.googleapis.com%2fauth%2fdrive.photos.readonly%20https%3a%2f%2fwww.googleapis.com%2fauth%2fpeopleapi.readonly\n",
      "\n",
      "Enter your authorization code:\n",
      "··········\n",
      "Mounted at /content/drive\n"
     ]
    }
   ],
   "source": [
    "drive.mount('/content/drive', force_remount=True)\n",
    "path_root = '/content/drive/My Drive/NLP Lab/Notebooks/Multiple_alphas/pyss3'\n",
    "path.append(path_root)\n",
    "# data_root = 'data/'"
   ]
  },
  {
   "cell_type": "code",
   "execution_count": 4,
   "metadata": {
    "colab": {},
    "colab_type": "code",
    "executionInfo": {
     "elapsed": 26388,
     "status": "ok",
     "timestamp": 1592752209010,
     "user": {
      "displayName": "Muneeb Vaiyani",
      "photoUrl": "",
      "userId": "08361947535252094250"
     },
     "user_tz": -120
    },
    "id": "AAhjrP41ExV6"
   },
   "outputs": [],
   "source": [
    "# !ls /content/drive/My\\ Drive/NLP\\ Lab/Notebooks/Multiple_alphas/pyss3"
   ]
  },
  {
   "cell_type": "code",
   "execution_count": 4,
   "metadata": {
    "colab": {},
    "colab_type": "code",
    "executionInfo": {
     "elapsed": 3935,
     "status": "ok",
     "timestamp": 1592768328143,
     "user": {
      "displayName": "Muneeb Vaiyani",
      "photoUrl": "",
      "userId": "08361947535252094250"
     },
     "user_tz": -120
    },
    "id": "An66qJTlFC5d"
   },
   "outputs": [],
   "source": [
    "import pyss3\n",
    "from pyss3 import SS3\n",
    "from pyss3.util import Dataset, Evaluation, span"
   ]
  },
  {
   "cell_type": "code",
   "execution_count": 9,
   "metadata": {
    "colab": {},
    "colab_type": "code",
    "executionInfo": {
     "elapsed": 1643,
     "status": "ok",
     "timestamp": 1592770531705,
     "user": {
      "displayName": "Muneeb Vaiyani",
      "photoUrl": "",
      "userId": "08361947535252094250"
     },
     "user_tz": -120
    },
    "id": "4lq1Wj9EJted"
   },
   "outputs": [],
   "source": [
    "df = pd.read_csv( \"/content/drive/My Drive/NLP Lab/SingleLabel/data/SemEval2017/SemEval2017-task4-dev.subtask-A.english.INPUT.txt\", sep=\"\\t\", header=None)\n",
    "df = df[[1,2]]\n",
    "\n",
    "labels = df[1].to_list()\n",
    "text = df[2].to_list()\n",
    "X_train, X_val, y_train, y_val = train_test_split(text, labels, test_size=0.2)"
   ]
  },
  {
   "cell_type": "code",
   "execution_count": 10,
   "metadata": {
    "colab": {},
    "colab_type": "code",
    "executionInfo": {
     "elapsed": 3602,
     "status": "ok",
     "timestamp": 1592770535826,
     "user": {
      "displayName": "Muneeb Vaiyani",
      "photoUrl": "",
      "userId": "08361947535252094250"
     },
     "user_tz": -120
    },
    "id": "TySOl7fejh6S"
   },
   "outputs": [],
   "source": [
    "clf = SS3()\n",
    "clf.fit(X_train, y_train, n_grams=1)\n",
    "# Evaluation.test(clf, X_val, y_val, metric=\"f1-score\")"
   ]
  },
  {
   "cell_type": "markdown",
   "metadata": {
    "colab_type": "text",
    "id": "KpnxF8kf8O3g"
   },
   "source": [
    "# **GRID SEACRH**"
   ]
  },
  {
   "cell_type": "code",
   "execution_count": 11,
   "metadata": {
    "colab": {
     "base_uri": "https://localhost:8080/",
     "height": 67
    },
    "colab_type": "code",
    "executionInfo": {
     "elapsed": 4200,
     "status": "ok",
     "timestamp": 1592770541027,
     "user": {
      "displayName": "Muneeb Vaiyani",
      "photoUrl": "",
      "userId": "08361947535252094250"
     },
     "user_tz": -120
    },
    "id": "HBiBqSMcjkhd",
    "outputId": "d005944f-6683-456b-d725-f93f5a9f3be2"
   },
   "outputs": [
    {
     "name": "stdout",
     "output_type": "stream",
     "text": [
      "\r",
      " 1\n",
      "last_metric_value:  0.5612851910673385\n",
      "(0.714285714285, 0, 0, [0, 0, 0])\n"
     ]
    }
   ],
   "source": [
    "# pyss3.set_verbosity(0)\n",
    "\n",
    "# s = [0.714285714285]\n",
    "# l = [0]\n",
    "# p = [0]\n",
    "# a = []\n",
    "# for a1 in [0]:\n",
    "#     for a2 in [0]:\n",
    "#         for a3 in [0]:\n",
    "#             a.append([a1,a2,a3])\n",
    "# slpa = list(itertools.product(s,l,p,a))\n",
    "# iterations = len(slpa)\n",
    "# last_metric_value = 0\n",
    "# current_iteration = 0\n",
    "# divider = 100\n",
    "# # print(iterations)\n",
    "\n",
    "# for s,l,p,a in iter(slpa):\n",
    "#     current_iteration += 1\n",
    "#     print('\\r',current_iteration, end='')\n",
    "#     clf.set_hyperparameters(s,l,p,a)\n",
    "#     predict = clf.predict(X_val)\n",
    "#     metric_value = f1_score(y_val,predict, average='macro')\n",
    "#     if metric_value > last_metric_value:\n",
    "#         last_metric_value = metric_value\n",
    "#         best = (s,l,p,a)\n",
    "#     if current_iteration%divider == 0:\n",
    "#         print(' -> best value so far: ', last_metric_value, ' -> best values: s={}, l={}, p={}, a={}'.format(best[0], best[1], best[2], best[3]), \"iterations: \", current_iteration, \"/\", iterations)\n",
    "\n",
    "        \n",
    "# print('')\n",
    "# print(\"last_metric_value: \", last_metric_value)\n",
    "# print(best)"
   ]
  },
  {
   "cell_type": "code",
   "execution_count": null,
   "metadata": {
    "colab": {},
    "colab_type": "code",
    "id": "v98lSAHghPeh"
   },
   "outputs": [],
   "source": [
    "For S = 0.714285714285\n",
    "L = 0 \n",
    "P = 0\n",
    "A = [0, 0, 0]\n",
    "\n",
    "\n",
    "we get 0.56128"
   ]
  }
 ],
 "metadata": {
  "colab": {
   "authorship_tag": "ABX9TyMuSk9qN77vpO1se62CLsXx",
   "collapsed_sections": [],
   "name": "MultipleAlphas.ipynb",
   "provenance": []
  },
  "kernelspec": {
   "display_name": "Python 3",
   "language": "python",
   "name": "python3"
  },
  "language_info": {
   "codemirror_mode": {
    "name": "ipython",
    "version": 3
   },
   "file_extension": ".py",
   "mimetype": "text/x-python",
   "name": "python",
   "nbconvert_exporter": "python",
   "pygments_lexer": "ipython3",
   "version": "3.7.3"
  }
 },
 "nbformat": 4,
 "nbformat_minor": 1
}
