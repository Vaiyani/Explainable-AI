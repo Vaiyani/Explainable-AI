{
  "nbformat": 4,
  "nbformat_minor": 0,
  "metadata": {
    "colab": {
      "name": "AmazonReview2018.ipynb",
      "provenance": [],
      "collapsed_sections": []
    },
    "kernelspec": {
      "name": "python3",
      "display_name": "Python 3"
    }
  },
  "cells": [
    {
      "cell_type": "markdown",
      "metadata": {
        "id": "y__O-xmG1Lje",
        "colab_type": "text"
      },
      "source": [
        "# TLDR: Macro Avg. F1 = 33% (5 Classes)\n",
        "# TLDR: Macro Avg. F1 = 75% (2 Classes)"
      ]
    },
    {
      "cell_type": "markdown",
      "metadata": {
        "id": "fT0c2K7fJlmn",
        "colab_type": "text"
      },
      "source": [
        "# Default Setup"
      ]
    },
    {
      "cell_type": "code",
      "metadata": {
        "id": "KCaXmjKFJjNq",
        "colab_type": "code",
        "colab": {
          "base_uri": "https://localhost:8080/",
          "height": 496
        },
        "outputId": "05ea77ec-95e3-4ecb-8a06-959badee5d53"
      },
      "source": [
        "# Dataloading Stuff\n",
        "from google.colab import drive\n",
        "from sys import path\n",
        "import os\n",
        "\n",
        "# Standard Stuff\n",
        "!pip3 install numpy sklearn iterative-stratification pandas pyss3\n",
        "from sklearn.model_selection import train_test_split\n",
        "\n",
        "from pyss3 import SS3\n",
        "from pyss3.util import Dataset, Evaluation, span\n",
        "\n",
        "import numpy as np\n",
        "import pandas as pd\n",
        "\n",
        "drive.mount('/content/drive', force_remount=True)\n",
        "path_root = '/content/drive/My Drive/NLP Lab/SingleLabel/'\n",
        "path.append(path_root)\n",
        "data_root = 'data/'"
      ],
      "execution_count": 1,
      "outputs": [
        {
          "output_type": "stream",
          "text": [
            "Requirement already satisfied: numpy in /usr/local/lib/python3.6/dist-packages (1.18.5)\n",
            "Requirement already satisfied: sklearn in /usr/local/lib/python3.6/dist-packages (0.0)\n",
            "Collecting iterative-stratification\n",
            "  Downloading https://files.pythonhosted.org/packages/9d/79/9ba64c8c07b07b8b45d80725b2ebd7b7884701c1da34f70d4749f7b45f9a/iterative_stratification-0.1.6-py3-none-any.whl\n",
            "Requirement already satisfied: pandas in /usr/local/lib/python3.6/dist-packages (1.0.5)\n",
            "Collecting pyss3\n",
            "\u001b[?25l  Downloading https://files.pythonhosted.org/packages/52/06/02e7944ecf2dff0997fde276bf28add979c2d30c266a7e5d3300a6e1959a/pyss3-0.6.2-py3-none-any.whl (2.0MB)\n",
            "\u001b[K     |████████████████████████████████| 2.0MB 4.7MB/s \n",
            "\u001b[?25hRequirement already satisfied: scikit-learn in /usr/local/lib/python3.6/dist-packages (from sklearn) (0.22.2.post1)\n",
            "Requirement already satisfied: scipy in /usr/local/lib/python3.6/dist-packages (from iterative-stratification) (1.4.1)\n",
            "Requirement already satisfied: pytz>=2017.2 in /usr/local/lib/python3.6/dist-packages (from pandas) (2018.9)\n",
            "Requirement already satisfied: python-dateutil>=2.6.1 in /usr/local/lib/python3.6/dist-packages (from pandas) (2.8.1)\n",
            "Requirement already satisfied: tqdm>=4.8.4 in /usr/local/lib/python3.6/dist-packages (from pyss3) (4.41.1)\n",
            "Requirement already satisfied: matplotlib in /usr/local/lib/python3.6/dist-packages (from pyss3) (3.2.2)\n",
            "Requirement already satisfied: cython in /usr/local/lib/python3.6/dist-packages (from pyss3) (0.29.20)\n",
            "Requirement already satisfied: six in /usr/local/lib/python3.6/dist-packages (from pyss3) (1.12.0)\n",
            "Requirement already satisfied: joblib>=0.11 in /usr/local/lib/python3.6/dist-packages (from scikit-learn->sklearn) (0.15.1)\n",
            "Requirement already satisfied: kiwisolver>=1.0.1 in /usr/local/lib/python3.6/dist-packages (from matplotlib->pyss3) (1.2.0)\n",
            "Requirement already satisfied: cycler>=0.10 in /usr/local/lib/python3.6/dist-packages (from matplotlib->pyss3) (0.10.0)\n",
            "Requirement already satisfied: pyparsing!=2.0.4,!=2.1.2,!=2.1.6,>=2.0.1 in /usr/local/lib/python3.6/dist-packages (from matplotlib->pyss3) (2.4.7)\n",
            "Installing collected packages: iterative-stratification, pyss3\n",
            "Successfully installed iterative-stratification-0.1.6 pyss3-0.6.2\n",
            "Go to this URL in a browser: https://accounts.google.com/o/oauth2/auth?client_id=947318989803-6bn6qk8qdgf4n4g3pfee6491hc0brc4i.apps.googleusercontent.com&redirect_uri=urn%3aietf%3awg%3aoauth%3a2.0%3aoob&response_type=code&scope=email%20https%3a%2f%2fwww.googleapis.com%2fauth%2fdocs.test%20https%3a%2f%2fwww.googleapis.com%2fauth%2fdrive%20https%3a%2f%2fwww.googleapis.com%2fauth%2fdrive.photos.readonly%20https%3a%2f%2fwww.googleapis.com%2fauth%2fpeopleapi.readonly\n",
            "\n",
            "Enter your authorization code:\n",
            "··········\n",
            "Mounted at /content/drive\n"
          ],
          "name": "stdout"
        }
      ]
    },
    {
      "cell_type": "markdown",
      "metadata": {
        "id": "7spLzLAuJukq",
        "colab_type": "text"
      },
      "source": [
        "## Load Data\n",
        "Important: We only load some parts of the dataset (~200 MB), since the whole dataset consitst of 25 GB."
      ]
    },
    {
      "cell_type": "code",
      "metadata": {
        "id": "LDeeUOXnJreo",
        "colab_type": "code",
        "colab": {
          "base_uri": "https://localhost:8080/",
          "height": 34
        },
        "outputId": "acbbbdd6-ccd4-4c02-e404-450cc8311c37"
      },
      "source": [
        "import json\n",
        "files = []\n",
        "text = []\n",
        "labels = []\n",
        "failed_counter = 0\n",
        "\n",
        "for _, _, file_names in os.walk(path_root + data_root + \"AmazonReview2018\"):\n",
        "  for file_name in file_names:\n",
        "    if '.json' in file_name:\n",
        "      files.append(file_name)\n",
        "\n",
        "for j_file in files[:4]:\n",
        "  with open(path_root + data_root + \"AmazonReview2018/\" + j_file, \"r\") as json_file:\n",
        "    for line in json_file:\n",
        "      json_data = json.loads(line)\n",
        "      try:\n",
        "        text.append(json_data['reviewText'])\n",
        "        labels.append(str(json_data['overall']))\n",
        "      except KeyError:\n",
        "        failed_counter += 1\n",
        "\n",
        "print(len(text), failed_counter)\n",
        "X_train, X_val, y_train, y_val = train_test_split(text, labels, test_size=0.2)"
      ],
      "execution_count": 5,
      "outputs": [
        {
          "output_type": "stream",
          "text": [
            "504897 310\n"
          ],
          "name": "stdout"
        }
      ]
    },
    {
      "cell_type": "markdown",
      "metadata": {
        "id": "-eB56zKRJ5Jj",
        "colab_type": "text"
      },
      "source": [
        "# Classification for 5 Classes"
      ]
    },
    {
      "cell_type": "code",
      "metadata": {
        "id": "j3VEfkhNJ6-z",
        "colab_type": "code",
        "colab": {
          "base_uri": "https://localhost:8080/",
          "height": 818
        },
        "outputId": "f6f42e87-c874-409f-ce2c-3e9055700898"
      },
      "source": [
        "clf = SS3()\n",
        "clf.fit(X_train, y_train)\n",
        "Evaluation.test(clf, X_val, y_val, metric=\"f1-score\")"
      ],
      "execution_count": 6,
      "outputs": [
        {
          "output_type": "stream",
          "text": [
            "Training on '5.0': 100%|██████████| 5/5 [00:58<00:00, 11.79s/it]\n",
            "Classification: 100%|██████████| 100980/100980 [00:01<00:00, 54970.23it/s]\n"
          ],
          "name": "stderr"
        },
        {
          "output_type": "stream",
          "text": [
            "\n",
            "              precision    recall  f1-score   support\n",
            "\n",
            "         1.0       0.22      0.65      0.33      2923\n",
            "         2.0       0.12      0.12      0.12      2583\n",
            "         3.0       0.34      0.15      0.21      5916\n",
            "         4.0       0.18      0.16      0.17     12352\n",
            "         5.0       0.84      0.83      0.83     77206\n",
            "\n",
            "    accuracy                           0.68    100980\n",
            "   macro avg       0.34      0.38      0.33    100980\n",
            "weighted avg       0.69      0.68      0.68    100980\n",
            "\n",
            "\n",
            " \u001b[1mAccuracy\u001b[0m: 0.681\n",
            "\n",
            "\u001b[94m[ updating evaluations cache ]\u001b[0m\n"
          ],
          "name": "stdout"
        },
        {
          "output_type": "display_data",
          "data": {
            "image/png": "[encoded data removed]",
            "text/plain": [
              "<Figure size 576x576 with 2 Axes>"
            ]
          },
          "metadata": {
            "tags": [],
            "needs_background": "light"
          }
        },
        {
          "output_type": "execute_result",
          "data": {
            "text/plain": [
              "0.33094676979914245"
            ]
          },
          "metadata": {
            "tags": []
          },
          "execution_count": 6
        }
      ]
    },
    {
      "cell_type": "markdown",
      "metadata": {
        "id": "GKXLdRBh8_KN",
        "colab_type": "text"
      },
      "source": [
        "# Classification with 2 Classes\n",
        "Here we map the values 1-3 to negative and the values 4,5 to positive."
      ]
    },
    {
      "cell_type": "code",
      "metadata": {
        "id": "489bemn4lT2E",
        "colab_type": "code",
        "colab": {
          "base_uri": "https://localhost:8080/",
          "height": 786
        },
        "outputId": "ed427b2e-a246-44ab-8b54-02565758d65a"
      },
      "source": [
        "df = pd.Series(labels).astype(str)\n",
        "df.replace({'1.0': 'negative', '2.0': 'negative', '3.0': 'negative', '4.0': 'positive', '5.0': 'positive'}, inplace=True, regex=True)\n",
        "new_labels = df.to_list()\n",
        "X_train2, X_val2, y_train2, y_val2 = train_test_split(text, new_labels, test_size=0.2)\n",
        "\n",
        "clf = SS3()\n",
        "clf.fit(X_train2, y_train2)\n",
        "Evaluation.clear_cache()\n",
        "Evaluation.test(clf, X_val2, y_val2, metric=\"f1-score\")"
      ],
      "execution_count": 7,
      "outputs": [
        {
          "output_type": "stream",
          "text": [
            "Training on 'positive': 100%|██████████| 2/2 [01:01<00:00, 30.52s/it]\n",
            "Classification: 100%|██████████| 100980/100980 [00:01<00:00, 54125.18it/s]\n"
          ],
          "name": "stderr"
        },
        {
          "output_type": "stream",
          "text": [
            "\n",
            "              precision    recall  f1-score   support\n",
            "\n",
            "    negative       0.57      0.57      0.57     11418\n",
            "    positive       0.94      0.95      0.95     89562\n",
            "\n",
            "    accuracy                           0.90    100980\n",
            "   macro avg       0.76      0.76      0.76    100980\n",
            "weighted avg       0.90      0.90      0.90    100980\n",
            "\n",
            "\n",
            " \u001b[1mAccuracy\u001b[0m: 0.903\n",
            "\n",
            "\u001b[94m[ updating evaluations cache ]\u001b[0m\n"
          ],
          "name": "stdout"
        },
        {
          "output_type": "display_data",
          "data": {
            "image/png": "[encoded data removed]",
            "text/plain": [
              "<Figure size 576x576 with 2 Axes>"
            ]
          },
          "metadata": {
            "tags": [],
            "needs_background": "light"
          }
        },
        {
          "output_type": "execute_result",
          "data": {
            "text/plain": [
              "0.7574737948625175"
            ]
          },
          "metadata": {
            "tags": []
          },
          "execution_count": 7
        }
      ]
    }
  ]
}