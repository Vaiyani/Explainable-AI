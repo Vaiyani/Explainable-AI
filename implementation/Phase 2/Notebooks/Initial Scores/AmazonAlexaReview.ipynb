{
  "nbformat": 4,
  "nbformat_minor": 0,
  "metadata": {
    "colab": {
      "name": "AmazonAlexaReview.ipynb",
      "provenance": [],
      "collapsed_sections": []
    },
    "kernelspec": {
      "name": "python3",
      "display_name": "Python 3"
    }
  },
  "cells": [
    {
      "cell_type": "markdown",
      "metadata": {
        "id": "osRWs1I81Eji",
        "colab_type": "text"
      },
      "source": [
        "# TLDR: Macro Avg. F1 = 35% (5 Classes)\n",
        "# TLDR: Macro Avg. F1 = 73% (2 Classes)"
      ]
    },
    {
      "cell_type": "markdown",
      "metadata": {
        "id": "fT0c2K7fJlmn",
        "colab_type": "text"
      },
      "source": [
        "# Default Setup"
      ]
    },
    {
      "cell_type": "code",
      "metadata": {
        "id": "KCaXmjKFJjNq",
        "colab_type": "code",
        "colab": {
          "base_uri": "https://localhost:8080/",
          "height": 490
        },
        "outputId": "cdb9ce34-ea76-4006-b90d-6b0c60465f76"
      },
      "source": [
        "# Dataloading Stuff\n",
        "from google.colab import drive\n",
        "from sys import path\n",
        "import os\n",
        "\n",
        "# Standard Stuff\n",
        "!pip3 install numpy sklearn iterative-stratification pandas pyss3\n",
        "from sklearn.model_selection import train_test_split\n",
        "\n",
        "from pyss3 import SS3\n",
        "from pyss3.util import Dataset, Evaluation, span\n",
        "\n",
        "import numpy as np\n",
        "import pandas as pd\n",
        "\n",
        "drive.mount('/content/drive', force_remount=True)\n",
        "path_root = '/content/drive/My Drive/NLP Lab/SingleLabel/'\n",
        "path.append(path_root)\n",
        "data_root = 'data/'"
      ],
      "execution_count": null,
      "outputs": [
        {
          "output_type": "stream",
          "text": [
            "Requirement already satisfied: numpy in /usr/local/lib/python3.6/dist-packages (1.18.5)\n",
            "Requirement already satisfied: sklearn in /usr/local/lib/python3.6/dist-packages (0.0)\n",
            "Collecting iterative-stratification\n",
            "  Downloading https://files.pythonhosted.org/packages/9d/79/9ba64c8c07b07b8b45d80725b2ebd7b7884701c1da34f70d4749f7b45f9a/iterative_stratification-0.1.6-py3-none-any.whl\n",
            "Requirement already satisfied: pandas in /usr/local/lib/python3.6/dist-packages (1.0.4)\n",
            "Collecting pyss3\n",
            "\u001b[?25l  Downloading https://files.pythonhosted.org/packages/c8/9f/d390d2ba8979d4c10169e20587a1494ab99bdc6ce83202aa76c5a47ff1f8/pyss3-0.6.1-py3-none-any.whl (2.0MB)\n",
            "\r\u001b[K     |▏                               | 10kB 16.1MB/s eta 0:00:01\r\u001b[K     |▎                               | 20kB 10.3MB/s eta 0:00:01\r\u001b[K     |▌                               | 30kB 2.7MB/s eta 0:00:01\r\u001b[K     |▋                               | 40kB 3.4MB/s eta 0:00:01\r\u001b[K     |▉                               | 51kB 3.5MB/s eta 0:00:01\r\u001b[K     |█                               | 61kB 3.8MB/s eta 0:00:01\r\u001b[K     |█▏                              | 71kB 3.0MB/s eta 0:00:01\r\u001b[K     |█▎                              | 81kB 3.4MB/s eta 0:00:01\r\u001b[K     |█▌                              | 92kB 3.7MB/s eta 0:00:01\r\u001b[K     |█▋                              | 102kB 3.9MB/s eta 0:00:01\r\u001b[K     |█▉                              | 112kB 3.9MB/s eta 0:00:01\r\u001b[K     |██                              | 122kB 3.9MB/s eta 0:00:01\r\u001b[K     |██▏                             | 133kB 3.9MB/s eta 0:00:01\r\u001b[K     |██▎                             | 143kB 3.9MB/s eta 0:00:01\r\u001b[K     |██▌                             | 153kB 3.9MB/s eta 0:00:01\r\u001b[K     |██▋                             | 163kB 3.9MB/s eta 0:00:01\r\u001b[K     |██▉                             | 174kB 3.9MB/s eta 0:00:01\r\u001b[K     |███                             | 184kB 3.9MB/s eta 0:00:01\r\u001b[K     |███▏                            | 194kB 3.9MB/s eta 0:00:01\r\u001b[K     |███▎                            | 204kB 3.9MB/s eta 0:00:01\r\u001b[K     |███▌                            | 215kB 3.9MB/s eta 0:00:01\r\u001b[K     |███▋                            | 225kB 3.9MB/s eta 0:00:01\r\u001b[K     |███▉                            | 235kB 3.9MB/s eta 0:00:01\r\u001b[K     |████                            | 245kB 3.9MB/s eta 0:00:01\r\u001b[K     |████▏                           | 256kB 3.9MB/s eta 0:00:01\r\u001b[K     |████▎                           | 266kB 3.9MB/s eta 0:00:01\r\u001b[K     |████▌                           | 276kB 3.9MB/s eta 0:00:01\r\u001b[K     |████▋                           | 286kB 3.9MB/s eta 0:00:01\r\u001b[K     |████▉                           | 296kB 3.9MB/s eta 0:00:01\r\u001b[K     |█████                           | 307kB 3.9MB/s eta 0:00:01\r\u001b[K     |█████▏                          | 317kB 3.9MB/s eta 0:00:01\r\u001b[K     |█████▎                          | 327kB 3.9MB/s eta 0:00:01\r\u001b[K     |█████▌                          | 337kB 3.9MB/s eta 0:00:01\r\u001b[K     |█████▋                          | 348kB 3.9MB/s eta 0:00:01\r\u001b[K     |█████▉                          | 358kB 3.9MB/s eta 0:00:01\r\u001b[K     |██████                          | 368kB 3.9MB/s eta 0:00:01\r\u001b[K     |██████▏                         | 378kB 3.9MB/s eta 0:00:01\r\u001b[K     |██████▎                         | 389kB 3.9MB/s eta 0:00:01\r\u001b[K     |██████▌                         | 399kB 3.9MB/s eta 0:00:01\r\u001b[K     |██████▋                         | 409kB 3.9MB/s eta 0:00:01\r\u001b[K     |██████▉                         | 419kB 3.9MB/s eta 0:00:01\r\u001b[K     |███████                         | 430kB 3.9MB/s eta 0:00:01\r\u001b[K     |███████▏                        | 440kB 3.9MB/s eta 0:00:01\r\u001b[K     |███████▎                        | 450kB 3.9MB/s eta 0:00:01\r\u001b[K     |███████▌                        | 460kB 3.9MB/s eta 0:00:01\r\u001b[K     |███████▋                        | 471kB 3.9MB/s eta 0:00:01\r\u001b[K     |███████▉                        | 481kB 3.9MB/s eta 0:00:01\r\u001b[K     |████████                        | 491kB 3.9MB/s eta 0:00:01\r\u001b[K     |████████▏                       | 501kB 3.9MB/s eta 0:00:01\r\u001b[K     |████████▎                       | 512kB 3.9MB/s eta 0:00:01\r\u001b[K     |████████▌                       | 522kB 3.9MB/s eta 0:00:01\r\u001b[K     |████████▋                       | 532kB 3.9MB/s eta 0:00:01\r\u001b[K     |████████▉                       | 542kB 3.9MB/s eta 0:00:01\r\u001b[K     |█████████                       | 552kB 3.9MB/s eta 0:00:01\r\u001b[K     |█████████▏                      | 563kB 3.9MB/s eta 0:00:01\r\u001b[K     |█████████▎                      | 573kB 3.9MB/s eta 0:00:01\r\u001b[K     |█████████▌                      | 583kB 3.9MB/s eta 0:00:01\r\u001b[K     |█████████▋                      | 593kB 3.9MB/s eta 0:00:01\r\u001b[K     |█████████▉                      | 604kB 3.9MB/s eta 0:00:01\r\u001b[K     |██████████                      | 614kB 3.9MB/s eta 0:00:01\r\u001b[K     |██████████▏                     | 624kB 3.9MB/s eta 0:00:01\r\u001b[K     |██████████▎                     | 634kB 3.9MB/s eta 0:00:01\r\u001b[K     |██████████▌                     | 645kB 3.9MB/s eta 0:00:01\r\u001b[K     |██████████▋                     | 655kB 3.9MB/s eta 0:00:01\r\u001b[K     |██████████▉                     | 665kB 3.9MB/s eta 0:00:01\r\u001b[K     |███████████                     | 675kB 3.9MB/s eta 0:00:01\r\u001b[K     |███████████▏                    | 686kB 3.9MB/s eta 0:00:01\r\u001b[K     |███████████▎                    | 696kB 3.9MB/s eta 0:00:01\r\u001b[K     |███████████▌                    | 706kB 3.9MB/s eta 0:00:01\r\u001b[K     |███████████▋                    | 716kB 3.9MB/s eta 0:00:01\r\u001b[K     |███████████▉                    | 727kB 3.9MB/s eta 0:00:01\r\u001b[K     |████████████                    | 737kB 3.9MB/s eta 0:00:01\r\u001b[K     |████████████▏                   | 747kB 3.9MB/s eta 0:00:01\r\u001b[K     |████████████▎                   | 757kB 3.9MB/s eta 0:00:01\r\u001b[K     |████████████▌                   | 768kB 3.9MB/s eta 0:00:01\r\u001b[K     |████████████▋                   | 778kB 3.9MB/s eta 0:00:01\r\u001b[K     |████████████▉                   | 788kB 3.9MB/s eta 0:00:01\r\u001b[K     |█████████████                   | 798kB 3.9MB/s eta 0:00:01\r\u001b[K     |█████████████▏                  | 808kB 3.9MB/s eta 0:00:01\r\u001b[K     |█████████████▎                  | 819kB 3.9MB/s eta 0:00:01\r\u001b[K     |█████████████▍                  | 829kB 3.9MB/s eta 0:00:01\r\u001b[K     |█████████████▋                  | 839kB 3.9MB/s eta 0:00:01\r\u001b[K     |█████████████▊                  | 849kB 3.9MB/s eta 0:00:01\r\u001b[K     |██████████████                  | 860kB 3.9MB/s eta 0:00:01\r\u001b[K     |██████████████                  | 870kB 3.9MB/s eta 0:00:01\r\u001b[K     |██████████████▎                 | 880kB 3.9MB/s eta 0:00:01\r\u001b[K     |██████████████▍                 | 890kB 3.9MB/s eta 0:00:01\r\u001b[K     |██████████████▋                 | 901kB 3.9MB/s eta 0:00:01\r\u001b[K     |██████████████▊                 | 911kB 3.9MB/s eta 0:00:01\r\u001b[K     |███████████████                 | 921kB 3.9MB/s eta 0:00:01\r\u001b[K     |███████████████                 | 931kB 3.9MB/s eta 0:00:01\r\u001b[K     |███████████████▎                | 942kB 3.9MB/s eta 0:00:01\r\u001b[K     |███████████████▍                | 952kB 3.9MB/s eta 0:00:01\r\u001b[K     |███████████████▋                | 962kB 3.9MB/s eta 0:00:01\r\u001b[K     |███████████████▊                | 972kB 3.9MB/s eta 0:00:01\r\u001b[K     |████████████████                | 983kB 3.9MB/s eta 0:00:01\r\u001b[K     |████████████████                | 993kB 3.9MB/s eta 0:00:01\r\u001b[K     |████████████████▎               | 1.0MB 3.9MB/s eta 0:00:01\r\u001b[K     |████████████████▍               | 1.0MB 3.9MB/s eta 0:00:01\r\u001b[K     |████████████████▋               | 1.0MB 3.9MB/s eta 0:00:01\r\u001b[K     |████████████████▊               | 1.0MB 3.9MB/s eta 0:00:01\r\u001b[K     |█████████████████               | 1.0MB 3.9MB/s eta 0:00:01\r\u001b[K     |█████████████████               | 1.1MB 3.9MB/s eta 0:00:01\r\u001b[K     |█████████████████▎              | 1.1MB 3.9MB/s eta 0:00:01\r\u001b[K     |█████████████████▍              | 1.1MB 3.9MB/s eta 0:00:01\r\u001b[K     |█████████████████▋              | 1.1MB 3.9MB/s eta 0:00:01\r\u001b[K     |█████████████████▊              | 1.1MB 3.9MB/s eta 0:00:01\r\u001b[K     |██████████████████              | 1.1MB 3.9MB/s eta 0:00:01\r\u001b[K     |██████████████████              | 1.1MB 3.9MB/s eta 0:00:01\r\u001b[K     |██████████████████▎             | 1.1MB 3.9MB/s eta 0:00:01\r\u001b[K     |██████████████████▍             | 1.1MB 3.9MB/s eta 0:00:01\r\u001b[K     |██████████████████▋             | 1.1MB 3.9MB/s eta 0:00:01\r\u001b[K     |██████████████████▊             | 1.2MB 3.9MB/s eta 0:00:01\r\u001b[K     |███████████████████             | 1.2MB 3.9MB/s eta 0:00:01\r\u001b[K     |███████████████████             | 1.2MB 3.9MB/s eta 0:00:01\r\u001b[K     |███████████████████▎            | 1.2MB 3.9MB/s eta 0:00:01\r\u001b[K     |███████████████████▍            | 1.2MB 3.9MB/s eta 0:00:01\r\u001b[K     |███████████████████▋            | 1.2MB 3.9MB/s eta 0:00:01\r\u001b[K     |███████████████████▊            | 1.2MB 3.9MB/s eta 0:00:01\r\u001b[K     |████████████████████            | 1.2MB 3.9MB/s eta 0:00:01\r\u001b[K     |████████████████████            | 1.2MB 3.9MB/s eta 0:00:01\r\u001b[K     |████████████████████▎           | 1.2MB 3.9MB/s eta 0:00:01\r\u001b[K     |████████████████████▍           | 1.3MB 3.9MB/s eta 0:00:01\r\u001b[K     |████████████████████▋           | 1.3MB 3.9MB/s eta 0:00:01\r\u001b[K     |████████████████████▊           | 1.3MB 3.9MB/s eta 0:00:01\r\u001b[K     |█████████████████████           | 1.3MB 3.9MB/s eta 0:00:01\r\u001b[K     |█████████████████████           | 1.3MB 3.9MB/s eta 0:00:01\r\u001b[K     |█████████████████████▎          | 1.3MB 3.9MB/s eta 0:00:01\r\u001b[K     |█████████████████████▍          | 1.3MB 3.9MB/s eta 0:00:01\r\u001b[K     |█████████████████████▋          | 1.3MB 3.9MB/s eta 0:00:01\r\u001b[K     |█████████████████████▊          | 1.3MB 3.9MB/s eta 0:00:01\r\u001b[K     |██████████████████████          | 1.4MB 3.9MB/s eta 0:00:01\r\u001b[K     |██████████████████████          | 1.4MB 3.9MB/s eta 0:00:01\r\u001b[K     |██████████████████████▎         | 1.4MB 3.9MB/s eta 0:00:01\r\u001b[K     |██████████████████████▍         | 1.4MB 3.9MB/s eta 0:00:01\r\u001b[K     |██████████████████████▋         | 1.4MB 3.9MB/s eta 0:00:01\r\u001b[K     |██████████████████████▊         | 1.4MB 3.9MB/s eta 0:00:01\r\u001b[K     |███████████████████████         | 1.4MB 3.9MB/s eta 0:00:01\r\u001b[K     |███████████████████████         | 1.4MB 3.9MB/s eta 0:00:01\r\u001b[K     |███████████████████████▎        | 1.4MB 3.9MB/s eta 0:00:01\r\u001b[K     |███████████████████████▍        | 1.4MB 3.9MB/s eta 0:00:01\r\u001b[K     |███████████████████████▋        | 1.5MB 3.9MB/s eta 0:00:01\r\u001b[K     |███████████████████████▊        | 1.5MB 3.9MB/s eta 0:00:01\r\u001b[K     |████████████████████████        | 1.5MB 3.9MB/s eta 0:00:01\r\u001b[K     |████████████████████████        | 1.5MB 3.9MB/s eta 0:00:01\r\u001b[K     |████████████████████████▎       | 1.5MB 3.9MB/s eta 0:00:01\r\u001b[K     |████████████████████████▍       | 1.5MB 3.9MB/s eta 0:00:01\r\u001b[K     |████████████████████████▋       | 1.5MB 3.9MB/s eta 0:00:01\r\u001b[K     |████████████████████████▊       | 1.5MB 3.9MB/s eta 0:00:01\r\u001b[K     |█████████████████████████       | 1.5MB 3.9MB/s eta 0:00:01\r\u001b[K     |█████████████████████████       | 1.5MB 3.9MB/s eta 0:00:01\r\u001b[K     |█████████████████████████▎      | 1.6MB 3.9MB/s eta 0:00:01\r\u001b[K     |█████████████████████████▍      | 1.6MB 3.9MB/s eta 0:00:01\r\u001b[K     |█████████████████████████▋      | 1.6MB 3.9MB/s eta 0:00:01\r\u001b[K     |█████████████████████████▊      | 1.6MB 3.9MB/s eta 0:00:01\r\u001b[K     |██████████████████████████      | 1.6MB 3.9MB/s eta 0:00:01\r\u001b[K     |██████████████████████████      | 1.6MB 3.9MB/s eta 0:00:01\r\u001b[K     |██████████████████████████▎     | 1.6MB 3.9MB/s eta 0:00:01\r\u001b[K     |██████████████████████████▍     | 1.6MB 3.9MB/s eta 0:00:01\r\u001b[K     |██████████████████████████▋     | 1.6MB 3.9MB/s eta 0:00:01\r\u001b[K     |██████████████████████████▊     | 1.6MB 3.9MB/s eta 0:00:01\r\u001b[K     |██████████████████████████▉     | 1.7MB 3.9MB/s eta 0:00:01\r\u001b[K     |███████████████████████████     | 1.7MB 3.9MB/s eta 0:00:01\r\u001b[K     |███████████████████████████▏    | 1.7MB 3.9MB/s eta 0:00:01\r\u001b[K     |███████████████████████████▍    | 1.7MB 3.9MB/s eta 0:00:01\r\u001b[K     |███████████████████████████▌    | 1.7MB 3.9MB/s eta 0:00:01\r\u001b[K     |███████████████████████████▊    | 1.7MB 3.9MB/s eta 0:00:01\r\u001b[K     |███████████████████████████▉    | 1.7MB 3.9MB/s eta 0:00:01\r\u001b[K     |████████████████████████████    | 1.7MB 3.9MB/s eta 0:00:01\r\u001b[K     |████████████████████████████▏   | 1.7MB 3.9MB/s eta 0:00:01\r\u001b[K     |████████████████████████████▍   | 1.8MB 3.9MB/s eta 0:00:01\r\u001b[K     |████████████████████████████▌   | 1.8MB 3.9MB/s eta 0:00:01\r\u001b[K     |████████████████████████████▊   | 1.8MB 3.9MB/s eta 0:00:01\r\u001b[K     |████████████████████████████▉   | 1.8MB 3.9MB/s eta 0:00:01\r\u001b[K     |█████████████████████████████   | 1.8MB 3.9MB/s eta 0:00:01\r\u001b[K     |█████████████████████████████▏  | 1.8MB 3.9MB/s eta 0:00:01\r\u001b[K     |█████████████████████████████▍  | 1.8MB 3.9MB/s eta 0:00:01\r\u001b[K     |█████████████████████████████▌  | 1.8MB 3.9MB/s eta 0:00:01\r\u001b[K     |█████████████████████████████▊  | 1.8MB 3.9MB/s eta 0:00:01\r\u001b[K     |█████████████████████████████▉  | 1.8MB 3.9MB/s eta 0:00:01\r\u001b[K     |██████████████████████████████  | 1.9MB 3.9MB/s eta 0:00:01\r\u001b[K     |██████████████████████████████▏ | 1.9MB 3.9MB/s eta 0:00:01\r\u001b[K     |██████████████████████████████▍ | 1.9MB 3.9MB/s eta 0:00:01\r\u001b[K     |██████████████████████████████▌ | 1.9MB 3.9MB/s eta 0:00:01\r\u001b[K     |██████████████████████████████▊ | 1.9MB 3.9MB/s eta 0:00:01\r\u001b[K     |██████████████████████████████▉ | 1.9MB 3.9MB/s eta 0:00:01\r\u001b[K     |███████████████████████████████ | 1.9MB 3.9MB/s eta 0:00:01\r\u001b[K     |███████████████████████████████▏| 1.9MB 3.9MB/s eta 0:00:01\r\u001b[K     |███████████████████████████████▍| 1.9MB 3.9MB/s eta 0:00:01\r\u001b[K     |███████████████████████████████▌| 1.9MB 3.9MB/s eta 0:00:01\r\u001b[K     |███████████████████████████████▊| 2.0MB 3.9MB/s eta 0:00:01\r\u001b[K     |███████████████████████████████▉| 2.0MB 3.9MB/s eta 0:00:01\r\u001b[K     |████████████████████████████████| 2.0MB 3.9MB/s \n",
            "\u001b[?25hRequirement already satisfied: scikit-learn in /usr/local/lib/python3.6/dist-packages (from sklearn) (0.22.2.post1)\n",
            "Requirement already satisfied: scipy in /usr/local/lib/python3.6/dist-packages (from iterative-stratification) (1.4.1)\n",
            "Requirement already satisfied: pytz>=2017.2 in /usr/local/lib/python3.6/dist-packages (from pandas) (2018.9)\n",
            "Requirement already satisfied: python-dateutil>=2.6.1 in /usr/local/lib/python3.6/dist-packages (from pandas) (2.8.1)\n",
            "Requirement already satisfied: six in /usr/local/lib/python3.6/dist-packages (from pyss3) (1.12.0)\n",
            "Requirement already satisfied: matplotlib in /usr/local/lib/python3.6/dist-packages (from pyss3) (3.2.1)\n",
            "Requirement already satisfied: tqdm>=4.8.4 in /usr/local/lib/python3.6/dist-packages (from pyss3) (4.41.1)\n",
            "Requirement already satisfied: cython in /usr/local/lib/python3.6/dist-packages (from pyss3) (0.29.19)\n",
            "Requirement already satisfied: joblib>=0.11 in /usr/local/lib/python3.6/dist-packages (from scikit-learn->sklearn) (0.15.1)\n",
            "Requirement already satisfied: pyparsing!=2.0.4,!=2.1.2,!=2.1.6,>=2.0.1 in /usr/local/lib/python3.6/dist-packages (from matplotlib->pyss3) (2.4.7)\n",
            "Requirement already satisfied: kiwisolver>=1.0.1 in /usr/local/lib/python3.6/dist-packages (from matplotlib->pyss3) (1.2.0)\n",
            "Requirement already satisfied: cycler>=0.10 in /usr/local/lib/python3.6/dist-packages (from matplotlib->pyss3) (0.10.0)\n",
            "Installing collected packages: iterative-stratification, pyss3\n",
            "Successfully installed iterative-stratification-0.1.6 pyss3-0.6.1\n",
            "Go to this URL in a browser: https://accounts.google.com/o/oauth2/auth?client_id=947318989803-6bn6qk8qdgf4n4g3pfee6491hc0brc4i.apps.googleusercontent.com&redirect_uri=urn%3aietf%3awg%3aoauth%3a2.0%3aoob&response_type=code&scope=email%20https%3a%2f%2fwww.googleapis.com%2fauth%2fdocs.test%20https%3a%2f%2fwww.googleapis.com%2fauth%2fdrive%20https%3a%2f%2fwww.googleapis.com%2fauth%2fdrive.photos.readonly%20https%3a%2f%2fwww.googleapis.com%2fauth%2fpeopleapi.readonly\n",
            "\n",
            "Enter your authorization code:\n",
            "··········\n",
            "Mounted at /content/drive\n"
          ],
          "name": "stdout"
        }
      ]
    },
    {
      "cell_type": "markdown",
      "metadata": {
        "id": "7spLzLAuJukq",
        "colab_type": "text"
      },
      "source": [
        "## Load Data"
      ]
    },
    {
      "cell_type": "code",
      "metadata": {
        "id": "LDeeUOXnJreo",
        "colab_type": "code",
        "colab": {}
      },
      "source": [
        "df = pd.read_csv(path_root + data_root + \"AmazonAlexaReview/amazon_alexa.tsv\", sep=\"\\t\")\n",
        "text = df['verified_reviews'].to_list()\n",
        "labels = df['rating'].astype(str).to_list()\n",
        "\n",
        "X_train, X_val, y_train, y_val = train_test_split(text, labels, test_size=0.2)"
      ],
      "execution_count": null,
      "outputs": []
    },
    {
      "cell_type": "markdown",
      "metadata": {
        "id": "-eB56zKRJ5Jj",
        "colab_type": "text"
      },
      "source": [
        "## Classification for 5 Classes"
      ]
    },
    {
      "cell_type": "code",
      "metadata": {
        "id": "j3VEfkhNJ6-z",
        "colab_type": "code",
        "colab": {
          "base_uri": "https://localhost:8080/",
          "height": 813
        },
        "outputId": "769acaf0-3c2d-4040-e932-4ab6400616c2"
      },
      "source": [
        "clf = SS3()\n",
        "clf.fit(X_train, y_train)\n",
        "Evaluation.test(clf, X_val, y_val, metric=\"f1-score\")"
      ],
      "execution_count": null,
      "outputs": [
        {
          "output_type": "stream",
          "text": [
            "Training on '5': 100%|██████████| 5/5 [00:00<00:00, 12.56it/s]\n",
            "Classification: 100%|██████████| 630/630 [00:00<00:00, 44223.72it/s]\n"
          ],
          "name": "stderr"
        },
        {
          "output_type": "stream",
          "text": [
            "\n",
            "              precision    recall  f1-score   support\n",
            "\n",
            "           1       0.35      0.48      0.41        23\n",
            "           2       0.13      0.18      0.15        28\n",
            "           3       0.17      0.19      0.18        36\n",
            "           4       0.19      0.28      0.22        69\n",
            "           5       0.86      0.76      0.81       474\n",
            "\n",
            "    accuracy                           0.64       630\n",
            "   macro avg       0.34      0.38      0.35       630\n",
            "weighted avg       0.70      0.64      0.66       630\n",
            "\n",
            "\n",
            " \u001b[1mAccuracy\u001b[0m: 0.638\n",
            "\n",
            "\u001b[94m[ updating evaluations cache ]\u001b[0m\n"
          ],
          "name": "stdout"
        },
        {
          "output_type": "display_data",
          "data": {
            "image/png": "[encoded data removed]",
            "text/plain": [
              "<Figure size 576x576 with 2 Axes>"
            ]
          },
          "metadata": {
            "tags": [],
            "needs_background": "light"
          }
        },
        {
          "output_type": "execute_result",
          "data": {
            "text/plain": [
              "0.3536350554272329"
            ]
          },
          "metadata": {
            "tags": []
          },
          "execution_count": 3
        }
      ]
    },
    {
      "cell_type": "markdown",
      "metadata": {
        "id": "cFpgyMp112f-",
        "colab_type": "text"
      },
      "source": [
        "# Classification with 2 Classes\n",
        "Here we map the values 1-3 to negative and the values 4,5 to positive."
      ]
    },
    {
      "cell_type": "code",
      "metadata": {
        "id": "eW1EiqZ6tl3V",
        "colab_type": "code",
        "colab": {
          "base_uri": "https://localhost:8080/",
          "height": 782
        },
        "outputId": "71a57bf5-d553-4433-830a-642e74cce26d"
      },
      "source": [
        "new_labels = df['rating'].astype(str).replace(to_replace={'1': 'negative', '2': 'negative', '3': 'negative', '4': 'positive', '5': 'positive'}, regex=True).to_list()\n",
        "\n",
        "X_train_2, X_val_2, y_train_2, y_val_2 = train_test_split(text, new_labels, test_size=0.2)\n",
        "clf = SS3()\n",
        "clf.fit(X_train_2, y_train_2)\n",
        "Evaluation.clear_cache()\n",
        "Evaluation.test(clf, X_val_2, y_val_2, metric=\"f1-score\")"
      ],
      "execution_count": null,
      "outputs": [
        {
          "output_type": "stream",
          "text": [
            "Training on 'positive': 100%|██████████| 2/2 [00:00<00:00,  6.20it/s]\n",
            "Classification: 100%|██████████| 630/630 [00:00<00:00, 45653.27it/s]\n"
          ],
          "name": "stderr"
        },
        {
          "output_type": "stream",
          "text": [
            "\n",
            "              precision    recall  f1-score   support\n",
            "\n",
            "    negative       0.45      0.69      0.55        77\n",
            "    positive       0.95      0.88      0.92       553\n",
            "\n",
            "    accuracy                           0.86       630\n",
            "   macro avg       0.70      0.79      0.73       630\n",
            "weighted avg       0.89      0.86      0.87       630\n",
            "\n",
            "\n",
            " \u001b[1mAccuracy\u001b[0m: 0.860\n",
            "\n",
            "\u001b[94m[ updating evaluations cache ]\u001b[0m\n"
          ],
          "name": "stdout"
        },
        {
          "output_type": "display_data",
          "data": {
            "image/png": "[encoded data removed]",
            "text/plain": [
              "<Figure size 576x576 with 2 Axes>"
            ]
          },
          "metadata": {
            "tags": [],
            "needs_background": "light"
          }
        },
        {
          "output_type": "execute_result",
          "data": {
            "text/plain": [
              "0.7319200789153014"
            ]
          },
          "metadata": {
            "tags": []
          },
          "execution_count": 4
        }
      ]
    },
    {
      "cell_type": "code",
      "metadata": {
        "id": "ZHnlmeDg187j",
        "colab_type": "code",
        "colab": {}
      },
      "source": [
        ""
      ],
      "execution_count": null,
      "outputs": []
    }
  ]
}