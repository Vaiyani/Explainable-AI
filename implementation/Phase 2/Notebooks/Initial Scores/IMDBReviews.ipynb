{
  "nbformat": 4,
  "nbformat_minor": 0,
  "metadata": {
    "colab": {
      "name": "IMDBReviews.ipynb",
      "provenance": [],
      "collapsed_sections": []
    },
    "kernelspec": {
      "name": "python3",
      "display_name": "Python 3"
    }
  },
  "cells": [
    {
      "cell_type": "markdown",
      "metadata": {
        "id": "YoZnN_kB1RYP",
        "colab_type": "text"
      },
      "source": [
        "# TLDR: Macro Avg. F1 = 83%"
      ]
    },
    {
      "cell_type": "markdown",
      "metadata": {
        "id": "fT0c2K7fJlmn",
        "colab_type": "text"
      },
      "source": [
        "# Default Setup"
      ]
    },
    {
      "cell_type": "code",
      "metadata": {
        "id": "KCaXmjKFJjNq",
        "colab_type": "code",
        "colab": {
          "base_uri": "https://localhost:8080/",
          "height": 490
        },
        "outputId": "fe2089ce-2fb4-4d0f-8fcf-74f602a9d200"
      },
      "source": [
        "# Dataloading Stuff\n",
        "from google.colab import drive\n",
        "from sys import path\n",
        "import os\n",
        "\n",
        "# Standard Stuff\n",
        "!pip3 install numpy sklearn iterative-stratification pandas pyss3\n",
        "from sklearn.model_selection import train_test_split\n",
        "\n",
        "from pyss3 import SS3\n",
        "from pyss3.util import Dataset, Evaluation, span\n",
        "\n",
        "import numpy as np\n",
        "import pandas as pd\n",
        "\n",
        "drive.mount('/content/drive', force_remount=True)\n",
        "path_root = '/content/drive/My Drive/NLP Lab/SingleLabel/'\n",
        "path.append(path_root)\n",
        "data_root = 'data/'"
      ],
      "execution_count": null,
      "outputs": [
        {
          "output_type": "stream",
          "text": [
            "Requirement already satisfied: numpy in /usr/local/lib/python3.6/dist-packages (1.18.4)\n",
            "Requirement already satisfied: sklearn in /usr/local/lib/python3.6/dist-packages (0.0)\n",
            "Collecting iterative-stratification\n",
            "  Downloading https://files.pythonhosted.org/packages/9d/79/9ba64c8c07b07b8b45d80725b2ebd7b7884701c1da34f70d4749f7b45f9a/iterative_stratification-0.1.6-py3-none-any.whl\n",
            "Requirement already satisfied: pandas in /usr/local/lib/python3.6/dist-packages (1.0.4)\n",
            "Collecting pyss3\n",
            "\u001b[?25l  Downloading https://files.pythonhosted.org/packages/c8/9f/d390d2ba8979d4c10169e20587a1494ab99bdc6ce83202aa76c5a47ff1f8/pyss3-0.6.1-py3-none-any.whl (2.0MB)\n",
            "\r\u001b[K     |▏                               | 10kB 16.0MB/s eta 0:00:01\r\u001b[K     |▎                               | 20kB 16.1MB/s eta 0:00:01\r\u001b[K     |▌                               | 30kB 4.5MB/s eta 0:00:01\r\u001b[K     |▋                               | 40kB 5.5MB/s eta 0:00:01\r\u001b[K     |▉                               | 51kB 5.8MB/s eta 0:00:01\r\u001b[K     |█                               | 61kB 5.8MB/s eta 0:00:01\r\u001b[K     |█▏                              | 71kB 5.0MB/s eta 0:00:01\r\u001b[K     |█▎                              | 81kB 5.6MB/s eta 0:00:01\r\u001b[K     |█▌                              | 92kB 6.0MB/s eta 0:00:01\r\u001b[K     |█▋                              | 102kB 6.5MB/s eta 0:00:01\r\u001b[K     |█▉                              | 112kB 6.5MB/s eta 0:00:01\r\u001b[K     |██                              | 122kB 6.5MB/s eta 0:00:01\r\u001b[K     |██▏                             | 133kB 6.5MB/s eta 0:00:01\r\u001b[K     |██▎                             | 143kB 6.5MB/s eta 0:00:01\r\u001b[K     |██▌                             | 153kB 6.5MB/s eta 0:00:01\r\u001b[K     |██▋                             | 163kB 6.5MB/s eta 0:00:01\r\u001b[K     |██▉                             | 174kB 6.5MB/s eta 0:00:01\r\u001b[K     |███                             | 184kB 6.5MB/s eta 0:00:01\r\u001b[K     |███▏                            | 194kB 6.5MB/s eta 0:00:01\r\u001b[K     |███▎                            | 204kB 6.5MB/s eta 0:00:01\r\u001b[K     |███▌                            | 215kB 6.5MB/s eta 0:00:01\r\u001b[K     |███▋                            | 225kB 6.5MB/s eta 0:00:01\r\u001b[K     |███▉                            | 235kB 6.5MB/s eta 0:00:01\r\u001b[K     |████                            | 245kB 6.5MB/s eta 0:00:01\r\u001b[K     |████▏                           | 256kB 6.5MB/s eta 0:00:01\r\u001b[K     |████▎                           | 266kB 6.5MB/s eta 0:00:01\r\u001b[K     |████▌                           | 276kB 6.5MB/s eta 0:00:01\r\u001b[K     |████▋                           | 286kB 6.5MB/s eta 0:00:01\r\u001b[K     |████▉                           | 296kB 6.5MB/s eta 0:00:01\r\u001b[K     |█████                           | 307kB 6.5MB/s eta 0:00:01\r\u001b[K     |█████▏                          | 317kB 6.5MB/s eta 0:00:01\r\u001b[K     |█████▎                          | 327kB 6.5MB/s eta 0:00:01\r\u001b[K     |█████▌                          | 337kB 6.5MB/s eta 0:00:01\r\u001b[K     |█████▋                          | 348kB 6.5MB/s eta 0:00:01\r\u001b[K     |█████▉                          | 358kB 6.5MB/s eta 0:00:01\r\u001b[K     |██████                          | 368kB 6.5MB/s eta 0:00:01\r\u001b[K     |██████▏                         | 378kB 6.5MB/s eta 0:00:01\r\u001b[K     |██████▎                         | 389kB 6.5MB/s eta 0:00:01\r\u001b[K     |██████▌                         | 399kB 6.5MB/s eta 0:00:01\r\u001b[K     |██████▋                         | 409kB 6.5MB/s eta 0:00:01\r\u001b[K     |██████▉                         | 419kB 6.5MB/s eta 0:00:01\r\u001b[K     |███████                         | 430kB 6.5MB/s eta 0:00:01\r\u001b[K     |███████▏                        | 440kB 6.5MB/s eta 0:00:01\r\u001b[K     |███████▎                        | 450kB 6.5MB/s eta 0:00:01\r\u001b[K     |███████▌                        | 460kB 6.5MB/s eta 0:00:01\r\u001b[K     |███████▋                        | 471kB 6.5MB/s eta 0:00:01\r\u001b[K     |███████▉                        | 481kB 6.5MB/s eta 0:00:01\r\u001b[K     |████████                        | 491kB 6.5MB/s eta 0:00:01\r\u001b[K     |████████▏                       | 501kB 6.5MB/s eta 0:00:01\r\u001b[K     |████████▎                       | 512kB 6.5MB/s eta 0:00:01\r\u001b[K     |████████▌                       | 522kB 6.5MB/s eta 0:00:01\r\u001b[K     |████████▋                       | 532kB 6.5MB/s eta 0:00:01\r\u001b[K     |████████▉                       | 542kB 6.5MB/s eta 0:00:01\r\u001b[K     |█████████                       | 552kB 6.5MB/s eta 0:00:01\r\u001b[K     |█████████▏                      | 563kB 6.5MB/s eta 0:00:01\r\u001b[K     |█████████▎                      | 573kB 6.5MB/s eta 0:00:01\r\u001b[K     |█████████▌                      | 583kB 6.5MB/s eta 0:00:01\r\u001b[K     |█████████▋                      | 593kB 6.5MB/s eta 0:00:01\r\u001b[K     |█████████▉                      | 604kB 6.5MB/s eta 0:00:01\r\u001b[K     |██████████                      | 614kB 6.5MB/s eta 0:00:01\r\u001b[K     |██████████▏                     | 624kB 6.5MB/s eta 0:00:01\r\u001b[K     |██████████▎                     | 634kB 6.5MB/s eta 0:00:01\r\u001b[K     |██████████▌                     | 645kB 6.5MB/s eta 0:00:01\r\u001b[K     |██████████▋                     | 655kB 6.5MB/s eta 0:00:01\r\u001b[K     |██████████▉                     | 665kB 6.5MB/s eta 0:00:01\r\u001b[K     |███████████                     | 675kB 6.5MB/s eta 0:00:01\r\u001b[K     |███████████▏                    | 686kB 6.5MB/s eta 0:00:01\r\u001b[K     |███████████▎                    | 696kB 6.5MB/s eta 0:00:01\r\u001b[K     |███████████▌                    | 706kB 6.5MB/s eta 0:00:01\r\u001b[K     |███████████▋                    | 716kB 6.5MB/s eta 0:00:01\r\u001b[K     |███████████▉                    | 727kB 6.5MB/s eta 0:00:01\r\u001b[K     |████████████                    | 737kB 6.5MB/s eta 0:00:01\r\u001b[K     |████████████▏                   | 747kB 6.5MB/s eta 0:00:01\r\u001b[K     |████████████▎                   | 757kB 6.5MB/s eta 0:00:01\r\u001b[K     |████████████▌                   | 768kB 6.5MB/s eta 0:00:01\r\u001b[K     |████████████▋                   | 778kB 6.5MB/s eta 0:00:01\r\u001b[K     |████████████▉                   | 788kB 6.5MB/s eta 0:00:01\r\u001b[K     |█████████████                   | 798kB 6.5MB/s eta 0:00:01\r\u001b[K     |█████████████▏                  | 808kB 6.5MB/s eta 0:00:01\r\u001b[K     |█████████████▎                  | 819kB 6.5MB/s eta 0:00:01\r\u001b[K     |█████████████▍                  | 829kB 6.5MB/s eta 0:00:01\r\u001b[K     |█████████████▋                  | 839kB 6.5MB/s eta 0:00:01\r\u001b[K     |█████████████▊                  | 849kB 6.5MB/s eta 0:00:01\r\u001b[K     |██████████████                  | 860kB 6.5MB/s eta 0:00:01\r\u001b[K     |██████████████                  | 870kB 6.5MB/s eta 0:00:01\r\u001b[K     |██████████████▎                 | 880kB 6.5MB/s eta 0:00:01\r\u001b[K     |██████████████▍                 | 890kB 6.5MB/s eta 0:00:01\r\u001b[K     |██████████████▋                 | 901kB 6.5MB/s eta 0:00:01\r\u001b[K     |██████████████▊                 | 911kB 6.5MB/s eta 0:00:01\r\u001b[K     |███████████████                 | 921kB 6.5MB/s eta 0:00:01\r\u001b[K     |███████████████                 | 931kB 6.5MB/s eta 0:00:01\r\u001b[K     |███████████████▎                | 942kB 6.5MB/s eta 0:00:01\r\u001b[K     |███████████████▍                | 952kB 6.5MB/s eta 0:00:01\r\u001b[K     |███████████████▋                | 962kB 6.5MB/s eta 0:00:01\r\u001b[K     |███████████████▊                | 972kB 6.5MB/s eta 0:00:01\r\u001b[K     |████████████████                | 983kB 6.5MB/s eta 0:00:01\r\u001b[K     |████████████████                | 993kB 6.5MB/s eta 0:00:01\r\u001b[K     |████████████████▎               | 1.0MB 6.5MB/s eta 0:00:01\r\u001b[K     |████████████████▍               | 1.0MB 6.5MB/s eta 0:00:01\r\u001b[K     |████████████████▋               | 1.0MB 6.5MB/s eta 0:00:01\r\u001b[K     |████████████████▊               | 1.0MB 6.5MB/s eta 0:00:01\r\u001b[K     |█████████████████               | 1.0MB 6.5MB/s eta 0:00:01\r\u001b[K     |█████████████████               | 1.1MB 6.5MB/s eta 0:00:01\r\u001b[K     |█████████████████▎              | 1.1MB 6.5MB/s eta 0:00:01\r\u001b[K     |█████████████████▍              | 1.1MB 6.5MB/s eta 0:00:01\r\u001b[K     |█████████████████▋              | 1.1MB 6.5MB/s eta 0:00:01\r\u001b[K     |█████████████████▊              | 1.1MB 6.5MB/s eta 0:00:01\r\u001b[K     |██████████████████              | 1.1MB 6.5MB/s eta 0:00:01\r\u001b[K     |██████████████████              | 1.1MB 6.5MB/s eta 0:00:01\r\u001b[K     |██████████████████▎             | 1.1MB 6.5MB/s eta 0:00:01\r\u001b[K     |██████████████████▍             | 1.1MB 6.5MB/s eta 0:00:01\r\u001b[K     |██████████████████▋             | 1.1MB 6.5MB/s eta 0:00:01\r\u001b[K     |██████████████████▊             | 1.2MB 6.5MB/s eta 0:00:01\r\u001b[K     |███████████████████             | 1.2MB 6.5MB/s eta 0:00:01\r\u001b[K     |███████████████████             | 1.2MB 6.5MB/s eta 0:00:01\r\u001b[K     |███████████████████▎            | 1.2MB 6.5MB/s eta 0:00:01\r\u001b[K     |███████████████████▍            | 1.2MB 6.5MB/s eta 0:00:01\r\u001b[K     |███████████████████▋            | 1.2MB 6.5MB/s eta 0:00:01\r\u001b[K     |███████████████████▊            | 1.2MB 6.5MB/s eta 0:00:01\r\u001b[K     |████████████████████            | 1.2MB 6.5MB/s eta 0:00:01\r\u001b[K     |████████████████████            | 1.2MB 6.5MB/s eta 0:00:01\r\u001b[K     |████████████████████▎           | 1.2MB 6.5MB/s eta 0:00:01\r\u001b[K     |████████████████████▍           | 1.3MB 6.5MB/s eta 0:00:01\r\u001b[K     |████████████████████▋           | 1.3MB 6.5MB/s eta 0:00:01\r\u001b[K     |████████████████████▊           | 1.3MB 6.5MB/s eta 0:00:01\r\u001b[K     |█████████████████████           | 1.3MB 6.5MB/s eta 0:00:01\r\u001b[K     |█████████████████████           | 1.3MB 6.5MB/s eta 0:00:01\r\u001b[K     |█████████████████████▎          | 1.3MB 6.5MB/s eta 0:00:01\r\u001b[K     |█████████████████████▍          | 1.3MB 6.5MB/s eta 0:00:01\r\u001b[K     |█████████████████████▋          | 1.3MB 6.5MB/s eta 0:00:01\r\u001b[K     |█████████████████████▊          | 1.3MB 6.5MB/s eta 0:00:01\r\u001b[K     |██████████████████████          | 1.4MB 6.5MB/s eta 0:00:01\r\u001b[K     |██████████████████████          | 1.4MB 6.5MB/s eta 0:00:01\r\u001b[K     |██████████████████████▎         | 1.4MB 6.5MB/s eta 0:00:01\r\u001b[K     |██████████████████████▍         | 1.4MB 6.5MB/s eta 0:00:01\r\u001b[K     |██████████████████████▋         | 1.4MB 6.5MB/s eta 0:00:01\r\u001b[K     |██████████████████████▊         | 1.4MB 6.5MB/s eta 0:00:01\r\u001b[K     |███████████████████████         | 1.4MB 6.5MB/s eta 0:00:01\r\u001b[K     |███████████████████████         | 1.4MB 6.5MB/s eta 0:00:01\r\u001b[K     |███████████████████████▎        | 1.4MB 6.5MB/s eta 0:00:01\r\u001b[K     |███████████████████████▍        | 1.4MB 6.5MB/s eta 0:00:01\r\u001b[K     |███████████████████████▋        | 1.5MB 6.5MB/s eta 0:00:01\r\u001b[K     |███████████████████████▊        | 1.5MB 6.5MB/s eta 0:00:01\r\u001b[K     |████████████████████████        | 1.5MB 6.5MB/s eta 0:00:01\r\u001b[K     |████████████████████████        | 1.5MB 6.5MB/s eta 0:00:01\r\u001b[K     |████████████████████████▎       | 1.5MB 6.5MB/s eta 0:00:01\r\u001b[K     |████████████████████████▍       | 1.5MB 6.5MB/s eta 0:00:01\r\u001b[K     |████████████████████████▋       | 1.5MB 6.5MB/s eta 0:00:01\r\u001b[K     |████████████████████████▊       | 1.5MB 6.5MB/s eta 0:00:01\r\u001b[K     |█████████████████████████       | 1.5MB 6.5MB/s eta 0:00:01\r\u001b[K     |█████████████████████████       | 1.5MB 6.5MB/s eta 0:00:01\r\u001b[K     |█████████████████████████▎      | 1.6MB 6.5MB/s eta 0:00:01\r\u001b[K     |█████████████████████████▍      | 1.6MB 6.5MB/s eta 0:00:01\r\u001b[K     |█████████████████████████▋      | 1.6MB 6.5MB/s eta 0:00:01\r\u001b[K     |█████████████████████████▊      | 1.6MB 6.5MB/s eta 0:00:01\r\u001b[K     |██████████████████████████      | 1.6MB 6.5MB/s eta 0:00:01\r\u001b[K     |██████████████████████████      | 1.6MB 6.5MB/s eta 0:00:01\r\u001b[K     |██████████████████████████▎     | 1.6MB 6.5MB/s eta 0:00:01\r\u001b[K     |██████████████████████████▍     | 1.6MB 6.5MB/s eta 0:00:01\r\u001b[K     |██████████████████████████▋     | 1.6MB 6.5MB/s eta 0:00:01\r\u001b[K     |██████████████████████████▊     | 1.6MB 6.5MB/s eta 0:00:01\r\u001b[K     |██████████████████████████▉     | 1.7MB 6.5MB/s eta 0:00:01\r\u001b[K     |███████████████████████████     | 1.7MB 6.5MB/s eta 0:00:01\r\u001b[K     |███████████████████████████▏    | 1.7MB 6.5MB/s eta 0:00:01\r\u001b[K     |███████████████████████████▍    | 1.7MB 6.5MB/s eta 0:00:01\r\u001b[K     |███████████████████████████▌    | 1.7MB 6.5MB/s eta 0:00:01\r\u001b[K     |███████████████████████████▊    | 1.7MB 6.5MB/s eta 0:00:01\r\u001b[K     |███████████████████████████▉    | 1.7MB 6.5MB/s eta 0:00:01\r\u001b[K     |████████████████████████████    | 1.7MB 6.5MB/s eta 0:00:01\r\u001b[K     |████████████████████████████▏   | 1.7MB 6.5MB/s eta 0:00:01\r\u001b[K     |████████████████████████████▍   | 1.8MB 6.5MB/s eta 0:00:01\r\u001b[K     |████████████████████████████▌   | 1.8MB 6.5MB/s eta 0:00:01\r\u001b[K     |████████████████████████████▊   | 1.8MB 6.5MB/s eta 0:00:01\r\u001b[K     |████████████████████████████▉   | 1.8MB 6.5MB/s eta 0:00:01\r\u001b[K     |█████████████████████████████   | 1.8MB 6.5MB/s eta 0:00:01\r\u001b[K     |█████████████████████████████▏  | 1.8MB 6.5MB/s eta 0:00:01\r\u001b[K     |█████████████████████████████▍  | 1.8MB 6.5MB/s eta 0:00:01\r\u001b[K     |█████████████████████████████▌  | 1.8MB 6.5MB/s eta 0:00:01\r\u001b[K     |█████████████████████████████▊  | 1.8MB 6.5MB/s eta 0:00:01\r\u001b[K     |█████████████████████████████▉  | 1.8MB 6.5MB/s eta 0:00:01\r\u001b[K     |██████████████████████████████  | 1.9MB 6.5MB/s eta 0:00:01\r\u001b[K     |██████████████████████████████▏ | 1.9MB 6.5MB/s eta 0:00:01\r\u001b[K     |██████████████████████████████▍ | 1.9MB 6.5MB/s eta 0:00:01\r\u001b[K     |██████████████████████████████▌ | 1.9MB 6.5MB/s eta 0:00:01\r\u001b[K     |██████████████████████████████▊ | 1.9MB 6.5MB/s eta 0:00:01\r\u001b[K     |██████████████████████████████▉ | 1.9MB 6.5MB/s eta 0:00:01\r\u001b[K     |███████████████████████████████ | 1.9MB 6.5MB/s eta 0:00:01\r\u001b[K     |███████████████████████████████▏| 1.9MB 6.5MB/s eta 0:00:01\r\u001b[K     |███████████████████████████████▍| 1.9MB 6.5MB/s eta 0:00:01\r\u001b[K     |███████████████████████████████▌| 1.9MB 6.5MB/s eta 0:00:01\r\u001b[K     |███████████████████████████████▊| 2.0MB 6.5MB/s eta 0:00:01\r\u001b[K     |███████████████████████████████▉| 2.0MB 6.5MB/s eta 0:00:01\r\u001b[K     |████████████████████████████████| 2.0MB 6.5MB/s \n",
            "\u001b[?25hRequirement already satisfied: scikit-learn in /usr/local/lib/python3.6/dist-packages (from sklearn) (0.22.2.post1)\n",
            "Requirement already satisfied: scipy in /usr/local/lib/python3.6/dist-packages (from iterative-stratification) (1.4.1)\n",
            "Requirement already satisfied: pytz>=2017.2 in /usr/local/lib/python3.6/dist-packages (from pandas) (2018.9)\n",
            "Requirement already satisfied: python-dateutil>=2.6.1 in /usr/local/lib/python3.6/dist-packages (from pandas) (2.8.1)\n",
            "Requirement already satisfied: tqdm>=4.8.4 in /usr/local/lib/python3.6/dist-packages (from pyss3) (4.41.1)\n",
            "Requirement already satisfied: six in /usr/local/lib/python3.6/dist-packages (from pyss3) (1.12.0)\n",
            "Requirement already satisfied: cython in /usr/local/lib/python3.6/dist-packages (from pyss3) (0.29.19)\n",
            "Requirement already satisfied: matplotlib in /usr/local/lib/python3.6/dist-packages (from pyss3) (3.2.1)\n",
            "Requirement already satisfied: joblib>=0.11 in /usr/local/lib/python3.6/dist-packages (from scikit-learn->sklearn) (0.15.1)\n",
            "Requirement already satisfied: pyparsing!=2.0.4,!=2.1.2,!=2.1.6,>=2.0.1 in /usr/local/lib/python3.6/dist-packages (from matplotlib->pyss3) (2.4.7)\n",
            "Requirement already satisfied: kiwisolver>=1.0.1 in /usr/local/lib/python3.6/dist-packages (from matplotlib->pyss3) (1.2.0)\n",
            "Requirement already satisfied: cycler>=0.10 in /usr/local/lib/python3.6/dist-packages (from matplotlib->pyss3) (0.10.0)\n",
            "Installing collected packages: iterative-stratification, pyss3\n",
            "Successfully installed iterative-stratification-0.1.6 pyss3-0.6.1\n",
            "Go to this URL in a browser: https://accounts.google.com/o/oauth2/auth?client_id=947318989803-6bn6qk8qdgf4n4g3pfee6491hc0brc4i.apps.googleusercontent.com&redirect_uri=urn%3aietf%3awg%3aoauth%3a2.0%3aoob&response_type=code&scope=email%20https%3a%2f%2fwww.googleapis.com%2fauth%2fdocs.test%20https%3a%2f%2fwww.googleapis.com%2fauth%2fdrive%20https%3a%2f%2fwww.googleapis.com%2fauth%2fdrive.photos.readonly%20https%3a%2f%2fwww.googleapis.com%2fauth%2fpeopleapi.readonly\n",
            "\n",
            "Enter your authorization code:\n",
            "··········\n",
            "Mounted at /content/drive\n"
          ],
          "name": "stdout"
        }
      ]
    },
    {
      "cell_type": "markdown",
      "metadata": {
        "id": "7spLzLAuJukq",
        "colab_type": "text"
      },
      "source": [
        "## Load Data"
      ]
    },
    {
      "cell_type": "code",
      "metadata": {
        "id": "LDeeUOXnJreo",
        "colab_type": "code",
        "colab": {}
      },
      "source": [
        "df = pd.read_csv(path_root + data_root + \"IMDBReviews/IMDB Dataset.csv\", sep=\";\")\n",
        "df['review'].replace({'<br />': '\\\\n'}, inplace=True, regex=True)\n",
        "df.dropna(inplace=True)\n",
        "text = df['review'].to_list()\n",
        "labels = df['sentiment'].to_list()\n",
        "X_train, X_val, y_train, y_val = train_test_split(text, labels, test_size=0.2)"
      ],
      "execution_count": null,
      "outputs": []
    },
    {
      "cell_type": "markdown",
      "metadata": {
        "id": "-eB56zKRJ5Jj",
        "colab_type": "text"
      },
      "source": [
        "## Classify"
      ]
    },
    {
      "cell_type": "code",
      "metadata": {
        "id": "j3VEfkhNJ6-z",
        "colab_type": "code",
        "colab": {
          "base_uri": "https://localhost:8080/",
          "height": 782
        },
        "outputId": "b83b73cc-2ad3-4794-b530-627a1824a3c1"
      },
      "source": [
        "clf = SS3()\n",
        "clf.fit(X_train, y_train)\n",
        "Evaluation.test(clf, X_val, y_val, metric=\"f1-score\")"
      ],
      "execution_count": null,
      "outputs": [
        {
          "output_type": "stream",
          "text": [
            "Training on 'positive': 100%|██████████| 2/2 [00:46<00:00, 23.27s/it]\n",
            "Classification: 100%|██████████| 9693/9693 [00:00<00:00, 22948.70it/s]\n"
          ],
          "name": "stderr"
        },
        {
          "output_type": "stream",
          "text": [
            "\n",
            "              precision    recall  f1-score   support\n",
            "\n",
            "    negative       0.83      0.85      0.84      4854\n",
            "    positive       0.84      0.83      0.84      4839\n",
            "\n",
            "    accuracy                           0.84      9693\n",
            "   macro avg       0.84      0.84      0.84      9693\n",
            "weighted avg       0.84      0.84      0.84      9693\n",
            "\n",
            "\n",
            " \u001b[1mAccuracy\u001b[0m: 0.838\n",
            "\n",
            "\u001b[94m[ updating evaluations cache ]\u001b[0m\n"
          ],
          "name": "stdout"
        },
        {
          "output_type": "display_data",
          "data": {
            "image/png": "[encoded data removed]",
            "text/plain": [
              "<Figure size 576x576 with 2 Axes>"
            ]
          },
          "metadata": {
            "tags": [],
            "needs_background": "light"
          }
        },
        {
          "output_type": "execute_result",
          "data": {
            "text/plain": [
              "0.837490677374221"
            ]
          },
          "metadata": {
            "tags": []
          },
          "execution_count": 6
        }
      ]
    }
  ]
}