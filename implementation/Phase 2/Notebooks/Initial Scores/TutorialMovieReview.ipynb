{
  "nbformat": 4,
  "nbformat_minor": 0,
  "metadata": {
    "colab": {
      "name": "TutorialMovieReview.ipynb",
      "provenance": [],
      "collapsed_sections": []
    },
    "kernelspec": {
      "name": "python3",
      "display_name": "Python 3"
    }
  },
  "cells": [
    {
      "cell_type": "markdown",
      "metadata": {
        "id": "MB56ZPSeWZ4g",
        "colab_type": "text"
      },
      "source": [
        "# TLDR: Macro Avg. F1 = 86%"
      ]
    },
    {
      "cell_type": "markdown",
      "metadata": {
        "id": "fT0c2K7fJlmn",
        "colab_type": "text"
      },
      "source": [
        "# Default Setup"
      ]
    },
    {
      "cell_type": "code",
      "metadata": {
        "id": "KCaXmjKFJjNq",
        "colab_type": "code",
        "colab": {
          "base_uri": "https://localhost:8080/",
          "height": 343
        },
        "outputId": "d6af4a3c-8407-4a91-d058-9c1f7ad5a0f4"
      },
      "source": [
        "# Dataloading Stuff\n",
        "from google.colab import drive\n",
        "from sys import path\n",
        "import os\n",
        "\n",
        "# Standard Stuff\n",
        "!pip3 install numpy sklearn iterative-stratification pandas pyss3\n",
        "from sklearn.model_selection import train_test_split\n",
        "\n",
        "from pyss3 import SS3\n",
        "from pyss3.util import Dataset, Evaluation, span\n",
        "\n",
        "import numpy as np\n",
        "import pandas as pd\n",
        "\n",
        "drive.mount('/content/drive', force_remount=True)\n",
        "path_root = '/content/drive/My Drive/NLP Lab/SingleLabel/'\n",
        "path.append(path_root)\n",
        "data_root = 'data/'"
      ],
      "execution_count": null,
      "outputs": [
        {
          "output_type": "stream",
          "text": [
            "Requirement already satisfied: numpy in /usr/local/lib/python3.6/dist-packages (1.18.5)\n",
            "Requirement already satisfied: sklearn in /usr/local/lib/python3.6/dist-packages (0.0)\n",
            "Requirement already satisfied: iterative-stratification in /usr/local/lib/python3.6/dist-packages (0.1.6)\n",
            "Requirement already satisfied: pandas in /usr/local/lib/python3.6/dist-packages (1.0.4)\n",
            "Requirement already satisfied: pyss3 in /usr/local/lib/python3.6/dist-packages (0.6.1)\n",
            "Requirement already satisfied: scikit-learn in /usr/local/lib/python3.6/dist-packages (from sklearn) (0.22.2.post1)\n",
            "Requirement already satisfied: scipy in /usr/local/lib/python3.6/dist-packages (from iterative-stratification) (1.4.1)\n",
            "Requirement already satisfied: python-dateutil>=2.6.1 in /usr/local/lib/python3.6/dist-packages (from pandas) (2.8.1)\n",
            "Requirement already satisfied: pytz>=2017.2 in /usr/local/lib/python3.6/dist-packages (from pandas) (2018.9)\n",
            "Requirement already satisfied: six in /usr/local/lib/python3.6/dist-packages (from pyss3) (1.12.0)\n",
            "Requirement already satisfied: matplotlib in /usr/local/lib/python3.6/dist-packages (from pyss3) (3.2.1)\n",
            "Requirement already satisfied: tqdm>=4.8.4 in /usr/local/lib/python3.6/dist-packages (from pyss3) (4.41.1)\n",
            "Requirement already satisfied: cython in /usr/local/lib/python3.6/dist-packages (from pyss3) (0.29.19)\n",
            "Requirement already satisfied: joblib>=0.11 in /usr/local/lib/python3.6/dist-packages (from scikit-learn->sklearn) (0.15.1)\n",
            "Requirement already satisfied: pyparsing!=2.0.4,!=2.1.2,!=2.1.6,>=2.0.1 in /usr/local/lib/python3.6/dist-packages (from matplotlib->pyss3) (2.4.7)\n",
            "Requirement already satisfied: cycler>=0.10 in /usr/local/lib/python3.6/dist-packages (from matplotlib->pyss3) (0.10.0)\n",
            "Requirement already satisfied: kiwisolver>=1.0.1 in /usr/local/lib/python3.6/dist-packages (from matplotlib->pyss3) (1.2.0)\n",
            "Mounted at /content/drive\n"
          ],
          "name": "stdout"
        }
      ]
    },
    {
      "cell_type": "markdown",
      "metadata": {
        "id": "7spLzLAuJukq",
        "colab_type": "text"
      },
      "source": [
        "## Load Data"
      ]
    },
    {
      "cell_type": "code",
      "metadata": {
        "id": "LDeeUOXnJreo",
        "colab_type": "code",
        "colab": {
          "base_uri": "https://localhost:8080/",
          "height": 51
        },
        "outputId": "9ff76c68-b661-45e9-d86c-bdbfad2302ff"
      },
      "source": [
        "X_train, y_train = Dataset.load_from_files(path_root + data_root + \"TutorialMovieReview/train\")\n",
        "X_val, y_val = Dataset.load_from_files(path_root + data_root + \"TutorialMovieReview/test\")"
      ],
      "execution_count": null,
      "outputs": [
        {
          "output_type": "stream",
          "text": [
            "[2/2] Loading 'neg' documents: 100%|██████████| 5000/5000 [17:26<00:00,  4.78it/s]\n",
            "[2/2] Loading 'neg' documents: 100%|██████████| 500/500 [01:39<00:00,  5.04it/s]\n"
          ],
          "name": "stderr"
        }
      ]
    },
    {
      "cell_type": "markdown",
      "metadata": {
        "id": "-eB56zKRJ5Jj",
        "colab_type": "text"
      },
      "source": [
        "## Classify"
      ]
    },
    {
      "cell_type": "code",
      "metadata": {
        "id": "j3VEfkhNJ6-z",
        "colab_type": "code",
        "colab": {
          "base_uri": "https://localhost:8080/",
          "height": 769
        },
        "outputId": "e3754377-e976-4af3-8fa0-db1655e00aa1"
      },
      "source": [
        "clf = SS3()\n",
        "clf.fit(X_train, y_train, n_grams=5)\n",
        "Evaluation.test(clf, X_val, y_val, metric=\"f1-score\")"
      ],
      "execution_count": null,
      "outputs": [
        {
          "output_type": "stream",
          "text": [
            "Training on 'pos': 100%|██████████| 2/2 [00:24<00:00, 12.39s/it]\n",
            "Classification: 100%|██████████| 1000/1000 [00:06<00:00, 157.00it/s]\n"
          ],
          "name": "stderr"
        },
        {
          "output_type": "stream",
          "text": [
            "\n",
            "              precision    recall  f1-score   support\n",
            "\n",
            "         neg       0.86      0.86      0.86       500\n",
            "         pos       0.86      0.86      0.86       500\n",
            "\n",
            "    accuracy                           0.86      1000\n",
            "   macro avg       0.86      0.86      0.86      1000\n",
            "weighted avg       0.86      0.86      0.86      1000\n",
            "\n",
            "\n",
            " \u001b[1mAccuracy\u001b[0m: 0.863\n",
            "\n",
            "\u001b[94m[ updating evaluations cache ]\u001b[0m\n"
          ],
          "name": "stdout"
        },
        {
          "output_type": "display_data",
          "data": {
            "image/png": "[encoded data removed]",
            "text/plain": [
              "<Figure size 576x576 with 2 Axes>"
            ]
          },
          "metadata": {
            "tags": [],
            "needs_background": "light"
          }
        },
        {
          "output_type": "execute_result",
          "data": {
            "text/plain": [
              "0.862999862999863"
            ]
          },
          "metadata": {
            "tags": []
          },
          "execution_count": 7
        }
      ]
    }
  ]
}