{
  "nbformat": 4,
  "nbformat_minor": 0,
  "metadata": {
    "colab": {
      "name": "BeerReview.ipynb",
      "provenance": [],
      "collapsed_sections": []
    },
    "kernelspec": {
      "name": "python3",
      "display_name": "Python 3"
    }
  },
  "cells": [
    {
      "cell_type": "markdown",
      "metadata": {
        "id": "qOVqPui2LtQK",
        "colab_type": "text"
      },
      "source": [
        "# TLDR: Macro Avg. F1 = 0.73%"
      ]
    },
    {
      "cell_type": "markdown",
      "metadata": {
        "id": "fT0c2K7fJlmn",
        "colab_type": "text"
      },
      "source": [
        "# Default Setup"
      ]
    },
    {
      "cell_type": "code",
      "metadata": {
        "id": "KCaXmjKFJjNq",
        "colab_type": "code",
        "colab": {
          "base_uri": "https://localhost:8080/",
          "height": 496
        },
        "outputId": "180935e1-01f8-4e12-d794-7ef9beba198f"
      },
      "source": [
        "# Dataloading Stuff\n",
        "from google.colab import drive\n",
        "from sys import path\n",
        "import os\n",
        "\n",
        "# Standard Stuff\n",
        "!pip3 install numpy sklearn iterative-stratification pandas pyss3\n",
        "from sklearn.model_selection import train_test_split\n",
        "\n",
        "from pyss3 import SS3\n",
        "from pyss3.util import Dataset, Evaluation, span\n",
        "\n",
        "import numpy as np\n",
        "import pandas as pd\n",
        "\n",
        "drive.mount('/content/drive', force_remount=True)\n",
        "path_root = '/content/drive/My Drive/NLP Lab/SingleLabel/'\n",
        "path.append(path_root)\n",
        "data_root = 'data/'"
      ],
      "execution_count": null,
      "outputs": [
        {
          "output_type": "stream",
          "text": [
            "Requirement already satisfied: numpy in /usr/local/lib/python3.6/dist-packages (1.18.5)\n",
            "Requirement already satisfied: sklearn in /usr/local/lib/python3.6/dist-packages (0.0)\n",
            "Collecting iterative-stratification\n",
            "  Downloading https://files.pythonhosted.org/packages/9d/79/9ba64c8c07b07b8b45d80725b2ebd7b7884701c1da34f70d4749f7b45f9a/iterative_stratification-0.1.6-py3-none-any.whl\n",
            "Requirement already satisfied: pandas in /usr/local/lib/python3.6/dist-packages (1.0.5)\n",
            "Collecting pyss3\n",
            "\u001b[?25l  Downloading https://files.pythonhosted.org/packages/52/06/02e7944ecf2dff0997fde276bf28add979c2d30c266a7e5d3300a6e1959a/pyss3-0.6.2-py3-none-any.whl (2.0MB)\n",
            "\u001b[K     |████████████████████████████████| 2.0MB 3.1MB/s \n",
            "\u001b[?25hRequirement already satisfied: scikit-learn in /usr/local/lib/python3.6/dist-packages (from sklearn) (0.22.2.post1)\n",
            "Requirement already satisfied: scipy in /usr/local/lib/python3.6/dist-packages (from iterative-stratification) (1.4.1)\n",
            "Requirement already satisfied: python-dateutil>=2.6.1 in /usr/local/lib/python3.6/dist-packages (from pandas) (2.8.1)\n",
            "Requirement already satisfied: pytz>=2017.2 in /usr/local/lib/python3.6/dist-packages (from pandas) (2018.9)\n",
            "Requirement already satisfied: cython in /usr/local/lib/python3.6/dist-packages (from pyss3) (0.29.20)\n",
            "Requirement already satisfied: tqdm>=4.8.4 in /usr/local/lib/python3.6/dist-packages (from pyss3) (4.41.1)\n",
            "Requirement already satisfied: matplotlib in /usr/local/lib/python3.6/dist-packages (from pyss3) (3.2.2)\n",
            "Requirement already satisfied: six in /usr/local/lib/python3.6/dist-packages (from pyss3) (1.12.0)\n",
            "Requirement already satisfied: joblib>=0.11 in /usr/local/lib/python3.6/dist-packages (from scikit-learn->sklearn) (0.15.1)\n",
            "Requirement already satisfied: pyparsing!=2.0.4,!=2.1.2,!=2.1.6,>=2.0.1 in /usr/local/lib/python3.6/dist-packages (from matplotlib->pyss3) (2.4.7)\n",
            "Requirement already satisfied: cycler>=0.10 in /usr/local/lib/python3.6/dist-packages (from matplotlib->pyss3) (0.10.0)\n",
            "Requirement already satisfied: kiwisolver>=1.0.1 in /usr/local/lib/python3.6/dist-packages (from matplotlib->pyss3) (1.2.0)\n",
            "Installing collected packages: iterative-stratification, pyss3\n",
            "Successfully installed iterative-stratification-0.1.6 pyss3-0.6.2\n",
            "Go to this URL in a browser: https://accounts.google.com/o/oauth2/auth?client_id=947318989803-6bn6qk8qdgf4n4g3pfee6491hc0brc4i.apps.googleusercontent.com&redirect_uri=urn%3aietf%3awg%3aoauth%3a2.0%3aoob&response_type=code&scope=email%20https%3a%2f%2fwww.googleapis.com%2fauth%2fdocs.test%20https%3a%2f%2fwww.googleapis.com%2fauth%2fdrive%20https%3a%2f%2fwww.googleapis.com%2fauth%2fdrive.photos.readonly%20https%3a%2f%2fwww.googleapis.com%2fauth%2fpeopleapi.readonly\n",
            "\n",
            "Enter your authorization code:\n",
            "··········\n",
            "Mounted at /content/drive\n"
          ],
          "name": "stdout"
        }
      ]
    },
    {
      "cell_type": "markdown",
      "metadata": {
        "id": "7spLzLAuJukq",
        "colab_type": "text"
      },
      "source": [
        "## Load Data"
      ]
    },
    {
      "cell_type": "code",
      "metadata": {
        "id": "LDeeUOXnJreo",
        "colab_type": "code",
        "colab": {}
      },
      "source": [
        "with open(path_root + data_root + 'BeerReview/test.txt', 'r') as text_file:\n",
        "  text = text_file.read().split('\\n')\n",
        "\n",
        "with open(path_root + data_root + 'BeerReview/test_label.txt', 'r') as label_file:\n",
        "  label = label_file.read().split('\\n')\n",
        "\n",
        "X_train, X_val, y_train, y_val = train_test_split(text, label, test_size = 0.2)"
      ],
      "execution_count": null,
      "outputs": []
    },
    {
      "cell_type": "markdown",
      "metadata": {
        "id": "-eB56zKRJ5Jj",
        "colab_type": "text"
      },
      "source": [
        "## Classify Dataset"
      ]
    },
    {
      "cell_type": "code",
      "metadata": {
        "id": "j3VEfkhNJ6-z",
        "colab_type": "code",
        "colab": {
          "base_uri": "https://localhost:8080/",
          "height": 848
        },
        "outputId": "161801c5-e694-4db5-fa24-0fa24da5eb8e"
      },
      "source": [
        "clf = SS3()\n",
        "clf.fit(X_train, y_train, n_grams=5)\n",
        "Evaluation.test(clf, X_val, y_val, metric=\"f1-score\")"
      ],
      "execution_count": null,
      "outputs": [
        {
          "output_type": "stream",
          "text": [
            "Training on 'taste': 100%|██████████| 6/6 [00:00<00:00,  6.59it/s]\n",
            "Classification: 100%|██████████| 1848/1848 [00:00<00:00, 2551.59it/s]\n"
          ],
          "name": "stderr"
        },
        {
          "output_type": "stream",
          "text": [
            "\n",
            "              precision    recall  f1-score   support\n",
            "\n",
            "        None       0.54      0.70      0.61       179\n",
            "        feel       0.82      0.77      0.80       194\n",
            "        look       0.93      0.90      0.91       338\n",
            "     overall       0.80      0.61      0.69       420\n",
            "       smell       0.66      0.77      0.71       284\n",
            "       taste       0.64      0.69      0.66       432\n",
            "\n",
            "   micro avg       0.73      0.73      0.73      1847\n",
            "   macro avg       0.73      0.74      0.73      1847\n",
            "weighted avg       0.74      0.73      0.73      1847\n",
            "\n",
            "\n",
            " \u001b[1mAccuracy\u001b[0m: 0.729\n",
            "\n",
            "\u001b[94m[ updating evaluations cache ]\u001b[0m\n"
          ],
          "name": "stdout"
        },
        {
          "output_type": "display_data",
          "data": {
            "image/png": "[encoded data removed]",
            "text/plain": [
              "<Figure size 576x576 with 2 Axes>"
            ]
          },
          "metadata": {
            "tags": [],
            "needs_background": "light"
          }
        },
        {
          "output_type": "execute_result",
          "data": {
            "text/plain": [
              "0.7308549933777854"
            ]
          },
          "metadata": {
            "tags": []
          },
          "execution_count": 4
        }
      ]
    }
  ]
}