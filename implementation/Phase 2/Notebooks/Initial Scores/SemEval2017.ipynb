{
  "nbformat": 4,
  "nbformat_minor": 0,
  "metadata": {
    "colab": {
      "name": "SemEval2017.ipynb",
      "provenance": [],
      "collapsed_sections": []
    },
    "kernelspec": {
      "name": "python3",
      "display_name": "Python 3"
    }
  },
  "cells": [
    {
      "cell_type": "markdown",
      "metadata": {
        "id": "2stOo5iN1cQA",
        "colab_type": "text"
      },
      "source": [
        "# TLDR: Macro Avg. F1 = 51%"
      ]
    },
    {
      "cell_type": "markdown",
      "metadata": {
        "id": "fT0c2K7fJlmn",
        "colab_type": "text"
      },
      "source": [
        "# Default Setup"
      ]
    },
    {
      "cell_type": "code",
      "metadata": {
        "id": "KCaXmjKFJjNq",
        "colab_type": "code",
        "colab": {
          "base_uri": "https://localhost:8080/",
          "height": 490
        },
        "outputId": "c571fbc7-a0a5-496b-9878-f2d66ee0c558"
      },
      "source": [
        "# Dataloading Stuff\n",
        "from google.colab import drive\n",
        "from sys import path\n",
        "import os\n",
        "\n",
        "# Standard Stuff\n",
        "!pip3 install numpy sklearn iterative-stratification pandas pyss3\n",
        "from sklearn.model_selection import train_test_split\n",
        "\n",
        "from pyss3 import SS3\n",
        "from pyss3.util import Dataset, Evaluation, span\n",
        "\n",
        "import numpy as np\n",
        "import pandas as pd\n",
        "\n",
        "drive.mount('/content/drive', force_remount=True)\n",
        "path_root = '/content/drive/My Drive/NLP Lab/SingleLabel/'\n",
        "path.append(path_root)\n",
        "data_root = 'data/'"
      ],
      "execution_count": null,
      "outputs": [
        {
          "output_type": "stream",
          "text": [
            "Requirement already satisfied: numpy in /usr/local/lib/python3.6/dist-packages (1.18.4)\n",
            "Requirement already satisfied: sklearn in /usr/local/lib/python3.6/dist-packages (0.0)\n",
            "Collecting iterative-stratification\n",
            "  Downloading https://files.pythonhosted.org/packages/9d/79/9ba64c8c07b07b8b45d80725b2ebd7b7884701c1da34f70d4749f7b45f9a/iterative_stratification-0.1.6-py3-none-any.whl\n",
            "Requirement already satisfied: pandas in /usr/local/lib/python3.6/dist-packages (1.0.4)\n",
            "Collecting pyss3\n",
            "\u001b[?25l  Downloading https://files.pythonhosted.org/packages/c8/9f/d390d2ba8979d4c10169e20587a1494ab99bdc6ce83202aa76c5a47ff1f8/pyss3-0.6.1-py3-none-any.whl (2.0MB)\n",
            "\u001b[K     |████████████████████████████████| 2.0MB 6.3MB/s \n",
            "\u001b[?25hRequirement already satisfied: scikit-learn in /usr/local/lib/python3.6/dist-packages (from sklearn) (0.22.2.post1)\n",
            "Requirement already satisfied: scipy in /usr/local/lib/python3.6/dist-packages (from iterative-stratification) (1.4.1)\n",
            "Requirement already satisfied: python-dateutil>=2.6.1 in /usr/local/lib/python3.6/dist-packages (from pandas) (2.8.1)\n",
            "Requirement already satisfied: pytz>=2017.2 in /usr/local/lib/python3.6/dist-packages (from pandas) (2018.9)\n",
            "Requirement already satisfied: tqdm>=4.8.4 in /usr/local/lib/python3.6/dist-packages (from pyss3) (4.41.1)\n",
            "Requirement already satisfied: cython in /usr/local/lib/python3.6/dist-packages (from pyss3) (0.29.19)\n",
            "Requirement already satisfied: six in /usr/local/lib/python3.6/dist-packages (from pyss3) (1.12.0)\n",
            "Requirement already satisfied: matplotlib in /usr/local/lib/python3.6/dist-packages (from pyss3) (3.2.1)\n",
            "Requirement already satisfied: joblib>=0.11 in /usr/local/lib/python3.6/dist-packages (from scikit-learn->sklearn) (0.15.1)\n",
            "Requirement already satisfied: pyparsing!=2.0.4,!=2.1.2,!=2.1.6,>=2.0.1 in /usr/local/lib/python3.6/dist-packages (from matplotlib->pyss3) (2.4.7)\n",
            "Requirement already satisfied: cycler>=0.10 in /usr/local/lib/python3.6/dist-packages (from matplotlib->pyss3) (0.10.0)\n",
            "Requirement already satisfied: kiwisolver>=1.0.1 in /usr/local/lib/python3.6/dist-packages (from matplotlib->pyss3) (1.2.0)\n",
            "Installing collected packages: iterative-stratification, pyss3\n",
            "Successfully installed iterative-stratification-0.1.6 pyss3-0.6.1\n",
            "Go to this URL in a browser: https://accounts.google.com/o/oauth2/auth?client_id=947318989803-6bn6qk8qdgf4n4g3pfee6491hc0brc4i.apps.googleusercontent.com&redirect_uri=urn%3aietf%3awg%3aoauth%3a2.0%3aoob&response_type=code&scope=email%20https%3a%2f%2fwww.googleapis.com%2fauth%2fdocs.test%20https%3a%2f%2fwww.googleapis.com%2fauth%2fdrive%20https%3a%2f%2fwww.googleapis.com%2fauth%2fdrive.photos.readonly%20https%3a%2f%2fwww.googleapis.com%2fauth%2fpeopleapi.readonly\n",
            "\n",
            "Enter your authorization code:\n",
            "··········\n",
            "Mounted at /content/drive\n"
          ],
          "name": "stdout"
        }
      ]
    },
    {
      "cell_type": "markdown",
      "metadata": {
        "id": "7spLzLAuJukq",
        "colab_type": "text"
      },
      "source": [
        "## Load Data"
      ]
    },
    {
      "cell_type": "code",
      "metadata": {
        "id": "LDeeUOXnJreo",
        "colab_type": "code",
        "colab": {}
      },
      "source": [
        "df = pd.read_csv(path_root + data_root + \"SemEval2017/SemEval2017-task4-dev.subtask-A.english.INPUT.txt\", sep=\"\\t\", header=None)\n",
        "df = df[[1,2]]\n",
        "labels = df[1].to_list()\n",
        "text = df[2].to_list()\n",
        "\n",
        "X_train, X_val, y_train, y_val = train_test_split(text, labels, test_size=0.2)"
      ],
      "execution_count": null,
      "outputs": []
    },
    {
      "cell_type": "markdown",
      "metadata": {
        "id": "-eB56zKRJ5Jj",
        "colab_type": "text"
      },
      "source": [
        "## Classify"
      ]
    },
    {
      "cell_type": "code",
      "metadata": {
        "id": "j3VEfkhNJ6-z",
        "colab_type": "code",
        "colab": {
          "base_uri": "https://localhost:8080/",
          "height": 766
        },
        "outputId": "30f750d6-2709-457c-8a20-66ad21df3b01"
      },
      "source": [
        "clf = SS3()\n",
        "clf.fit(X_train, y_train, n_grams=5)\n",
        "Evaluation.test(clf, X_val, y_val, metric=\"f1-score\")"
      ],
      "execution_count": null,
      "outputs": [
        {
          "output_type": "stream",
          "text": [
            "Training on 'positive': 100%|██████████| 3/3 [00:04<00:00,  1.46s/it]\n"
          ],
          "name": "stderr"
        },
        {
          "output_type": "stream",
          "text": [
            "\n",
            "              precision    recall  f1-score   support\n",
            "\n",
            "    negative       0.32      0.76      0.45       630\n",
            "     neutral       0.67      0.42      0.52      2105\n",
            "    positive       0.59      0.56      0.57      1392\n",
            "\n",
            "    accuracy                           0.52      4127\n",
            "   macro avg       0.53      0.58      0.51      4127\n",
            "weighted avg       0.59      0.52      0.53      4127\n",
            "\n",
            "\n",
            " \u001b[1mAccuracy\u001b[0m: 0.519\n",
            "\n"
          ],
          "name": "stdout"
        },
        {
          "output_type": "display_data",
          "data": {
            "image/png": "[encoded data removed]",
            "text/plain": [
              "<Figure size 576x576 with 2 Axes>"
            ]
          },
          "metadata": {
            "tags": [],
            "needs_background": "light"
          }
        },
        {
          "output_type": "execute_result",
          "data": {
            "text/plain": [
              "0.5139359194932306"
            ]
          },
          "metadata": {
            "tags": []
          },
          "execution_count": 5
        }
      ]
    }
  ]
}