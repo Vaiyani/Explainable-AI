{
 "cells": [
  {
   "cell_type": "code",
   "execution_count": 1,
   "metadata": {
    "colab": {
     "base_uri": "https://localhost:8080/",
     "height": 419
    },
    "colab_type": "code",
    "executionInfo": {
     "elapsed": 6852,
     "status": "ok",
     "timestamp": 1592743105758,
     "user": {
      "displayName": "Muneeb Vaiyani",
      "photoUrl": "",
      "userId": "08361947535252094250"
     },
     "user_tz": 0
    },
    "id": "RV6wl28-q1GM",
    "outputId": "13203a05-2500-4181-c47c-5094d985b526"
   },
   "outputs": [
    {
     "name": "stdout",
     "output_type": "stream",
     "text": [
      "Requirement already satisfied: numpy in /usr/local/lib/python3.6/dist-packages (1.18.5)\n",
      "Requirement already satisfied: sklearn in /usr/local/lib/python3.6/dist-packages (0.0)\n",
      "Collecting iterative-stratification\n",
      "  Downloading https://files.pythonhosted.org/packages/9d/79/9ba64c8c07b07b8b45d80725b2ebd7b7884701c1da34f70d4749f7b45f9a/iterative_stratification-0.1.6-py3-none-any.whl\n",
      "Requirement already satisfied: pandas in /usr/local/lib/python3.6/dist-packages (1.0.4)\n",
      "Collecting pyss3\n",
      "\u001b[?25l  Downloading https://files.pythonhosted.org/packages/52/06/02e7944ecf2dff0997fde276bf28add979c2d30c266a7e5d3300a6e1959a/pyss3-0.6.2-py3-none-any.whl (2.0MB)\n",
      "\u001b[K     |████████████████████████████████| 2.0MB 3.8MB/s \n",
      "\u001b[?25hRequirement already satisfied: scikit-learn in /usr/local/lib/python3.6/dist-packages (from sklearn) (0.22.2.post1)\n",
      "Requirement already satisfied: scipy in /usr/local/lib/python3.6/dist-packages (from iterative-stratification) (1.4.1)\n",
      "Requirement already satisfied: python-dateutil>=2.6.1 in /usr/local/lib/python3.6/dist-packages (from pandas) (2.8.1)\n",
      "Requirement already satisfied: pytz>=2017.2 in /usr/local/lib/python3.6/dist-packages (from pandas) (2018.9)\n",
      "Requirement already satisfied: tqdm>=4.8.4 in /usr/local/lib/python3.6/dist-packages (from pyss3) (4.41.1)\n",
      "Requirement already satisfied: matplotlib in /usr/local/lib/python3.6/dist-packages (from pyss3) (3.2.1)\n",
      "Requirement already satisfied: six in /usr/local/lib/python3.6/dist-packages (from pyss3) (1.12.0)\n",
      "Requirement already satisfied: cython in /usr/local/lib/python3.6/dist-packages (from pyss3) (0.29.20)\n",
      "Requirement already satisfied: joblib>=0.11 in /usr/local/lib/python3.6/dist-packages (from scikit-learn->sklearn) (0.15.1)\n",
      "Requirement already satisfied: cycler>=0.10 in /usr/local/lib/python3.6/dist-packages (from matplotlib->pyss3) (0.10.0)\n",
      "Requirement already satisfied: kiwisolver>=1.0.1 in /usr/local/lib/python3.6/dist-packages (from matplotlib->pyss3) (1.2.0)\n",
      "Requirement already satisfied: pyparsing!=2.0.4,!=2.1.2,!=2.1.6,>=2.0.1 in /usr/local/lib/python3.6/dist-packages (from matplotlib->pyss3) (2.4.7)\n",
      "Installing collected packages: iterative-stratification, pyss3\n",
      "Successfully installed iterative-stratification-0.1.6 pyss3-0.6.2\n"
     ]
    }
   ],
   "source": [
    "# Dataloading Stuff\n",
    "from google.colab import drive\n",
    "from sys import path\n",
    "import os\n",
    "\n",
    "# Standard Stuff\n",
    "!pip3 install numpy sklearn iterative-stratification pandas pyss3\n",
    "from sklearn.model_selection import train_test_split\n",
    "import pyss3\n",
    "from pyss3 import SS3\n",
    "from pyss3.util import Dataset, Evaluation, span\n",
    "from sklearn.metrics import f1_score, confusion_matrix, ConfusionMatrixDisplay, accuracy_score\n",
    "import itertools\n",
    "import numpy as np\n",
    "import pandas as pd\n",
    "\n"
   ]
  },
  {
   "cell_type": "code",
   "execution_count": 2,
   "metadata": {
    "colab": {
     "base_uri": "https://localhost:8080/",
     "height": 124
    },
    "colab_type": "code",
    "executionInfo": {
     "elapsed": 39006,
     "status": "ok",
     "timestamp": 1592743137932,
     "user": {
      "displayName": "Muneeb Vaiyani",
      "photoUrl": "",
      "userId": "08361947535252094250"
     },
     "user_tz": 0
    },
    "id": "g-PTfgQ2dzJW",
    "outputId": "2a44466c-180e-401e-840e-79dc7d67b95c"
   },
   "outputs": [
    {
     "name": "stdout",
     "output_type": "stream",
     "text": [
      "Go to this URL in a browser: https://accounts.google.com/o/oauth2/auth?client_id=947318989803-6bn6qk8qdgf4n4g3pfee6491hc0brc4i.apps.googleusercontent.com&redirect_uri=urn%3aietf%3awg%3aoauth%3a2.0%3aoob&response_type=code&scope=email%20https%3a%2f%2fwww.googleapis.com%2fauth%2fdocs.test%20https%3a%2f%2fwww.googleapis.com%2fauth%2fdrive%20https%3a%2f%2fwww.googleapis.com%2fauth%2fdrive.photos.readonly%20https%3a%2f%2fwww.googleapis.com%2fauth%2fpeopleapi.readonly\n",
      "\n",
      "Enter your authorization code:\n",
      "··········\n",
      "Mounted at /content/drive\n"
     ]
    }
   ],
   "source": [
    "drive.mount('/content/drive', force_remount=True)\n",
    "path_root = '/content/drive/My Drive/NLP Lab/SingleLabel/'\n",
    "path.append(path_root)\n",
    "data_root = 'data/'"
   ]
  },
  {
   "cell_type": "code",
   "execution_count": 3,
   "metadata": {
    "colab": {},
    "colab_type": "code",
    "executionInfo": {
     "elapsed": 42514,
     "status": "ok",
     "timestamp": 1592743141448,
     "user": {
      "displayName": "Muneeb Vaiyani",
      "photoUrl": "",
      "userId": "08361947535252094250"
     },
     "user_tz": 0
    },
    "id": "rm9Vpmz2q4A8"
   },
   "outputs": [],
   "source": [
    "\n",
    "#############  Amazon Alexa Review ############\n",
    "# df = pd.read_csv(path_root + data_root + \"AmazonAlexaReview/amazon_alexa.tsv\", sep=\"\\t\")\n",
    "# text = df['verified_reviews'].to_list()\n",
    "# labels = df['rating'].astype(str).to_list()\n",
    "#############  Amazon Alexa Review ############\n",
    "\n",
    "\n",
    "#############  sem eval 2017 ############\n",
    "# df = pd.read_csv(path_root + data_root + \"SemEval2017/SemEval2017-task4-dev.subtask-A.english.INPUT.txt\", sep=\"\\t\", header=None)\n",
    "# df = df[[1,2]]\n",
    "\n",
    "# labels = df[1].to_list()\n",
    "# text = df[2].to_list()\n",
    "#############  sem eval 2017 ############\n",
    "\n",
    "############## beer review ###############\n",
    "with open(path_root + data_root + 'BeerReview/test.txt', 'r') as text_file:\n",
    "  text = text_file.read().split('\\n')\n",
    "\n",
    "with open(path_root + data_root + 'BeerReview/test_label.txt', 'r') as label_file:\n",
    "  labels = label_file.read().split('\\n')\n",
    "############## beer review ###############\n",
    "\n",
    "X_train, X_val, y_train, y_val = train_test_split(text, labels, test_size=0.2)"
   ]
  },
  {
   "cell_type": "code",
   "execution_count": 4,
   "metadata": {
    "colab": {
     "base_uri": "https://localhost:8080/",
     "height": 306
    },
    "colab_type": "code",
    "executionInfo": {
     "elapsed": 42508,
     "status": "ok",
     "timestamp": 1592743141454,
     "user": {
      "displayName": "Muneeb Vaiyani",
      "photoUrl": "",
      "userId": "08361947535252094250"
     },
     "user_tz": 0
    },
    "id": "vATyM1SCToCO",
    "outputId": "60b95831-4937-4668-c2e4-8e7b1841f2bb"
   },
   "outputs": [
    {
     "data": {
      "text/plain": [
       "<matplotlib.axes._subplots.AxesSubplot at 0x7f7cf1eeb630>"
      ]
     },
     "execution_count": 4,
     "metadata": {
      "tags": []
     },
     "output_type": "execute_result"
    },
    {
     "data": {
      "image/png": "[encoded data removed]",
      "text/plain": [
       "<Figure size 432x288 with 1 Axes>"
      ]
     },
     "metadata": {
      "needs_background": "light",
      "tags": []
     },
     "output_type": "display_data"
    }
   ],
   "source": [
    "pd.Series([yy for yy in labels]).value_counts().plot(kind ='bar')"
   ]
  },
  {
   "cell_type": "code",
   "execution_count": 5,
   "metadata": {
    "colab": {},
    "colab_type": "code",
    "executionInfo": {
     "elapsed": 42851,
     "status": "ok",
     "timestamp": 1592743141802,
     "user": {
      "displayName": "Muneeb Vaiyani",
      "photoUrl": "",
      "userId": "08361947535252094250"
     },
     "user_tz": 0
    },
    "id": "eZSgfoE5rK92"
   },
   "outputs": [],
   "source": [
    "def binarize_label(y_train):\n",
    "  data_by_class = {}\n",
    "  for label in set(y_train):\n",
    "    data_by_class[label] = [label if x == label else 'other' for x in y_train]\n",
    "  return data_by_class"
   ]
  },
  {
   "cell_type": "code",
   "execution_count": 6,
   "metadata": {
    "colab": {},
    "colab_type": "code",
    "executionInfo": {
     "elapsed": 42848,
     "status": "ok",
     "timestamp": 1592743141805,
     "user": {
      "displayName": "Muneeb Vaiyani",
      "photoUrl": "",
      "userId": "08361947535252094250"
     },
     "user_tz": 0
    },
    "id": "iOg6LBmvtzOH"
   },
   "outputs": [],
   "source": [
    "def train_clfs(X_train, y_train):\n",
    "  clf_by_class = {}\n",
    "  if isinstance(y_train, dict):\n",
    "    for key, value in y_train.items():\n",
    "      clf = SS3(name=key)\n",
    "      clf.train(X_train, value,n_grams=5)\n",
    "      clf_by_class[key] = clf\n",
    "  else:\n",
    "    print(\"data per class not found\")\n",
    "  \n",
    "  return clf_by_class\n"
   ]
  },
  {
   "cell_type": "code",
   "execution_count": 7,
   "metadata": {
    "colab": {},
    "colab_type": "code",
    "executionInfo": {
     "elapsed": 42846,
     "status": "ok",
     "timestamp": 1592743141808,
     "user": {
      "displayName": "Muneeb Vaiyani",
      "photoUrl": "",
      "userId": "08361947535252094250"
     },
     "user_tz": 0
    },
    "id": "mDvG8L_WgMKn"
   },
   "outputs": [],
   "source": [
    "def change_parameter(s,l,p,a, clfs):\n",
    "  for key, value in clfs.items():\n",
    "    value.set_hyperparameters(s,l,p,a)"
   ]
  },
  {
   "cell_type": "code",
   "execution_count": 8,
   "metadata": {
    "colab": {},
    "colab_type": "code",
    "executionInfo": {
     "elapsed": 42844,
     "status": "ok",
     "timestamp": 1592743141810,
     "user": {
      "displayName": "Muneeb Vaiyani",
      "photoUrl": "",
      "userId": "08361947535252094250"
     },
     "user_tz": 0
    },
    "id": "QjhNvFxmwIRL"
   },
   "outputs": [],
   "source": [
    "def classify_clfs(data, clfs):\n",
    "  predict = {}\n",
    "  if isinstance(clfs, dict):\n",
    "    for key, value in clfs.items():\n",
    "      predict[key] = value.predict_proba(data) + [value.get_category_index(key)] \n",
    "  else:\n",
    "    print(\"clf per class not found\")\n",
    "\n",
    "  return predict\n"
   ]
  },
  {
   "cell_type": "code",
   "execution_count": 9,
   "metadata": {
    "colab": {},
    "colab_type": "code",
    "executionInfo": {
     "elapsed": 42842,
     "status": "ok",
     "timestamp": 1592743141812,
     "user": {
      "displayName": "Muneeb Vaiyani",
      "photoUrl": "",
      "userId": "08361947535252094250"
     },
     "user_tz": 0
    },
    "id": "cGt3rTDZ0bJd"
   },
   "outputs": [],
   "source": [
    "def predicted(predicted_clfs, iterations):\n",
    "  predicted = []\n",
    "  for i in range(iterations):\n",
    "    last_value = 0\n",
    "    label = ''\n",
    "    for key, value in predicted_clfs.items():\n",
    "      score = value[i][value[-1]]\n",
    "      if score > last_value:\n",
    "        last_value = score\n",
    "        label = key\n",
    "    # print(\"last_value: \", last_value, \" and Label: \", label)\n",
    "    predicted.append(label)\n",
    "  return predicted"
   ]
  },
  {
   "cell_type": "markdown",
   "metadata": {
    "colab_type": "text",
    "id": "Ua6yJ-YZUbxN"
   },
   "source": [
    "# **DEFAULT COMPARISON**"
   ]
  },
  {
   "cell_type": "code",
   "execution_count": 10,
   "metadata": {
    "colab": {
     "base_uri": "https://localhost:8080/",
     "height": 139
    },
    "colab_type": "code",
    "executionInfo": {
     "elapsed": 50249,
     "status": "ok",
     "timestamp": 1592743149227,
     "user": {
      "displayName": "Muneeb Vaiyani",
      "photoUrl": "",
      "userId": "08361947535252094250"
     },
     "user_tz": 0
    },
    "id": "f4BioesXvHcC",
    "outputId": "48f27375-2d7c-4061-e8b6-0e786f67679b"
   },
   "outputs": [
    {
     "name": "stderr",
     "output_type": "stream",
     "text": [
      "Training on 'other': 100%|██████████| 2/2 [00:00<00:00,  2.61it/s]\n",
      "Training on 'smell': 100%|██████████| 2/2 [00:00<00:00,  2.28it/s]\n",
      "Training on 'other': 100%|██████████| 2/2 [00:00<00:00,  2.52it/s]\n",
      "Training on 'other': 100%|██████████| 2/2 [00:00<00:00,  2.16it/s]\n",
      "Training on 'overall': 100%|██████████| 2/2 [00:00<00:00,  2.38it/s]\n",
      "Training on 'taste': 100%|██████████| 2/2 [00:01<00:00,  2.00it/s]\n",
      "Training on 'other': 100%|██████████| 2/2 [00:00<00:00,  2.19it/s]\n"
     ]
    }
   ],
   "source": [
    "pyss3.set_verbosity(1)\n",
    "binarized_data = binarize_label(y_train)\n",
    "clfs = train_clfs(X_train, binarized_data)"
   ]
  },
  {
   "cell_type": "code",
   "execution_count": 11,
   "metadata": {
    "colab": {
     "base_uri": "https://localhost:8080/",
     "height": 139
    },
    "colab_type": "code",
    "executionInfo": {
     "elapsed": 52948,
     "status": "ok",
     "timestamp": 1592743151934,
     "user": {
      "displayName": "Muneeb Vaiyani",
      "photoUrl": "",
      "userId": "08361947535252094250"
     },
     "user_tz": 0
    },
    "id": "MAXBBix4n9Lh",
    "outputId": "4bd5b040-334a-4ea4-f87e-ec0ada704290"
   },
   "outputs": [
    {
     "name": "stderr",
     "output_type": "stream",
     "text": [
      "Classification: 100%|██████████| 1848/1848 [00:00<00:00, 5603.53it/s]\n",
      "Classification: 100%|██████████| 1848/1848 [00:00<00:00, 5020.71it/s]\n",
      "Classification: 100%|██████████| 1848/1848 [00:00<00:00, 5340.49it/s]\n",
      "Classification: 100%|██████████| 1848/1848 [00:00<00:00, 5333.49it/s]\n",
      "Classification: 100%|██████████| 1848/1848 [00:00<00:00, 5118.67it/s]\n",
      "Classification: 100%|██████████| 1848/1848 [00:00<00:00, 5277.98it/s]\n",
      "Classification: 100%|██████████| 1848/1848 [00:00<00:00, 5157.83it/s]\n"
     ]
    }
   ],
   "source": [
    "predicted_clfs = classify_clfs(X_val,clfs)\n",
    "y_pred = predicted(predicted_clfs, len(X_val))"
   ]
  },
  {
   "cell_type": "code",
   "execution_count": 12,
   "metadata": {
    "colab": {
     "base_uri": "https://localhost:8080/",
     "height": 531
    },
    "colab_type": "code",
    "executionInfo": {
     "elapsed": 53405,
     "status": "ok",
     "timestamp": 1592743152400,
     "user": {
      "displayName": "Muneeb Vaiyani",
      "photoUrl": "",
      "userId": "08361947535252094250"
     },
     "user_tz": 0
    },
    "id": "9gjaC4EBdqci",
    "outputId": "1b69bed3-f467-4b68-d376-db457a2e5a79"
   },
   "outputs": [
    {
     "name": "stdout",
     "output_type": "stream",
     "text": [
      "Macro F1 score :  0.5978712954158122\n",
      "Micro F1 score:  0.6975108225108225\n",
      " ------- \n"
     ]
    },
    {
     "data": {
      "image/png": "[encoded data removed]",
      "text/plain": [
       "<Figure size 576x576 with 2 Axes>"
      ]
     },
     "metadata": {
      "needs_background": "light",
      "tags": []
     },
     "output_type": "display_data"
    }
   ],
   "source": [
    "### one vs rest results ###\n",
    "\n",
    "print(\"Macro F1 score : \" , f1_score(y_val, y_pred, average='macro'))\n",
    "print(\"Micro F1 score: \" , f1_score(y_val, y_pred, average='micro'))\n",
    "print(\" ------- \")\n",
    "categories = list(set(labels)) \n",
    "# ConfusionMatrixDisplay(confusion_matrix(y_val, y_pred, labels=categories),display_labels=categories).plot(values_format='.1f')\n",
    "Evaluation.__plot_confusion_matrices__([confusion_matrix(y_val, y_pred, labels=categories)], categories)"
   ]
  },
  {
   "cell_type": "code",
   "execution_count": 13,
   "metadata": {
    "colab": {
     "base_uri": "https://localhost:8080/",
     "height": 873
    },
    "colab_type": "code",
    "executionInfo": {
     "elapsed": 56166,
     "status": "ok",
     "timestamp": 1592743155168,
     "user": {
      "displayName": "Muneeb Vaiyani",
      "photoUrl": "",
      "userId": "08361947535252094250"
     },
     "user_tz": 0
    },
    "id": "ZQN1EKLjeobU",
    "outputId": "b7e8ec79-dc59-4673-e375-1e7ab9c1a55b"
   },
   "outputs": [
    {
     "name": "stderr",
     "output_type": "stream",
     "text": [
      "Training on 'taste': 100%|██████████| 7/7 [00:01<00:00,  6.25it/s]\n",
      "Classification: 100%|██████████| 1848/1848 [00:00<00:00, 2598.70it/s]\n"
     ]
    },
    {
     "name": "stdout",
     "output_type": "stream",
     "text": [
      "\n",
      "              precision    recall  f1-score   support\n",
      "\n",
      "                   0.00      0.00      0.00         0\n",
      "        None       0.50      0.66      0.57       161\n",
      "        feel       0.77      0.79      0.78       192\n",
      "        look       0.92      0.90      0.91       306\n",
      "     overall       0.73      0.68      0.71       440\n",
      "       smell       0.53      0.89      0.66       289\n",
      "       taste       0.77      0.40      0.52       460\n",
      "\n",
      "   micro avg       0.69      0.69      0.69      1848\n",
      "   macro avg       0.60      0.62      0.59      1848\n",
      "weighted avg       0.72      0.69      0.68      1848\n",
      "\n",
      "\n",
      " \u001b[1mAccuracy\u001b[0m: 0.690\n",
      "\n",
      "\u001b[94m[ updating evaluations cache ]\u001b[0m\n"
     ]
    },
    {
     "data": {
      "image/png": "[encoded data removed]",
      "text/plain": [
       "<Figure size 576x576 with 2 Axes>"
      ]
     },
     "metadata": {
      "needs_background": "light",
      "tags": []
     },
     "output_type": "display_data"
    },
    {
     "data": {
      "text/plain": [
       "0.5935269929481849"
      ]
     },
     "execution_count": 13,
     "metadata": {
      "tags": []
     },
     "output_type": "execute_result"
    }
   ],
   "source": [
    "## Default classifier result ##\n",
    "\n",
    "clf = SS3()\n",
    "clf.train(X_train, y_train,n_grams=5)\n",
    "Evaluation.test(clf, X_val, y_val, metric=\"f1-score\")"
   ]
  },
  {
   "cell_type": "code",
   "execution_count": 1,
   "metadata": {
    "colab": {},
    "colab_type": "code",
    "executionInfo": {
     "elapsed": 56165,
     "status": "ok",
     "timestamp": 1592743155170,
     "user": {
      "displayName": "Muneeb Vaiyani",
      "photoUrl": "",
      "userId": "08361947535252094250"
     },
     "user_tz": 0
    },
    "id": "ZWL7WeVLxBFz"
   },
   "outputs": [],
   "source": [
    "# s=span(0, 1, 11)  # [0.2 , 0.32, 0.44, 0.56, 0.68, 0.8]\n",
    "# l=span(0, 1, 6)   # [0.1 , 0.48, 0.86, 1.24, 1.62, 2]\n",
    "# p=span(0, 1, 6)   # [1.75, 1.95, 2.15, 2.35, 2.55, 2.75]\n",
    "# a=span(0, 5, 6)\n",
    "# slpa = list(itertools.product(s,l,p,a))\n",
    "# iterations = len(slpa)\n",
    "# divider = 50"
   ]
  },
  {
   "cell_type": "code",
   "execution_count": 2,
   "metadata": {
    "colab": {
     "base_uri": "https://localhost:8080/",
     "height": 1000
    },
    "colab_type": "code",
    "executionInfo": {
     "elapsed": 11427186,
     "status": "error",
     "timestamp": 1592754526200,
     "user": {
      "displayName": "Muneeb Vaiyani",
      "photoUrl": "",
      "userId": "08361947535252094250"
     },
     "user_tz": 0
    },
    "id": "sAnOozMmfpNF",
    "outputId": "1dce3519-8849-4e07-f6c4-42bb5ecce8b6"
   },
   "outputs": [],
   "source": [
    "# pyss3.set_verbosity(0)\n",
    "# current_iteration = 0\n",
    "# last_metric_value = 0\n",
    "# last_metric_value_default = 0\n",
    "# best_y_pred = []\n",
    "# best_y_pred_default = []\n",
    "# for s,l,p,a in slpa:\n",
    "#   current_iteration += 1\n",
    "#   print('\\r',current_iteration, end='')\n",
    "\n",
    "#   change_parameter(s,l,p,a,clfs)\n",
    "#   clf.set_hyperparameters(s,l,p,a)\n",
    "#   predicted_clfs = classify_clfs(X_val,clfs)\n",
    "#   y_pred = predicted(predicted_clfs, len(X_val))\n",
    "#   metric_value = f1_score(y_val, y_pred, average='macro')\n",
    "#   if(metric_value > last_metric_value):\n",
    "#     last_metric_value = metric_value\n",
    "#     best_y_pred = y_pred\n",
    "#     best = (s,l,p,a)  \n",
    "  \n",
    "#   clf.set_hyperparameters(s,l,p,a)\n",
    "#   y_pred_default = clf.predict(X_val)\n",
    "#   metric_value_default = f1_score(y_val, y_pred_default, average='macro')\n",
    "#   if(metric_value_default > last_metric_value_default):\n",
    "#     last_metric_value_default = metric_value_default\n",
    "#     best_y_pred_default = y_pred_default\n",
    "#     best_default = (s,l,p,a)   \n",
    "\n",
    "#   if(current_iteration%divider == 0):\n",
    "#     print(' -> best value so far: ', last_metric_value, ' -> best values: s={}, l={}, p={}, a={}'.format(best[0], best[1], best[2], best[3]), \"iterations: \", current_iteration, \"/\", iterations)\n",
    "#     print(' -> best value so far: ', last_metric_value_default, ' -> best values: s={}, l={}, p={}, a={}'.format(best_default[0], best_default[1], best_default[2], best_default[3]), \"iterations: \", current_iteration, \"/\", iterations)\n",
    "#     print('------------------------')"
   ]
  },
  {
   "cell_type": "code",
   "execution_count": 3,
   "metadata": {
    "colab": {},
    "colab_type": "code",
    "executionInfo": {
     "elapsed": 11426754,
     "status": "aborted",
     "timestamp": 1592754525770,
     "user": {
      "displayName": "Muneeb Vaiyani",
      "photoUrl": "",
      "userId": "08361947535252094250"
     },
     "user_tz": 0
    },
    "id": "B_YMUZWzfjbE"
   },
   "outputs": [],
   "source": [
    "# print(\"F1 score micro: \" , f1_score(y_val, best_y_pred, average='micro'))\n",
    "# print(\"F1 score macro: \" , f1_score(y_val, best_y_pred, average='macro'))\n",
    "# print(\" ------- \")\n",
    "# categories = list(set(labels)) \n",
    "# ConfusionMatrixDisplay(confusion_matrix(y_val, best_y_pred, labels=categories),display_labels=categories).plot(values_format='.1f')"
   ]
  },
  {
   "cell_type": "code",
   "execution_count": 4,
   "metadata": {
    "colab": {},
    "colab_type": "code",
    "executionInfo": {
     "elapsed": 11426756,
     "status": "aborted",
     "timestamp": 1592754525775,
     "user": {
      "displayName": "Muneeb Vaiyani",
      "photoUrl": "",
      "userId": "08361947535252094250"
     },
     "user_tz": 0
    },
    "id": "a2wsfyWOjoiM"
   },
   "outputs": [],
   "source": [
    "# clf.set_hyperparameters(s=best_default[0], l=best_default[1], p=best_default[2], a=best_default[3])\n",
    "# Evaluation.test(clf, X_val, y_val)"
   ]
  },
  {
   "cell_type": "code",
   "execution_count": null,
   "metadata": {
    "colab": {},
    "colab_type": "code",
    "executionInfo": {
     "elapsed": 11426754,
     "status": "aborted",
     "timestamp": 1592754525777,
     "user": {
      "displayName": "Muneeb Vaiyani",
      "photoUrl": "",
      "userId": "08361947535252094250"
     },
     "user_tz": 0
    },
    "id": "vIRwdrbHnnaH"
   },
   "outputs": [],
   "source": []
  }
 ],
 "metadata": {
  "colab": {
   "authorship_tag": "ABX9TyN6wA9zQfiMyC97uc2QzXGX",
   "collapsed_sections": [],
   "name": "one vs rest - beer review.ipynb",
   "provenance": []
  },
  "kernelspec": {
   "display_name": "Python 3",
   "language": "python",
   "name": "python3"
  },
  "language_info": {
   "codemirror_mode": {
    "name": "ipython",
    "version": 3
   },
   "file_extension": ".py",
   "mimetype": "text/x-python",
   "name": "python",
   "nbconvert_exporter": "python",
   "pygments_lexer": "ipython3",
   "version": "3.7.3"
  }
 },
 "nbformat": 4,
 "nbformat_minor": 1
}
