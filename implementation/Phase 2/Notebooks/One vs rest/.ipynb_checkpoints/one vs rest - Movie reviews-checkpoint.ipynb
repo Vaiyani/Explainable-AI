{
 "cells": [
  {
   "cell_type": "code",
   "execution_count": null,
   "metadata": {
    "colab": {
     "base_uri": "https://localhost:8080/",
     "height": 332
    },
    "colab_type": "code",
    "executionInfo": {
     "elapsed": 3323,
     "status": "ok",
     "timestamp": 1592751154270,
     "user": {
      "displayName": "Muneeb Vaiyani",
      "photoUrl": "",
      "userId": "08361947535252094250"
     },
     "user_tz": 0
    },
    "id": "RV6wl28-q1GM",
    "outputId": "e37c2ff8-19ae-4502-e6e6-748d2d72939a"
   },
   "outputs": [
    {
     "name": "stdout",
     "output_type": "stream",
     "text": [
      "Requirement already satisfied: numpy in /usr/local/lib/python3.6/dist-packages (1.18.5)\n",
      "Requirement already satisfied: sklearn in /usr/local/lib/python3.6/dist-packages (0.0)\n",
      "Requirement already satisfied: iterative-stratification in /usr/local/lib/python3.6/dist-packages (0.1.6)\n",
      "Requirement already satisfied: pandas in /usr/local/lib/python3.6/dist-packages (1.0.4)\n",
      "Requirement already satisfied: pyss3 in /usr/local/lib/python3.6/dist-packages (0.6.2)\n",
      "Requirement already satisfied: scikit-learn in /usr/local/lib/python3.6/dist-packages (from sklearn) (0.22.2.post1)\n",
      "Requirement already satisfied: scipy in /usr/local/lib/python3.6/dist-packages (from iterative-stratification) (1.4.1)\n",
      "Requirement already satisfied: python-dateutil>=2.6.1 in /usr/local/lib/python3.6/dist-packages (from pandas) (2.8.1)\n",
      "Requirement already satisfied: pytz>=2017.2 in /usr/local/lib/python3.6/dist-packages (from pandas) (2018.9)\n",
      "Requirement already satisfied: matplotlib in /usr/local/lib/python3.6/dist-packages (from pyss3) (3.2.1)\n",
      "Requirement already satisfied: tqdm>=4.8.4 in /usr/local/lib/python3.6/dist-packages (from pyss3) (4.41.1)\n",
      "Requirement already satisfied: cython in /usr/local/lib/python3.6/dist-packages (from pyss3) (0.29.20)\n",
      "Requirement already satisfied: six in /usr/local/lib/python3.6/dist-packages (from pyss3) (1.12.0)\n",
      "Requirement already satisfied: joblib>=0.11 in /usr/local/lib/python3.6/dist-packages (from scikit-learn->sklearn) (0.15.1)\n",
      "Requirement already satisfied: kiwisolver>=1.0.1 in /usr/local/lib/python3.6/dist-packages (from matplotlib->pyss3) (1.2.0)\n",
      "Requirement already satisfied: cycler>=0.10 in /usr/local/lib/python3.6/dist-packages (from matplotlib->pyss3) (0.10.0)\n",
      "Requirement already satisfied: pyparsing!=2.0.4,!=2.1.2,!=2.1.6,>=2.0.1 in /usr/local/lib/python3.6/dist-packages (from matplotlib->pyss3) (2.4.7)\n"
     ]
    }
   ],
   "source": [
    "# Dataloading Stuff\n",
    "from google.colab import drive\n",
    "from sys import path\n",
    "import os\n",
    "\n",
    "# Standard Stuff\n",
    "!pip3 install numpy sklearn iterative-stratification pandas pyss3\n",
    "from sklearn.model_selection import train_test_split\n",
    "import pyss3\n",
    "from pyss3 import SS3\n",
    "from pyss3.util import Dataset, Evaluation, span\n",
    "from sklearn.metrics import f1_score, confusion_matrix, ConfusionMatrixDisplay, accuracy_score\n",
    "import itertools\n",
    "import numpy as np\n",
    "import pandas as pd\n",
    "\n"
   ]
  },
  {
   "cell_type": "code",
   "execution_count": null,
   "metadata": {
    "colab": {
     "base_uri": "https://localhost:8080/",
     "height": 34
    },
    "colab_type": "code",
    "executionInfo": {
     "elapsed": 1602,
     "status": "ok",
     "timestamp": 1592751157613,
     "user": {
      "displayName": "Muneeb Vaiyani",
      "photoUrl": "",
      "userId": "08361947535252094250"
     },
     "user_tz": 0
    },
    "id": "g-PTfgQ2dzJW",
    "outputId": "53774a37-78f7-41ca-e4d5-216febf1fd51"
   },
   "outputs": [
    {
     "name": "stdout",
     "output_type": "stream",
     "text": [
      "Mounted at /content/drive\n"
     ]
    }
   ],
   "source": [
    "drive.mount('/content/drive', force_remount=True)\n",
    "path_root = '/content/drive/My Drive/NLP Lab/SingleLabel/'\n",
    "path.append(path_root)\n",
    "data_root = 'data/'"
   ]
  },
  {
   "cell_type": "code",
   "execution_count": null,
   "metadata": {
    "colab": {
     "base_uri": "https://localhost:8080/",
     "height": 52
    },
    "colab_type": "code",
    "executionInfo": {
     "elapsed": 20616,
     "status": "ok",
     "timestamp": 1592751182356,
     "user": {
      "displayName": "Muneeb Vaiyani",
      "photoUrl": "",
      "userId": "08361947535252094250"
     },
     "user_tz": 0
    },
    "id": "rm9Vpmz2q4A8",
    "outputId": "1fa78bb6-82a4-487c-e69d-ce9744100e38"
   },
   "outputs": [
    {
     "name": "stderr",
     "output_type": "stream",
     "text": [
      "[2/2] Loading 'neg' documents: 100%|██████████| 5000/5000 [00:11<00:00, 438.49it/s]\n",
      "[2/2] Loading 'neg' documents: 100%|██████████| 500/500 [00:00<00:00, 527.73it/s]\n"
     ]
    }
   ],
   "source": [
    "X_train, y_train = Dataset.load_from_files(path_root + data_root + \"TutorialMovieReview/train\")\n",
    "X_val, y_val = Dataset.load_from_files(path_root + data_root + \"TutorialMovieReview/test\")"
   ]
  },
  {
   "cell_type": "code",
   "execution_count": null,
   "metadata": {
    "colab": {
     "base_uri": "https://localhost:8080/",
     "height": 291
    },
    "colab_type": "code",
    "executionInfo": {
     "elapsed": 435,
     "status": "ok",
     "timestamp": 1592751188852,
     "user": {
      "displayName": "Muneeb Vaiyani",
      "photoUrl": "",
      "userId": "08361947535252094250"
     },
     "user_tz": 0
    },
    "id": "vATyM1SCToCO",
    "outputId": "ea7a1574-316a-43fc-87d0-f49a250eafbc"
   },
   "outputs": [
    {
     "data": {
      "text/plain": [
       "<matplotlib.axes._subplots.AxesSubplot at 0x7fdf1e65d5f8>"
      ]
     },
     "execution_count": 8,
     "metadata": {
      "tags": []
     },
     "output_type": "execute_result"
    },
    {
     "data": {
      "image/png": "[encoded data removed]",
      "text/plain": [
       "<Figure size 432x288 with 1 Axes>"
      ]
     },
     "metadata": {
      "needs_background": "light",
      "tags": []
     },
     "output_type": "display_data"
    }
   ],
   "source": [
    "pd.Series([yy for yy in y_train]).value_counts().plot(kind ='bar')"
   ]
  },
  {
   "cell_type": "code",
   "execution_count": null,
   "metadata": {
    "colab": {},
    "colab_type": "code",
    "id": "eZSgfoE5rK92"
   },
   "outputs": [],
   "source": [
    "def binarize_label(y_train):\n",
    "  data_by_class = {}\n",
    "  for label in set(y_train):\n",
    "    data_by_class[label] = [label if x == label else 'other' for x in y_train]\n",
    "  return data_by_class"
   ]
  },
  {
   "cell_type": "code",
   "execution_count": null,
   "metadata": {
    "colab": {},
    "colab_type": "code",
    "id": "iOg6LBmvtzOH"
   },
   "outputs": [],
   "source": [
    "def train_clfs(X_train, y_train):\n",
    "  clf_by_class = {}\n",
    "  if isinstance(y_train, dict):\n",
    "    for key, value in y_train.items():\n",
    "      clf = SS3(name=key)\n",
    "      clf.train(X_train, value,n_grams=5)\n",
    "      clf_by_class[key] = clf\n",
    "  else:\n",
    "    print(\"data per class not found\")\n",
    "  \n",
    "  return clf_by_class\n"
   ]
  },
  {
   "cell_type": "code",
   "execution_count": null,
   "metadata": {
    "colab": {},
    "colab_type": "code",
    "id": "mDvG8L_WgMKn"
   },
   "outputs": [],
   "source": [
    "def change_parameter(s,l,p,a, clfs):\n",
    "  for key, value in clfs.items():\n",
    "    value.set_hyperparameters(s,l,p,a)"
   ]
  },
  {
   "cell_type": "code",
   "execution_count": null,
   "metadata": {
    "colab": {},
    "colab_type": "code",
    "id": "QjhNvFxmwIRL"
   },
   "outputs": [],
   "source": [
    "def classify_clfs(data, clfs):\n",
    "  predict = {}\n",
    "  if isinstance(clfs, dict):\n",
    "    for key, value in clfs.items():\n",
    "      predict[key] = value.predict_proba(data) + [value.get_category_index(key)] \n",
    "  else:\n",
    "    print(\"clf per class not found\")\n",
    "\n",
    "  return predict\n"
   ]
  },
  {
   "cell_type": "code",
   "execution_count": null,
   "metadata": {
    "colab": {},
    "colab_type": "code",
    "id": "cGt3rTDZ0bJd"
   },
   "outputs": [],
   "source": [
    "def predicted(predicted_clfs, iterations):\n",
    "  predicted = []\n",
    "  for i in range(iterations):\n",
    "    last_value = 0\n",
    "    label = ''\n",
    "    for key, value in predicted_clfs.items():\n",
    "      score = value[i][value[-1]]\n",
    "      if score > last_value:\n",
    "        last_value = score\n",
    "        label = key\n",
    "    # print(\"last_value: \", last_value, \" and Label: \", label)\n",
    "    predicted.append(label)\n",
    "  return predicted"
   ]
  },
  {
   "cell_type": "markdown",
   "metadata": {
    "colab_type": "text",
    "id": "Ua6yJ-YZUbxN"
   },
   "source": [
    "# **DEFAULT COMPARISON**"
   ]
  },
  {
   "cell_type": "code",
   "execution_count": null,
   "metadata": {
    "colab": {
     "base_uri": "https://localhost:8080/",
     "height": 52
    },
    "colab_type": "code",
    "executionInfo": {
     "elapsed": 60881,
     "status": "ok",
     "timestamp": 1592751260995,
     "user": {
      "displayName": "Muneeb Vaiyani",
      "photoUrl": "",
      "userId": "08361947535252094250"
     },
     "user_tz": 0
    },
    "id": "f4BioesXvHcC",
    "outputId": "a50978cb-4fe7-4944-d865-329cc0e9d0ca"
   },
   "outputs": [
    {
     "name": "stderr",
     "output_type": "stream",
     "text": [
      "Training on 'other': 100%|██████████| 2/2 [00:28<00:00, 14.05s/it]\n",
      "Training on 'pos': 100%|██████████| 2/2 [00:25<00:00, 12.91s/it]\n"
     ]
    }
   ],
   "source": [
    "pyss3.set_verbosity(1)\n",
    "binarized_data = binarize_label(y_train)\n",
    "clfs = train_clfs(X_train, binarized_data)"
   ]
  },
  {
   "cell_type": "code",
   "execution_count": null,
   "metadata": {
    "colab": {
     "base_uri": "https://localhost:8080/",
     "height": 52
    },
    "colab_type": "code",
    "executionInfo": {
     "elapsed": 71398,
     "status": "ok",
     "timestamp": 1592751273688,
     "user": {
      "displayName": "Muneeb Vaiyani",
      "photoUrl": "",
      "userId": "08361947535252094250"
     },
     "user_tz": 0
    },
    "id": "MAXBBix4n9Lh",
    "outputId": "8503eb1d-9da1-4410-a0d0-73d135f06d44"
   },
   "outputs": [
    {
     "name": "stderr",
     "output_type": "stream",
     "text": [
      "Classification: 100%|██████████| 1000/1000 [00:06<00:00, 156.72it/s]\n",
      "Classification: 100%|██████████| 1000/1000 [00:06<00:00, 156.48it/s]\n"
     ]
    }
   ],
   "source": [
    "predicted_clfs = classify_clfs(X_val,clfs)\n",
    "y_pred = predicted(predicted_clfs, len(X_val))"
   ]
  },
  {
   "cell_type": "code",
   "execution_count": null,
   "metadata": {
    "colab": {
     "base_uri": "https://localhost:8080/",
     "height": 520
    },
    "colab_type": "code",
    "executionInfo": {
     "elapsed": 762,
     "status": "ok",
     "timestamp": 1592751301915,
     "user": {
      "displayName": "Muneeb Vaiyani",
      "photoUrl": "",
      "userId": "08361947535252094250"
     },
     "user_tz": 0
    },
    "id": "9gjaC4EBdqci",
    "outputId": "ae9f56f7-7d2c-48b7-8e79-6da12939be74"
   },
   "outputs": [
    {
     "name": "stdout",
     "output_type": "stream",
     "text": [
      "Macro F1 score :  0.862999862999863\n",
      "Micro F1 score:  0.863\n",
      " ------- \n"
     ]
    },
    {
     "data": {
      "image/png": "[encoded data removed]",
      "text/plain": [
       "<Figure size 576x576 with 2 Axes>"
      ]
     },
     "metadata": {
      "needs_background": "light",
      "tags": []
     },
     "output_type": "display_data"
    }
   ],
   "source": [
    "### one vs rest results ###\n",
    "\n",
    "print(\"Macro F1 score : \" , f1_score(y_val, y_pred, average='macro'))\n",
    "print(\"Micro F1 score: \" , f1_score(y_val, y_pred, average='micro'))\n",
    "print(\" ------- \")\n",
    "categories = list(set(y_val)) \n",
    "# ConfusionMatrixDisplay(confusion_matrix(y_val, y_pred, labels=categories),display_labels=categories).plot(values_format='.1f')\n",
    "Evaluation.__plot_confusion_matrices__([confusion_matrix(y_val, y_pred, labels=categories)], categories)"
   ]
  },
  {
   "cell_type": "code",
   "execution_count": null,
   "metadata": {
    "colab": {
     "base_uri": "https://localhost:8080/",
     "height": 775
    },
    "colab_type": "code",
    "executionInfo": {
     "elapsed": 39478,
     "status": "ok",
     "timestamp": 1592751351636,
     "user": {
      "displayName": "Muneeb Vaiyani",
      "photoUrl": "",
      "userId": "08361947535252094250"
     },
     "user_tz": 0
    },
    "id": "ZQN1EKLjeobU",
    "outputId": "92006021-99e3-4825-8e77-165356a9ec55"
   },
   "outputs": [
    {
     "name": "stderr",
     "output_type": "stream",
     "text": [
      "Training on 'pos': 100%|██████████| 2/2 [00:28<00:00, 14.42s/it]\n",
      "Classification: 100%|██████████| 1000/1000 [00:06<00:00, 151.44it/s]\n"
     ]
    },
    {
     "name": "stdout",
     "output_type": "stream",
     "text": [
      "\n",
      "              precision    recall  f1-score   support\n",
      "\n",
      "         neg       0.86      0.86      0.86       500\n",
      "         pos       0.86      0.86      0.86       500\n",
      "\n",
      "    accuracy                           0.86      1000\n",
      "   macro avg       0.86      0.86      0.86      1000\n",
      "weighted avg       0.86      0.86      0.86      1000\n",
      "\n",
      "\n",
      " \u001b[1mAccuracy\u001b[0m: 0.863\n",
      "\n",
      "\u001b[94m[ updating evaluations cache ]\u001b[0m\n"
     ]
    },
    {
     "data": {
      "image/png": "[encoded data removed]",
      "text/plain": [
       "<Figure size 576x576 with 2 Axes>"
      ]
     },
     "metadata": {
      "needs_background": "light",
      "tags": []
     },
     "output_type": "display_data"
    },
    {
     "data": {
      "text/plain": [
       "0.862999862999863"
      ]
     },
     "execution_count": 18,
     "metadata": {
      "tags": []
     },
     "output_type": "execute_result"
    }
   ],
   "source": [
    "## Default classifier result ##\n",
    "\n",
    "clf = SS3()\n",
    "clf.train(X_train, y_train,n_grams=5)\n",
    "Evaluation.test(clf, X_val, y_val, metric=\"f1-score\", metric_target='macro avg')"
   ]
  },
  {
   "cell_type": "code",
   "execution_count": 1,
   "metadata": {
    "colab": {},
    "colab_type": "code",
    "id": "ZWL7WeVLxBFz"
   },
   "outputs": [],
   "source": [
    "# s=span(0, 1, 11)  # [0.2 , 0.32, 0.44, 0.56, 0.68, 0.8]\n",
    "# l=span(0, 1, 6)   # [0.1 , 0.48, 0.86, 1.24, 1.62, 2]\n",
    "# p=span(0, 1, 6)   # [1.75, 1.95, 2.15, 2.35, 2.55, 2.75]\n",
    "# a=span(0, 5, 6)\n",
    "# slpa = list(itertools.product(s,l,p,a))\n",
    "# iterations = len(slpa)\n",
    "# divider = 50"
   ]
  },
  {
   "cell_type": "code",
   "execution_count": 2,
   "metadata": {
    "colab": {
     "base_uri": "https://localhost:8080/",
     "height": 452
    },
    "colab_type": "code",
    "executionInfo": {
     "elapsed": 3127063,
     "status": "error",
     "timestamp": 1592754562745,
     "user": {
      "displayName": "Muneeb Vaiyani",
      "photoUrl": "",
      "userId": "08361947535252094250"
     },
     "user_tz": 0
    },
    "id": "sAnOozMmfpNF",
    "outputId": "127a84ef-a87c-456c-9708-757a4c4c7a47"
   },
   "outputs": [],
   "source": [
    "# pyss3.set_verbosity(0)\n",
    "# current_iteration = 0\n",
    "# last_metric_value = 0\n",
    "# last_metric_value_default = 0\n",
    "# best_y_pred = []\n",
    "# best_y_pred_default = []\n",
    "# for s,l,p,a in slpa:\n",
    "#   current_iteration += 1\n",
    "#   print('\\r',current_iteration, end='')\n",
    "\n",
    "#   change_parameter(s,l,p,a,clfs)\n",
    "#   clf.set_hyperparameters(s,l,p,a)\n",
    "#   predicted_clfs = classify_clfs(X_val,clfs)\n",
    "#   y_pred = predicted(predicted_clfs, len(X_val))\n",
    "#   metric_value = f1_score(y_val, y_pred, average='macro')\n",
    "#   if(metric_value > last_metric_value):\n",
    "#     last_metric_value = metric_value\n",
    "#     best_y_pred = y_pred\n",
    "#     best = (s,l,p,a)  \n",
    "  \n",
    "#   clf.set_hyperparameters(s,l,p,a)\n",
    "#   y_pred_default = clf.predict(X_val)\n",
    "#   metric_value_default = f1_score(y_val, y_pred_default, average='macro')\n",
    "#   if(metric_value_default > last_metric_value_default):\n",
    "#     last_metric_value_default = metric_value_default\n",
    "#     best_y_pred_default = y_pred_default\n",
    "#     best_default = (s,l,p,a)   \n",
    "\n",
    "#   if(current_iteration%divider == 0):\n",
    "#     print(' -> best value so far: ', last_metric_value, ' -> best values: s={}, l={}, p={}, a={}'.format(best[0], best[1], best[2], best[3]), \"iterations: \", current_iteration, \"/\", iterations)\n",
    "#     print(' -> best value so far: ', last_metric_value_default, ' -> best values: s={}, l={}, p={}, a={}'.format(best_default[0], best_default[1], best_default[2], best_default[3]), \"iterations: \", current_iteration, \"/\", iterations)\n",
    "#     print('------------------------')"
   ]
  },
  {
   "cell_type": "code",
   "execution_count": 3,
   "metadata": {
    "colab": {
     "base_uri": "https://localhost:8080/",
     "height": 291
    },
    "colab_type": "code",
    "executionInfo": {
     "elapsed": 414,
     "status": "error",
     "timestamp": 1592754562953,
     "user": {
      "displayName": "Muneeb Vaiyani",
      "photoUrl": "",
      "userId": "08361947535252094250"
     },
     "user_tz": 0
    },
    "id": "B_YMUZWzfjbE",
    "outputId": "cb03165f-1d3a-40db-fc36-0ec856a7f4ee"
   },
   "outputs": [],
   "source": [
    "# print(\"F1 score micro: \" , f1_score(y_val, best_y_pred, average='micro'))\n",
    "# print(\"F1 score macro: \" , f1_score(y_val, best_y_pred, average='macro'))\n",
    "# print(\" ------- \")\n",
    "# categories = list(set(labels)) \n",
    "# ConfusionMatrixDisplay(confusion_matrix(y_val, best_y_pred, labels=categories),display_labels=categories).plot(values_format='.1f')"
   ]
  },
  {
   "cell_type": "code",
   "execution_count": 4,
   "metadata": {
    "colab": {
     "base_uri": "https://localhost:8080/",
     "height": 741
    },
    "colab_type": "code",
    "executionInfo": {
     "elapsed": 10543,
     "status": "ok",
     "timestamp": 1592754573104,
     "user": {
      "displayName": "Muneeb Vaiyani",
      "photoUrl": "",
      "userId": "08361947535252094250"
     },
     "user_tz": 0
    },
    "id": "a2wsfyWOjoiM",
    "outputId": "140cd4ad-d2fc-46a7-cf75-2a47f538a838"
   },
   "outputs": [],
   "source": [
    "# clf.set_hyperparameters(s=best_default[0], l=best_default[1], p=best_default[2], a=best_default[3])\n",
    "# Evaluation.test(clf, X_val, y_val)"
   ]
  },
  {
   "cell_type": "code",
   "execution_count": null,
   "metadata": {
    "colab": {},
    "colab_type": "code",
    "id": "vIRwdrbHnnaH"
   },
   "outputs": [],
   "source": []
  }
 ],
 "metadata": {
  "colab": {
   "authorship_tag": "ABX9TyP4SnqhvvWXidEnxDVN0N61",
   "collapsed_sections": [],
   "name": "one vs rest - Movie reviews.ipynb",
   "provenance": []
  },
  "kernelspec": {
   "display_name": "Python 3",
   "language": "python",
   "name": "python3"
  },
  "language_info": {
   "codemirror_mode": {
    "name": "ipython",
    "version": 3
   },
   "file_extension": ".py",
   "mimetype": "text/x-python",
   "name": "python",
   "nbconvert_exporter": "python",
   "pygments_lexer": "ipython3",
   "version": "3.7.3"
  }
 },
 "nbformat": 4,
 "nbformat_minor": 1
}
